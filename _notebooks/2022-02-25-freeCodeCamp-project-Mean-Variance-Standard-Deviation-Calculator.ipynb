{
  "nbformat": 4,
  "nbformat_minor": 0,
  "metadata": {
    "colab": {
      "name": "2022-02-25-freeCodeCamp-project-Mean-Variance-Standard-Deviation-Calculator.ipynb",
      "provenance": [],
      "collapsed_sections": [],
      "toc_visible": true,
      "authorship_tag": "ABX9TyPokvWKPLHKkGl00O6fk4dx",
      "include_colab_link": true
    },
    "kernelspec": {
      "name": "python3",
      "display_name": "Python 3"
    },
    "language_info": {
      "name": "python"
    }
  },
  "cells": [
    {
      "cell_type": "markdown",
      "metadata": {
        "id": "view-in-github",
        "colab_type": "text"
      },
      "source": [
        "<a href=\"https://colab.research.google.com/github/howard-haowen/blog.ai/blob/master/_notebooks/2022-02-25-freeCodeCamp-project-Mean-Variance-Standard-Deviation-Calculator.ipynb\" target=\"_parent\"><img src=\"https://colab.research.google.com/assets/colab-badge.svg\" alt=\"Open In Colab\"/></a>"
      ]
    },
    {
      "cell_type": "markdown",
      "source": [
        "# freeCodeCamp project Mean-Variance-Standard Deviation Calculator\n",
        "> To earn the freeCodeCamp certification on Data Analysis with Python, one has to complete five projects. This post goes through the details for the first one named Mean-Variance-Standard Deviation Calculator.\n",
        "\n",
        "- toc: true\n",
        "- branch: master\n",
        "- badges: true\n",
        "- categories: [numpy, freecodecamp, certificate]\n",
        "- image: images/median-mode-mean.jpeg"
      ],
      "metadata": {
        "id": "I6G95FR_xhlR"
      }
    },
    {
      "cell_type": "markdown",
      "source": [
        "![](https://github.com/howard-haowen/blog.ai/raw/master/images/median-mode-mean.jpeg 'Credit: www.andertoons.com')"
      ],
      "metadata": {
        "id": "BREaBMeKfoKZ"
      }
    },
    {
      "cell_type": "markdown",
      "source": [
        "# Intro"
      ],
      "metadata": {
        "id": "qRkNxG3Wkuqu"
      }
    },
    {
      "cell_type": "markdown",
      "source": [
        "[`freeCodeCamp`](https://www.freecodecamp.org) is a website where one can learn coding for free. Once you log in, you'll have free access to more than 8,000 tutorials 😇. What I like best about it is that you can earn free certifications by completing courses on various topics. These courses are pretty intense, and it'll take you at least 300 hours to finish any of them. For instance, I started `Data Analysis with Python`, `Scientific Computing with Python`, and `Machine Learning with Python` back in 2020, but didn't actually get any of them done until recently. \n",
        "\n",
        "The major challenge is that all these courses involve some coding projects, which require much more time and attention than just watch tutorial videos and do multiple-choice quizzes. But I finally nailed `Data Analysis with Python` and earned this certification 🙌!\n",
        "\n",
        "[![](https://github.com/howard-haowen/blog.ai/raw/master/images/freecodecamp-data-analysis-with-python.png)](https://www.freecodecamp.org/certification/howardj/data-analysis-with-python-v7)\n",
        "\n",
        "This particular course covers the following five projects:\n",
        "- Mean-Variance-Standard Deviation Calculator\n",
        "- Demographic Data Analyzer\n",
        "- Medical Data Visualizer\n",
        "- Page View Time Series Visualizer\n",
        "- Sea Level Predictor\n",
        "\n",
        "The tools you'll be using are `numpy` and `pandas` for data wrangling and `matplotlib` and `seaborn` for visualization. I've learned a lot By working on these projects, which are really worth my time. So I plan to document the learning process and write a post on each of the projects.\n",
        "\n",
        "I'm sure there are already some solutions somewhere on the internet, but I'll write down mine anyway and focus more on the thinking process than final codes. The only help I turned to was official documentations of Python libraries and some snippets on [`stackoverFlow`](https://stackoverflow.com/). \n",
        "\n",
        "With that, let's start with `Mean-Variance-Standard Deviation Calculator`, which is the easiest one of the five."
      ],
      "metadata": {
        "id": "UfoKuB1Okw04"
      }
    },
    {
      "cell_type": "markdown",
      "source": [
        "# Import"
      ],
      "metadata": {
        "id": "xSDGMtpCzGW3"
      }
    },
    {
      "cell_type": "markdown",
      "source": [
        "For this project, we need nothing but the `numpy` library, which is preinstalled on Colab. This graph that I found on `techvidvan.com` nicely summarizes 10 common uses of `numpy`. \n",
        "\n",
        "![](https://techvidvan.com/tutorials/wp-content/uploads/sites/2/2020/07/Uses-of-NumPy-1.jpg)"
      ],
      "metadata": {
        "id": "AuBItvVgr-PH"
      }
    },
    {
      "cell_type": "code",
      "source": [
        "import numpy as np"
      ],
      "metadata": {
        "id": "T49UFp6wr07s"
      },
      "execution_count": null,
      "outputs": []
    },
    {
      "cell_type": "markdown",
      "source": [
        "# Task instructions"
      ],
      "metadata": {
        "id": "C4McQ0kdyu5L"
      }
    },
    {
      "cell_type": "markdown",
      "source": [
        "Let's first clone [the project repo](https://github.com/freeCodeCamp/boilerplate-mean-variance-standard-deviation-calculator) and change the current directory to `boilerplate-mean-variance-standard-deviation-calculator`, where the `README.md` file contains the task instructions.\n",
        "\n"
      ],
      "metadata": {
        "id": "r79q6D0Gllvb"
      }
    },
    {
      "cell_type": "code",
      "source": [
        "#collapse_output\n",
        "!git clone https://github.com/freeCodeCamp/boilerplate-mean-variance-standard-deviation-calculator\n",
        "%cd boilerplate-mean-variance-standard-deviation-calculator\n",
        "readme = !cat README.md\n",
        "print(readme)"
      ],
      "metadata": {
        "colab": {
          "base_uri": "https://localhost:8080/"
        },
        "id": "tD9fg-aqe8o_",
        "outputId": "ec41b739-a78f-45bb-edc7-866422000033"
      },
      "execution_count": null,
      "outputs": [
        {
          "output_type": "stream",
          "name": "stdout",
          "text": [
            "Cloning into 'boilerplate-mean-variance-standard-deviation-calculator'...\n",
            "remote: Enumerating objects: 14, done.\u001b[K\n",
            "remote: Counting objects: 100% (14/14), done.\u001b[K\n",
            "remote: Compressing objects: 100% (12/12), done.\u001b[K\n",
            "remote: Total 14 (delta 3), reused 10 (delta 1), pack-reused 0\u001b[K\n",
            "Unpacking objects: 100% (14/14), done.\n",
            "/content/boilerplate-mean-variance-standard-deviation-calculator\n",
            "['### Assignment', '', 'Create a function named `calculate()` in `mean_var_std.py` that uses Numpy to output the mean, variance, standard deviation, max, min, and sum of the rows, columns, and elements in a 3 x 3 matrix. ', '', 'The input of the function should be a list containing 9 digits. The function should convert the list into a 3 x 3 Numpy array, and then return a dictionary containing the mean, variance, standard deviation, max, min, and sum along both axes and for the flattened matrix. ', '', 'The returned dictionary should follow this format:', '```py', '{', \"  'mean': [axis1, axis2, flattened],\", \"  'variance': [axis1, axis2, flattened],\", \"  'standard deviation': [axis1, axis2, flattened],\", \"  'max': [axis1, axis2, flattened],\", \"  'min': [axis1, axis2, flattened],\", \"  'sum': [axis1, axis2, flattened]\", '}', '```', '', 'If a list containing less than 9 elements is passed into the function, it should raise a `ValueError` exception with the message: \"List must contain nine numbers.\" The values in the returned dictionary should be lists and not Numpy arrays.', '', 'For example, `calculate([0,1,2,3,4,5,6,7,8])` should return:', '```py', '{', \"  'mean': [[3.0, 4.0, 5.0], [1.0, 4.0, 7.0], 4.0], \", \"  'variance': [[6.0, 6.0, 6.0], [0.6666666666666666, 0.6666666666666666, 0.6666666666666666], 6.666666666666667], \", \"  'standard deviation': [[2.449489742783178, 2.449489742783178, 2.449489742783178], [0.816496580927726, 0.816496580927726, 0.816496580927726], 2.581988897471611],\", \"  'max': [[6, 7, 8], [2, 5, 8], 8],\", \"  'min': [[0, 1, 2], [0, 3, 6], 0],\", \"  'sum': [[9, 12, 15], [3, 12, 21], 36]\", '}', '```', '', 'The unit tests for this project are in `test_module.py`.', '', '### Development', '', 'For development, you can use `main.py` to test your `calculate()` function. Click the \"run\" button and `main.py` will run.', '', '### Testing ', '', 'We imported the tests from `test_module.py` to `main.py` for your convenience. The tests will run automatically whenever you hit the \"run\" button.', '', '### Submitting', '', \"Copy your project's URL and submit it to freeCodeCamp.\"]\n"
          ]
        }
      ]
    },
    {
      "cell_type": "markdown",
      "source": [
        "But the plain text isn't pretty and hard to read. So I'll use the `rich` library to make it look **rich** 💰. "
      ],
      "metadata": {
        "id": "g-BJ8MU5mFL_"
      }
    },
    {
      "cell_type": "code",
      "source": [
        "#collapse_output\n",
        "!pip install rich"
      ],
      "metadata": {
        "colab": {
          "base_uri": "https://localhost:8080/"
        },
        "id": "7iLZbEKTipuB",
        "outputId": "c4e1b505-484f-4eea-a93c-0e18e428f1a2"
      },
      "execution_count": null,
      "outputs": [
        {
          "output_type": "stream",
          "name": "stdout",
          "text": [
            "Collecting rich\n",
            "  Downloading rich-11.2.0-py3-none-any.whl (217 kB)\n",
            "\u001b[?25l\r\u001b[K     |█▌                              | 10 kB 18.8 MB/s eta 0:00:01\r\u001b[K     |███                             | 20 kB 24.1 MB/s eta 0:00:01\r\u001b[K     |████▌                           | 30 kB 28.7 MB/s eta 0:00:01\r\u001b[K     |██████                          | 40 kB 24.6 MB/s eta 0:00:01\r\u001b[K     |███████▌                        | 51 kB 18.0 MB/s eta 0:00:01\r\u001b[K     |█████████                       | 61 kB 20.2 MB/s eta 0:00:01\r\u001b[K     |██████████▌                     | 71 kB 19.1 MB/s eta 0:00:01\r\u001b[K     |████████████                    | 81 kB 20.0 MB/s eta 0:00:01\r\u001b[K     |█████████████▋                  | 92 kB 21.4 MB/s eta 0:00:01\r\u001b[K     |███████████████                 | 102 kB 22.8 MB/s eta 0:00:01\r\u001b[K     |████████████████▋               | 112 kB 22.8 MB/s eta 0:00:01\r\u001b[K     |██████████████████              | 122 kB 22.8 MB/s eta 0:00:01\r\u001b[K     |███████████████████▋            | 133 kB 22.8 MB/s eta 0:00:01\r\u001b[K     |█████████████████████           | 143 kB 22.8 MB/s eta 0:00:01\r\u001b[K     |██████████████████████▋         | 153 kB 22.8 MB/s eta 0:00:01\r\u001b[K     |████████████████████████▏       | 163 kB 22.8 MB/s eta 0:00:01\r\u001b[K     |█████████████████████████▋      | 174 kB 22.8 MB/s eta 0:00:01\r\u001b[K     |███████████████████████████▏    | 184 kB 22.8 MB/s eta 0:00:01\r\u001b[K     |████████████████████████████▋   | 194 kB 22.8 MB/s eta 0:00:01\r\u001b[K     |██████████████████████████████▏ | 204 kB 22.8 MB/s eta 0:00:01\r\u001b[K     |███████████████████████████████▋| 215 kB 22.8 MB/s eta 0:00:01\r\u001b[K     |████████████████████████████████| 217 kB 22.8 MB/s \n",
            "\u001b[?25hCollecting commonmark<0.10.0,>=0.9.0\n",
            "  Downloading commonmark-0.9.1-py2.py3-none-any.whl (51 kB)\n",
            "\u001b[?25l\r\u001b[K     |██████▍                         | 10 kB 26.0 MB/s eta 0:00:01\r\u001b[K     |████████████▉                   | 20 kB 27.5 MB/s eta 0:00:01\r\u001b[K     |███████████████████▎            | 30 kB 33.3 MB/s eta 0:00:01\r\u001b[K     |█████████████████████████▋      | 40 kB 38.3 MB/s eta 0:00:01\r\u001b[K     |████████████████████████████████| 51 kB 4.6 MB/s \n",
            "\u001b[?25hCollecting colorama<0.5.0,>=0.4.0\n",
            "  Downloading colorama-0.4.4-py2.py3-none-any.whl (16 kB)\n",
            "Requirement already satisfied: pygments<3.0.0,>=2.6.0 in /usr/local/lib/python3.7/dist-packages (from rich) (2.6.1)\n",
            "Requirement already satisfied: typing-extensions<5.0,>=3.7.4 in /usr/local/lib/python3.7/dist-packages (from rich) (3.10.0.2)\n",
            "Installing collected packages: commonmark, colorama, rich\n",
            "Successfully installed colorama-0.4.4 commonmark-0.9.1 rich-11.2.0\n"
          ]
        }
      ]
    },
    {
      "cell_type": "markdown",
      "source": [
        "Now with the helper function `show_readme`, we can render the instructions in a **beautiful** format. "
      ],
      "metadata": {
        "id": "tsv3yGRBneTI"
      }
    },
    {
      "cell_type": "code",
      "source": [
        "from rich.console import Console\n",
        "from rich.markdown import Markdown\n",
        "\n",
        "def show_readme():\n",
        "    console = Console()\n",
        "    with open(\"README.md\") as readme:\n",
        "        markdown = Markdown(readme.read())\n",
        "    console.print(markdown)"
      ],
      "metadata": {
        "id": "D-1-APj1iQvc"
      },
      "execution_count": null,
      "outputs": []
    },
    {
      "cell_type": "markdown",
      "source": [
        "## Assignment"
      ],
      "metadata": {
        "id": "Z6Sq3f_Dc11i"
      }
    },
    {
      "cell_type": "markdown",
      "source": [
        "Here's original text for the assignment."
      ],
      "metadata": {
        "id": "fuw57oL3c-E3"
      }
    },
    {
      "cell_type": "code",
      "source": [
        "show_readme()"
      ],
      "metadata": {
        "colab": {
          "base_uri": "https://localhost:8080/",
          "height": 929
        },
        "id": "W21BX3GkiQsh",
        "outputId": "d6c9489e-6ee6-4631-9cb6-4eb6e09a60de"
      },
      "execution_count": null,
      "outputs": [
        {
          "output_type": "display_data",
          "data": {
            "text/html": [
              "<pre style=\"white-space:pre;overflow-x:auto;line-height:normal;font-family:Menlo,'DejaVu Sans Mono',consolas,'Courier New',monospace\">                                         <span style=\"font-weight: bold\">Assignment</span>                                          \n",
              "\n",
              "Create a function named <span style=\"color: #ffffff; text-decoration-color: #ffffff; background-color: #000000\">calculate()</span> in <span style=\"color: #ffffff; text-decoration-color: #ffffff; background-color: #000000\">mean_var_std.py</span> that uses Numpy to output the mean,   \n",
              "variance, standard deviation, max, min, and sum of the rows, columns, and elements in a 3 x 3\n",
              "matrix.                                                                                      \n",
              "\n",
              "The input of the function should be a list containing 9 digits. The function should convert  \n",
              "the list into a 3 x 3 Numpy array, and then return a dictionary containing the mean,         \n",
              "variance, standard deviation, max, min, and sum along both axes and for the flattened matrix.\n",
              "\n",
              "The returned dictionary should follow this format:                                           \n",
              "\n",
              "<span style=\"color: #7f7f7f; text-decoration-color: #7f7f7f\">┌───────────────────────────────────────────────────────────────────────────────────────────┐</span>\n",
              "<span style=\"color: #7f7f7f; text-decoration-color: #7f7f7f\">│</span> <span style=\"color: #f8f8f2; text-decoration-color: #f8f8f2; background-color: #272822\">{</span><span style=\"background-color: #272822\">                                                                                        </span> <span style=\"color: #7f7f7f; text-decoration-color: #7f7f7f\">│</span>\n",
              "<span style=\"color: #7f7f7f; text-decoration-color: #7f7f7f\">│</span> <span style=\"color: #f8f8f2; text-decoration-color: #f8f8f2; background-color: #272822\">  </span><span style=\"color: #e6db74; text-decoration-color: #e6db74; background-color: #272822\">'mean'</span><span style=\"color: #f8f8f2; text-decoration-color: #f8f8f2; background-color: #272822\">: [axis1, axis2, flattened],</span><span style=\"background-color: #272822\">                                                     </span> <span style=\"color: #7f7f7f; text-decoration-color: #7f7f7f\">│</span>\n",
              "<span style=\"color: #7f7f7f; text-decoration-color: #7f7f7f\">│</span> <span style=\"color: #f8f8f2; text-decoration-color: #f8f8f2; background-color: #272822\">  </span><span style=\"color: #e6db74; text-decoration-color: #e6db74; background-color: #272822\">'variance'</span><span style=\"color: #f8f8f2; text-decoration-color: #f8f8f2; background-color: #272822\">: [axis1, axis2, flattened],</span><span style=\"background-color: #272822\">                                                 </span> <span style=\"color: #7f7f7f; text-decoration-color: #7f7f7f\">│</span>\n",
              "<span style=\"color: #7f7f7f; text-decoration-color: #7f7f7f\">│</span> <span style=\"color: #f8f8f2; text-decoration-color: #f8f8f2; background-color: #272822\">  </span><span style=\"color: #e6db74; text-decoration-color: #e6db74; background-color: #272822\">'standard deviation'</span><span style=\"color: #f8f8f2; text-decoration-color: #f8f8f2; background-color: #272822\">: [axis1, axis2, flattened],</span><span style=\"background-color: #272822\">                                       </span> <span style=\"color: #7f7f7f; text-decoration-color: #7f7f7f\">│</span>\n",
              "<span style=\"color: #7f7f7f; text-decoration-color: #7f7f7f\">│</span> <span style=\"color: #f8f8f2; text-decoration-color: #f8f8f2; background-color: #272822\">  </span><span style=\"color: #e6db74; text-decoration-color: #e6db74; background-color: #272822\">'max'</span><span style=\"color: #f8f8f2; text-decoration-color: #f8f8f2; background-color: #272822\">: [axis1, axis2, flattened],</span><span style=\"background-color: #272822\">                                                      </span> <span style=\"color: #7f7f7f; text-decoration-color: #7f7f7f\">│</span>\n",
              "<span style=\"color: #7f7f7f; text-decoration-color: #7f7f7f\">│</span> <span style=\"color: #f8f8f2; text-decoration-color: #f8f8f2; background-color: #272822\">  </span><span style=\"color: #e6db74; text-decoration-color: #e6db74; background-color: #272822\">'min'</span><span style=\"color: #f8f8f2; text-decoration-color: #f8f8f2; background-color: #272822\">: [axis1, axis2, flattened],</span><span style=\"background-color: #272822\">                                                      </span> <span style=\"color: #7f7f7f; text-decoration-color: #7f7f7f\">│</span>\n",
              "<span style=\"color: #7f7f7f; text-decoration-color: #7f7f7f\">│</span> <span style=\"color: #f8f8f2; text-decoration-color: #f8f8f2; background-color: #272822\">  </span><span style=\"color: #e6db74; text-decoration-color: #e6db74; background-color: #272822\">'sum'</span><span style=\"color: #f8f8f2; text-decoration-color: #f8f8f2; background-color: #272822\">: [axis1, axis2, flattened]</span><span style=\"background-color: #272822\">                                                       </span> <span style=\"color: #7f7f7f; text-decoration-color: #7f7f7f\">│</span>\n",
              "<span style=\"color: #7f7f7f; text-decoration-color: #7f7f7f\">│</span> <span style=\"color: #f8f8f2; text-decoration-color: #f8f8f2; background-color: #272822\">}</span><span style=\"background-color: #272822\">                                                                                        </span> <span style=\"color: #7f7f7f; text-decoration-color: #7f7f7f\">│</span>\n",
              "<span style=\"color: #7f7f7f; text-decoration-color: #7f7f7f\">└───────────────────────────────────────────────────────────────────────────────────────────┘</span>\n",
              "\n",
              "If a list containing less than 9 elements is passed into the function, it should raise a     \n",
              "<span style=\"color: #ffffff; text-decoration-color: #ffffff; background-color: #000000\">ValueError</span> exception with the message: \"List must contain nine numbers.\" The values in the   \n",
              "returned dictionary should be lists and not Numpy arrays.                                    \n",
              "\n",
              "For example, <span style=\"color: #ffffff; text-decoration-color: #ffffff; background-color: #000000\">calculate([0,1,2,3,4,5,6,7,8])</span> should return:                                   \n",
              "\n",
              "<span style=\"color: #7f7f7f; text-decoration-color: #7f7f7f\">┌───────────────────────────────────────────────────────────────────────────────────────────┐</span>\n",
              "<span style=\"color: #7f7f7f; text-decoration-color: #7f7f7f\">│</span> <span style=\"color: #f8f8f2; text-decoration-color: #f8f8f2; background-color: #272822\">{</span><span style=\"background-color: #272822\">                                                                                        </span> <span style=\"color: #7f7f7f; text-decoration-color: #7f7f7f\">│</span>\n",
              "<span style=\"color: #7f7f7f; text-decoration-color: #7f7f7f\">│</span> <span style=\"color: #f8f8f2; text-decoration-color: #f8f8f2; background-color: #272822\">  </span><span style=\"color: #e6db74; text-decoration-color: #e6db74; background-color: #272822\">'mean'</span><span style=\"color: #f8f8f2; text-decoration-color: #f8f8f2; background-color: #272822\">: [[</span><span style=\"color: #ae81ff; text-decoration-color: #ae81ff; background-color: #272822\">3.0</span><span style=\"color: #f8f8f2; text-decoration-color: #f8f8f2; background-color: #272822\">, </span><span style=\"color: #ae81ff; text-decoration-color: #ae81ff; background-color: #272822\">4.0</span><span style=\"color: #f8f8f2; text-decoration-color: #f8f8f2; background-color: #272822\">, </span><span style=\"color: #ae81ff; text-decoration-color: #ae81ff; background-color: #272822\">5.0</span><span style=\"color: #f8f8f2; text-decoration-color: #f8f8f2; background-color: #272822\">], [</span><span style=\"color: #ae81ff; text-decoration-color: #ae81ff; background-color: #272822\">1.0</span><span style=\"color: #f8f8f2; text-decoration-color: #f8f8f2; background-color: #272822\">, </span><span style=\"color: #ae81ff; text-decoration-color: #ae81ff; background-color: #272822\">4.0</span><span style=\"color: #f8f8f2; text-decoration-color: #f8f8f2; background-color: #272822\">, </span><span style=\"color: #ae81ff; text-decoration-color: #ae81ff; background-color: #272822\">7.0</span><span style=\"color: #f8f8f2; text-decoration-color: #f8f8f2; background-color: #272822\">], </span><span style=\"color: #ae81ff; text-decoration-color: #ae81ff; background-color: #272822\">4.0</span><span style=\"color: #f8f8f2; text-decoration-color: #f8f8f2; background-color: #272822\">], </span><span style=\"background-color: #272822\">                                      </span> <span style=\"color: #7f7f7f; text-decoration-color: #7f7f7f\">│</span>\n",
              "<span style=\"color: #7f7f7f; text-decoration-color: #7f7f7f\">│</span> <span style=\"color: #f8f8f2; text-decoration-color: #f8f8f2; background-color: #272822\">  </span><span style=\"color: #e6db74; text-decoration-color: #e6db74; background-color: #272822\">'variance'</span><span style=\"color: #f8f8f2; text-decoration-color: #f8f8f2; background-color: #272822\">: [[</span><span style=\"color: #ae81ff; text-decoration-color: #ae81ff; background-color: #272822\">6.0</span><span style=\"color: #f8f8f2; text-decoration-color: #f8f8f2; background-color: #272822\">, </span><span style=\"color: #ae81ff; text-decoration-color: #ae81ff; background-color: #272822\">6.0</span><span style=\"color: #f8f8f2; text-decoration-color: #f8f8f2; background-color: #272822\">, </span><span style=\"color: #ae81ff; text-decoration-color: #ae81ff; background-color: #272822\">6.0</span><span style=\"color: #f8f8f2; text-decoration-color: #f8f8f2; background-color: #272822\">], [</span><span style=\"color: #ae81ff; text-decoration-color: #ae81ff; background-color: #272822\">0.6666666666666666</span><span style=\"color: #f8f8f2; text-decoration-color: #f8f8f2; background-color: #272822\">, </span><span style=\"color: #ae81ff; text-decoration-color: #ae81ff; background-color: #272822\">0.6666666666666666</span><span style=\"color: #f8f8f2; text-decoration-color: #f8f8f2; background-color: #272822\">, </span><span style=\"background-color: #272822\">                </span> <span style=\"color: #7f7f7f; text-decoration-color: #7f7f7f\">│</span>\n",
              "<span style=\"color: #7f7f7f; text-decoration-color: #7f7f7f\">│</span> <span style=\"color: #ae81ff; text-decoration-color: #ae81ff; background-color: #272822\">0.6666666666666666</span><span style=\"color: #f8f8f2; text-decoration-color: #f8f8f2; background-color: #272822\">], </span><span style=\"color: #ae81ff; text-decoration-color: #ae81ff; background-color: #272822\">6.666666666666667</span><span style=\"color: #f8f8f2; text-decoration-color: #f8f8f2; background-color: #272822\">], </span><span style=\"background-color: #272822\">                                                </span> <span style=\"color: #7f7f7f; text-decoration-color: #7f7f7f\">│</span>\n",
              "<span style=\"color: #7f7f7f; text-decoration-color: #7f7f7f\">│</span> <span style=\"color: #f8f8f2; text-decoration-color: #f8f8f2; background-color: #272822\">  </span><span style=\"color: #e6db74; text-decoration-color: #e6db74; background-color: #272822\">'standard deviation'</span><span style=\"color: #f8f8f2; text-decoration-color: #f8f8f2; background-color: #272822\">: [[</span><span style=\"color: #ae81ff; text-decoration-color: #ae81ff; background-color: #272822\">2.449489742783178</span><span style=\"color: #f8f8f2; text-decoration-color: #f8f8f2; background-color: #272822\">, </span><span style=\"color: #ae81ff; text-decoration-color: #ae81ff; background-color: #272822\">2.449489742783178</span><span style=\"color: #f8f8f2; text-decoration-color: #f8f8f2; background-color: #272822\">, </span><span style=\"color: #ae81ff; text-decoration-color: #ae81ff; background-color: #272822\">2.449489742783178</span><span style=\"color: #f8f8f2; text-decoration-color: #f8f8f2; background-color: #272822\">], </span><span style=\"background-color: #272822\">     </span> <span style=\"color: #7f7f7f; text-decoration-color: #7f7f7f\">│</span>\n",
              "<span style=\"color: #7f7f7f; text-decoration-color: #7f7f7f\">│</span> <span style=\"color: #f8f8f2; text-decoration-color: #f8f8f2; background-color: #272822\">[</span><span style=\"color: #ae81ff; text-decoration-color: #ae81ff; background-color: #272822\">0.816496580927726</span><span style=\"color: #f8f8f2; text-decoration-color: #f8f8f2; background-color: #272822\">, </span><span style=\"color: #ae81ff; text-decoration-color: #ae81ff; background-color: #272822\">0.816496580927726</span><span style=\"color: #f8f8f2; text-decoration-color: #f8f8f2; background-color: #272822\">, </span><span style=\"color: #ae81ff; text-decoration-color: #ae81ff; background-color: #272822\">0.816496580927726</span><span style=\"color: #f8f8f2; text-decoration-color: #f8f8f2; background-color: #272822\">], </span><span style=\"color: #ae81ff; text-decoration-color: #ae81ff; background-color: #272822\">2.581988897471611</span><span style=\"color: #f8f8f2; text-decoration-color: #f8f8f2; background-color: #272822\">],</span><span style=\"background-color: #272822\">           </span> <span style=\"color: #7f7f7f; text-decoration-color: #7f7f7f\">│</span>\n",
              "<span style=\"color: #7f7f7f; text-decoration-color: #7f7f7f\">│</span> <span style=\"color: #f8f8f2; text-decoration-color: #f8f8f2; background-color: #272822\">  </span><span style=\"color: #e6db74; text-decoration-color: #e6db74; background-color: #272822\">'max'</span><span style=\"color: #f8f8f2; text-decoration-color: #f8f8f2; background-color: #272822\">: [[</span><span style=\"color: #ae81ff; text-decoration-color: #ae81ff; background-color: #272822\">6</span><span style=\"color: #f8f8f2; text-decoration-color: #f8f8f2; background-color: #272822\">, </span><span style=\"color: #ae81ff; text-decoration-color: #ae81ff; background-color: #272822\">7</span><span style=\"color: #f8f8f2; text-decoration-color: #f8f8f2; background-color: #272822\">, </span><span style=\"color: #ae81ff; text-decoration-color: #ae81ff; background-color: #272822\">8</span><span style=\"color: #f8f8f2; text-decoration-color: #f8f8f2; background-color: #272822\">], [</span><span style=\"color: #ae81ff; text-decoration-color: #ae81ff; background-color: #272822\">2</span><span style=\"color: #f8f8f2; text-decoration-color: #f8f8f2; background-color: #272822\">, </span><span style=\"color: #ae81ff; text-decoration-color: #ae81ff; background-color: #272822\">5</span><span style=\"color: #f8f8f2; text-decoration-color: #f8f8f2; background-color: #272822\">, </span><span style=\"color: #ae81ff; text-decoration-color: #ae81ff; background-color: #272822\">8</span><span style=\"color: #f8f8f2; text-decoration-color: #f8f8f2; background-color: #272822\">], </span><span style=\"color: #ae81ff; text-decoration-color: #ae81ff; background-color: #272822\">8</span><span style=\"color: #f8f8f2; text-decoration-color: #f8f8f2; background-color: #272822\">],</span><span style=\"background-color: #272822\">                                                      </span> <span style=\"color: #7f7f7f; text-decoration-color: #7f7f7f\">│</span>\n",
              "<span style=\"color: #7f7f7f; text-decoration-color: #7f7f7f\">│</span> <span style=\"color: #f8f8f2; text-decoration-color: #f8f8f2; background-color: #272822\">  </span><span style=\"color: #e6db74; text-decoration-color: #e6db74; background-color: #272822\">'min'</span><span style=\"color: #f8f8f2; text-decoration-color: #f8f8f2; background-color: #272822\">: [[</span><span style=\"color: #ae81ff; text-decoration-color: #ae81ff; background-color: #272822\">0</span><span style=\"color: #f8f8f2; text-decoration-color: #f8f8f2; background-color: #272822\">, </span><span style=\"color: #ae81ff; text-decoration-color: #ae81ff; background-color: #272822\">1</span><span style=\"color: #f8f8f2; text-decoration-color: #f8f8f2; background-color: #272822\">, </span><span style=\"color: #ae81ff; text-decoration-color: #ae81ff; background-color: #272822\">2</span><span style=\"color: #f8f8f2; text-decoration-color: #f8f8f2; background-color: #272822\">], [</span><span style=\"color: #ae81ff; text-decoration-color: #ae81ff; background-color: #272822\">0</span><span style=\"color: #f8f8f2; text-decoration-color: #f8f8f2; background-color: #272822\">, </span><span style=\"color: #ae81ff; text-decoration-color: #ae81ff; background-color: #272822\">3</span><span style=\"color: #f8f8f2; text-decoration-color: #f8f8f2; background-color: #272822\">, </span><span style=\"color: #ae81ff; text-decoration-color: #ae81ff; background-color: #272822\">6</span><span style=\"color: #f8f8f2; text-decoration-color: #f8f8f2; background-color: #272822\">], </span><span style=\"color: #ae81ff; text-decoration-color: #ae81ff; background-color: #272822\">0</span><span style=\"color: #f8f8f2; text-decoration-color: #f8f8f2; background-color: #272822\">],</span><span style=\"background-color: #272822\">                                                      </span> <span style=\"color: #7f7f7f; text-decoration-color: #7f7f7f\">│</span>\n",
              "<span style=\"color: #7f7f7f; text-decoration-color: #7f7f7f\">│</span> <span style=\"color: #f8f8f2; text-decoration-color: #f8f8f2; background-color: #272822\">  </span><span style=\"color: #e6db74; text-decoration-color: #e6db74; background-color: #272822\">'sum'</span><span style=\"color: #f8f8f2; text-decoration-color: #f8f8f2; background-color: #272822\">: [[</span><span style=\"color: #ae81ff; text-decoration-color: #ae81ff; background-color: #272822\">9</span><span style=\"color: #f8f8f2; text-decoration-color: #f8f8f2; background-color: #272822\">, </span><span style=\"color: #ae81ff; text-decoration-color: #ae81ff; background-color: #272822\">12</span><span style=\"color: #f8f8f2; text-decoration-color: #f8f8f2; background-color: #272822\">, </span><span style=\"color: #ae81ff; text-decoration-color: #ae81ff; background-color: #272822\">15</span><span style=\"color: #f8f8f2; text-decoration-color: #f8f8f2; background-color: #272822\">], [</span><span style=\"color: #ae81ff; text-decoration-color: #ae81ff; background-color: #272822\">3</span><span style=\"color: #f8f8f2; text-decoration-color: #f8f8f2; background-color: #272822\">, </span><span style=\"color: #ae81ff; text-decoration-color: #ae81ff; background-color: #272822\">12</span><span style=\"color: #f8f8f2; text-decoration-color: #f8f8f2; background-color: #272822\">, </span><span style=\"color: #ae81ff; text-decoration-color: #ae81ff; background-color: #272822\">21</span><span style=\"color: #f8f8f2; text-decoration-color: #f8f8f2; background-color: #272822\">], </span><span style=\"color: #ae81ff; text-decoration-color: #ae81ff; background-color: #272822\">36</span><span style=\"color: #f8f8f2; text-decoration-color: #f8f8f2; background-color: #272822\">]</span><span style=\"background-color: #272822\">                                                  </span> <span style=\"color: #7f7f7f; text-decoration-color: #7f7f7f\">│</span>\n",
              "<span style=\"color: #7f7f7f; text-decoration-color: #7f7f7f\">│</span> <span style=\"color: #f8f8f2; text-decoration-color: #f8f8f2; background-color: #272822\">}</span><span style=\"background-color: #272822\">                                                                                        </span> <span style=\"color: #7f7f7f; text-decoration-color: #7f7f7f\">│</span>\n",
              "<span style=\"color: #7f7f7f; text-decoration-color: #7f7f7f\">└───────────────────────────────────────────────────────────────────────────────────────────┘</span>\n",
              "\n",
              "The unit tests for this project are in <span style=\"color: #ffffff; text-decoration-color: #ffffff; background-color: #000000\">test_module.py</span>.                                       \n",
              "\n",
              "                                         <span style=\"font-weight: bold\">Development</span>                                         \n",
              "\n",
              "For development, you can use <span style=\"color: #ffffff; text-decoration-color: #ffffff; background-color: #000000\">main.py</span> to test your <span style=\"color: #ffffff; text-decoration-color: #ffffff; background-color: #000000\">calculate()</span> function. Click the \"run\"      \n",
              "button and <span style=\"color: #ffffff; text-decoration-color: #ffffff; background-color: #000000\">main.py</span> will run.                                                                 \n",
              "\n",
              "                                           <span style=\"font-weight: bold\">Testing</span>                                           \n",
              "\n",
              "We imported the tests from <span style=\"color: #ffffff; text-decoration-color: #ffffff; background-color: #000000\">test_module.py</span> to <span style=\"color: #ffffff; text-decoration-color: #ffffff; background-color: #000000\">main.py</span> for your convenience. The tests will run\n",
              "automatically whenever you hit the \"run\" button.                                             \n",
              "\n",
              "                                         <span style=\"font-weight: bold\">Submitting</span>                                          \n",
              "\n",
              "Copy your project's URL and submit it to freeCodeCamp.                                       \n",
              "</pre>\n"
            ],
            "text/plain": [
              "                                         \u001b[1mAssignment\u001b[0m                                          \n",
              "\n",
              "Create a function named \u001b[97;40mcalculate()\u001b[0m in \u001b[97;40mmean_var_std.py\u001b[0m that uses Numpy to output the mean,   \n",
              "variance, standard deviation, max, min, and sum of the rows, columns, and elements in a 3 x 3\n",
              "matrix.                                                                                      \n",
              "\n",
              "The input of the function should be a list containing 9 digits. The function should convert  \n",
              "the list into a 3 x 3 Numpy array, and then return a dictionary containing the mean,         \n",
              "variance, standard deviation, max, min, and sum along both axes and for the flattened matrix.\n",
              "\n",
              "The returned dictionary should follow this format:                                           \n",
              "\n",
              "\u001b[2m┌───────────────────────────────────────────────────────────────────────────────────────────┐\u001b[0m\n",
              "\u001b[2m│\u001b[0m \u001b[38;2;248;248;242;48;2;39;40;34m{\u001b[0m\u001b[48;2;39;40;34m                                                                                        \u001b[0m \u001b[2m│\u001b[0m\n",
              "\u001b[2m│\u001b[0m \u001b[38;2;248;248;242;48;2;39;40;34m  \u001b[0m\u001b[38;2;230;219;116;48;2;39;40;34m'\u001b[0m\u001b[38;2;230;219;116;48;2;39;40;34mmean\u001b[0m\u001b[38;2;230;219;116;48;2;39;40;34m'\u001b[0m\u001b[38;2;248;248;242;48;2;39;40;34m:\u001b[0m\u001b[38;2;248;248;242;48;2;39;40;34m \u001b[0m\u001b[38;2;248;248;242;48;2;39;40;34m[\u001b[0m\u001b[38;2;248;248;242;48;2;39;40;34maxis1\u001b[0m\u001b[38;2;248;248;242;48;2;39;40;34m,\u001b[0m\u001b[38;2;248;248;242;48;2;39;40;34m \u001b[0m\u001b[38;2;248;248;242;48;2;39;40;34maxis2\u001b[0m\u001b[38;2;248;248;242;48;2;39;40;34m,\u001b[0m\u001b[38;2;248;248;242;48;2;39;40;34m \u001b[0m\u001b[38;2;248;248;242;48;2;39;40;34mflattened\u001b[0m\u001b[38;2;248;248;242;48;2;39;40;34m]\u001b[0m\u001b[38;2;248;248;242;48;2;39;40;34m,\u001b[0m\u001b[48;2;39;40;34m                                                     \u001b[0m \u001b[2m│\u001b[0m\n",
              "\u001b[2m│\u001b[0m \u001b[38;2;248;248;242;48;2;39;40;34m  \u001b[0m\u001b[38;2;230;219;116;48;2;39;40;34m'\u001b[0m\u001b[38;2;230;219;116;48;2;39;40;34mvariance\u001b[0m\u001b[38;2;230;219;116;48;2;39;40;34m'\u001b[0m\u001b[38;2;248;248;242;48;2;39;40;34m:\u001b[0m\u001b[38;2;248;248;242;48;2;39;40;34m \u001b[0m\u001b[38;2;248;248;242;48;2;39;40;34m[\u001b[0m\u001b[38;2;248;248;242;48;2;39;40;34maxis1\u001b[0m\u001b[38;2;248;248;242;48;2;39;40;34m,\u001b[0m\u001b[38;2;248;248;242;48;2;39;40;34m \u001b[0m\u001b[38;2;248;248;242;48;2;39;40;34maxis2\u001b[0m\u001b[38;2;248;248;242;48;2;39;40;34m,\u001b[0m\u001b[38;2;248;248;242;48;2;39;40;34m \u001b[0m\u001b[38;2;248;248;242;48;2;39;40;34mflattened\u001b[0m\u001b[38;2;248;248;242;48;2;39;40;34m]\u001b[0m\u001b[38;2;248;248;242;48;2;39;40;34m,\u001b[0m\u001b[48;2;39;40;34m                                                 \u001b[0m \u001b[2m│\u001b[0m\n",
              "\u001b[2m│\u001b[0m \u001b[38;2;248;248;242;48;2;39;40;34m  \u001b[0m\u001b[38;2;230;219;116;48;2;39;40;34m'\u001b[0m\u001b[38;2;230;219;116;48;2;39;40;34mstandard deviation\u001b[0m\u001b[38;2;230;219;116;48;2;39;40;34m'\u001b[0m\u001b[38;2;248;248;242;48;2;39;40;34m:\u001b[0m\u001b[38;2;248;248;242;48;2;39;40;34m \u001b[0m\u001b[38;2;248;248;242;48;2;39;40;34m[\u001b[0m\u001b[38;2;248;248;242;48;2;39;40;34maxis1\u001b[0m\u001b[38;2;248;248;242;48;2;39;40;34m,\u001b[0m\u001b[38;2;248;248;242;48;2;39;40;34m \u001b[0m\u001b[38;2;248;248;242;48;2;39;40;34maxis2\u001b[0m\u001b[38;2;248;248;242;48;2;39;40;34m,\u001b[0m\u001b[38;2;248;248;242;48;2;39;40;34m \u001b[0m\u001b[38;2;248;248;242;48;2;39;40;34mflattened\u001b[0m\u001b[38;2;248;248;242;48;2;39;40;34m]\u001b[0m\u001b[38;2;248;248;242;48;2;39;40;34m,\u001b[0m\u001b[48;2;39;40;34m                                       \u001b[0m \u001b[2m│\u001b[0m\n",
              "\u001b[2m│\u001b[0m \u001b[38;2;248;248;242;48;2;39;40;34m  \u001b[0m\u001b[38;2;230;219;116;48;2;39;40;34m'\u001b[0m\u001b[38;2;230;219;116;48;2;39;40;34mmax\u001b[0m\u001b[38;2;230;219;116;48;2;39;40;34m'\u001b[0m\u001b[38;2;248;248;242;48;2;39;40;34m:\u001b[0m\u001b[38;2;248;248;242;48;2;39;40;34m \u001b[0m\u001b[38;2;248;248;242;48;2;39;40;34m[\u001b[0m\u001b[38;2;248;248;242;48;2;39;40;34maxis1\u001b[0m\u001b[38;2;248;248;242;48;2;39;40;34m,\u001b[0m\u001b[38;2;248;248;242;48;2;39;40;34m \u001b[0m\u001b[38;2;248;248;242;48;2;39;40;34maxis2\u001b[0m\u001b[38;2;248;248;242;48;2;39;40;34m,\u001b[0m\u001b[38;2;248;248;242;48;2;39;40;34m \u001b[0m\u001b[38;2;248;248;242;48;2;39;40;34mflattened\u001b[0m\u001b[38;2;248;248;242;48;2;39;40;34m]\u001b[0m\u001b[38;2;248;248;242;48;2;39;40;34m,\u001b[0m\u001b[48;2;39;40;34m                                                      \u001b[0m \u001b[2m│\u001b[0m\n",
              "\u001b[2m│\u001b[0m \u001b[38;2;248;248;242;48;2;39;40;34m  \u001b[0m\u001b[38;2;230;219;116;48;2;39;40;34m'\u001b[0m\u001b[38;2;230;219;116;48;2;39;40;34mmin\u001b[0m\u001b[38;2;230;219;116;48;2;39;40;34m'\u001b[0m\u001b[38;2;248;248;242;48;2;39;40;34m:\u001b[0m\u001b[38;2;248;248;242;48;2;39;40;34m \u001b[0m\u001b[38;2;248;248;242;48;2;39;40;34m[\u001b[0m\u001b[38;2;248;248;242;48;2;39;40;34maxis1\u001b[0m\u001b[38;2;248;248;242;48;2;39;40;34m,\u001b[0m\u001b[38;2;248;248;242;48;2;39;40;34m \u001b[0m\u001b[38;2;248;248;242;48;2;39;40;34maxis2\u001b[0m\u001b[38;2;248;248;242;48;2;39;40;34m,\u001b[0m\u001b[38;2;248;248;242;48;2;39;40;34m \u001b[0m\u001b[38;2;248;248;242;48;2;39;40;34mflattened\u001b[0m\u001b[38;2;248;248;242;48;2;39;40;34m]\u001b[0m\u001b[38;2;248;248;242;48;2;39;40;34m,\u001b[0m\u001b[48;2;39;40;34m                                                      \u001b[0m \u001b[2m│\u001b[0m\n",
              "\u001b[2m│\u001b[0m \u001b[38;2;248;248;242;48;2;39;40;34m  \u001b[0m\u001b[38;2;230;219;116;48;2;39;40;34m'\u001b[0m\u001b[38;2;230;219;116;48;2;39;40;34msum\u001b[0m\u001b[38;2;230;219;116;48;2;39;40;34m'\u001b[0m\u001b[38;2;248;248;242;48;2;39;40;34m:\u001b[0m\u001b[38;2;248;248;242;48;2;39;40;34m \u001b[0m\u001b[38;2;248;248;242;48;2;39;40;34m[\u001b[0m\u001b[38;2;248;248;242;48;2;39;40;34maxis1\u001b[0m\u001b[38;2;248;248;242;48;2;39;40;34m,\u001b[0m\u001b[38;2;248;248;242;48;2;39;40;34m \u001b[0m\u001b[38;2;248;248;242;48;2;39;40;34maxis2\u001b[0m\u001b[38;2;248;248;242;48;2;39;40;34m,\u001b[0m\u001b[38;2;248;248;242;48;2;39;40;34m \u001b[0m\u001b[38;2;248;248;242;48;2;39;40;34mflattened\u001b[0m\u001b[38;2;248;248;242;48;2;39;40;34m]\u001b[0m\u001b[48;2;39;40;34m                                                       \u001b[0m \u001b[2m│\u001b[0m\n",
              "\u001b[2m│\u001b[0m \u001b[38;2;248;248;242;48;2;39;40;34m}\u001b[0m\u001b[48;2;39;40;34m                                                                                        \u001b[0m \u001b[2m│\u001b[0m\n",
              "\u001b[2m└───────────────────────────────────────────────────────────────────────────────────────────┘\u001b[0m\n",
              "\n",
              "If a list containing less than 9 elements is passed into the function, it should raise a     \n",
              "\u001b[97;40mValueError\u001b[0m exception with the message: \"List must contain nine numbers.\" The values in the   \n",
              "returned dictionary should be lists and not Numpy arrays.                                    \n",
              "\n",
              "For example, \u001b[97;40mcalculate([0,1,2,3,4,5,6,7,8])\u001b[0m should return:                                   \n",
              "\n",
              "\u001b[2m┌───────────────────────────────────────────────────────────────────────────────────────────┐\u001b[0m\n",
              "\u001b[2m│\u001b[0m \u001b[38;2;248;248;242;48;2;39;40;34m{\u001b[0m\u001b[48;2;39;40;34m                                                                                        \u001b[0m \u001b[2m│\u001b[0m\n",
              "\u001b[2m│\u001b[0m \u001b[38;2;248;248;242;48;2;39;40;34m  \u001b[0m\u001b[38;2;230;219;116;48;2;39;40;34m'\u001b[0m\u001b[38;2;230;219;116;48;2;39;40;34mmean\u001b[0m\u001b[38;2;230;219;116;48;2;39;40;34m'\u001b[0m\u001b[38;2;248;248;242;48;2;39;40;34m:\u001b[0m\u001b[38;2;248;248;242;48;2;39;40;34m \u001b[0m\u001b[38;2;248;248;242;48;2;39;40;34m[\u001b[0m\u001b[38;2;248;248;242;48;2;39;40;34m[\u001b[0m\u001b[38;2;174;129;255;48;2;39;40;34m3.0\u001b[0m\u001b[38;2;248;248;242;48;2;39;40;34m,\u001b[0m\u001b[38;2;248;248;242;48;2;39;40;34m \u001b[0m\u001b[38;2;174;129;255;48;2;39;40;34m4.0\u001b[0m\u001b[38;2;248;248;242;48;2;39;40;34m,\u001b[0m\u001b[38;2;248;248;242;48;2;39;40;34m \u001b[0m\u001b[38;2;174;129;255;48;2;39;40;34m5.0\u001b[0m\u001b[38;2;248;248;242;48;2;39;40;34m]\u001b[0m\u001b[38;2;248;248;242;48;2;39;40;34m,\u001b[0m\u001b[38;2;248;248;242;48;2;39;40;34m \u001b[0m\u001b[38;2;248;248;242;48;2;39;40;34m[\u001b[0m\u001b[38;2;174;129;255;48;2;39;40;34m1.0\u001b[0m\u001b[38;2;248;248;242;48;2;39;40;34m,\u001b[0m\u001b[38;2;248;248;242;48;2;39;40;34m \u001b[0m\u001b[38;2;174;129;255;48;2;39;40;34m4.0\u001b[0m\u001b[38;2;248;248;242;48;2;39;40;34m,\u001b[0m\u001b[38;2;248;248;242;48;2;39;40;34m \u001b[0m\u001b[38;2;174;129;255;48;2;39;40;34m7.0\u001b[0m\u001b[38;2;248;248;242;48;2;39;40;34m]\u001b[0m\u001b[38;2;248;248;242;48;2;39;40;34m,\u001b[0m\u001b[38;2;248;248;242;48;2;39;40;34m \u001b[0m\u001b[38;2;174;129;255;48;2;39;40;34m4.0\u001b[0m\u001b[38;2;248;248;242;48;2;39;40;34m]\u001b[0m\u001b[38;2;248;248;242;48;2;39;40;34m,\u001b[0m\u001b[38;2;248;248;242;48;2;39;40;34m \u001b[0m\u001b[48;2;39;40;34m                                      \u001b[0m \u001b[2m│\u001b[0m\n",
              "\u001b[2m│\u001b[0m \u001b[38;2;248;248;242;48;2;39;40;34m  \u001b[0m\u001b[38;2;230;219;116;48;2;39;40;34m'\u001b[0m\u001b[38;2;230;219;116;48;2;39;40;34mvariance\u001b[0m\u001b[38;2;230;219;116;48;2;39;40;34m'\u001b[0m\u001b[38;2;248;248;242;48;2;39;40;34m:\u001b[0m\u001b[38;2;248;248;242;48;2;39;40;34m \u001b[0m\u001b[38;2;248;248;242;48;2;39;40;34m[\u001b[0m\u001b[38;2;248;248;242;48;2;39;40;34m[\u001b[0m\u001b[38;2;174;129;255;48;2;39;40;34m6.0\u001b[0m\u001b[38;2;248;248;242;48;2;39;40;34m,\u001b[0m\u001b[38;2;248;248;242;48;2;39;40;34m \u001b[0m\u001b[38;2;174;129;255;48;2;39;40;34m6.0\u001b[0m\u001b[38;2;248;248;242;48;2;39;40;34m,\u001b[0m\u001b[38;2;248;248;242;48;2;39;40;34m \u001b[0m\u001b[38;2;174;129;255;48;2;39;40;34m6.0\u001b[0m\u001b[38;2;248;248;242;48;2;39;40;34m]\u001b[0m\u001b[38;2;248;248;242;48;2;39;40;34m,\u001b[0m\u001b[38;2;248;248;242;48;2;39;40;34m \u001b[0m\u001b[38;2;248;248;242;48;2;39;40;34m[\u001b[0m\u001b[38;2;174;129;255;48;2;39;40;34m0.6666666666666666\u001b[0m\u001b[38;2;248;248;242;48;2;39;40;34m,\u001b[0m\u001b[38;2;248;248;242;48;2;39;40;34m \u001b[0m\u001b[38;2;174;129;255;48;2;39;40;34m0.6666666666666666\u001b[0m\u001b[38;2;248;248;242;48;2;39;40;34m,\u001b[0m\u001b[38;2;248;248;242;48;2;39;40;34m \u001b[0m\u001b[48;2;39;40;34m                \u001b[0m \u001b[2m│\u001b[0m\n",
              "\u001b[2m│\u001b[0m \u001b[38;2;174;129;255;48;2;39;40;34m0.6666666666666666\u001b[0m\u001b[38;2;248;248;242;48;2;39;40;34m]\u001b[0m\u001b[38;2;248;248;242;48;2;39;40;34m,\u001b[0m\u001b[38;2;248;248;242;48;2;39;40;34m \u001b[0m\u001b[38;2;174;129;255;48;2;39;40;34m6.666666666666667\u001b[0m\u001b[38;2;248;248;242;48;2;39;40;34m]\u001b[0m\u001b[38;2;248;248;242;48;2;39;40;34m,\u001b[0m\u001b[38;2;248;248;242;48;2;39;40;34m \u001b[0m\u001b[48;2;39;40;34m                                                \u001b[0m \u001b[2m│\u001b[0m\n",
              "\u001b[2m│\u001b[0m \u001b[38;2;248;248;242;48;2;39;40;34m  \u001b[0m\u001b[38;2;230;219;116;48;2;39;40;34m'\u001b[0m\u001b[38;2;230;219;116;48;2;39;40;34mstandard deviation\u001b[0m\u001b[38;2;230;219;116;48;2;39;40;34m'\u001b[0m\u001b[38;2;248;248;242;48;2;39;40;34m:\u001b[0m\u001b[38;2;248;248;242;48;2;39;40;34m \u001b[0m\u001b[38;2;248;248;242;48;2;39;40;34m[\u001b[0m\u001b[38;2;248;248;242;48;2;39;40;34m[\u001b[0m\u001b[38;2;174;129;255;48;2;39;40;34m2.449489742783178\u001b[0m\u001b[38;2;248;248;242;48;2;39;40;34m,\u001b[0m\u001b[38;2;248;248;242;48;2;39;40;34m \u001b[0m\u001b[38;2;174;129;255;48;2;39;40;34m2.449489742783178\u001b[0m\u001b[38;2;248;248;242;48;2;39;40;34m,\u001b[0m\u001b[38;2;248;248;242;48;2;39;40;34m \u001b[0m\u001b[38;2;174;129;255;48;2;39;40;34m2.449489742783178\u001b[0m\u001b[38;2;248;248;242;48;2;39;40;34m]\u001b[0m\u001b[38;2;248;248;242;48;2;39;40;34m,\u001b[0m\u001b[38;2;248;248;242;48;2;39;40;34m \u001b[0m\u001b[48;2;39;40;34m     \u001b[0m \u001b[2m│\u001b[0m\n",
              "\u001b[2m│\u001b[0m \u001b[38;2;248;248;242;48;2;39;40;34m[\u001b[0m\u001b[38;2;174;129;255;48;2;39;40;34m0.816496580927726\u001b[0m\u001b[38;2;248;248;242;48;2;39;40;34m,\u001b[0m\u001b[38;2;248;248;242;48;2;39;40;34m \u001b[0m\u001b[38;2;174;129;255;48;2;39;40;34m0.816496580927726\u001b[0m\u001b[38;2;248;248;242;48;2;39;40;34m,\u001b[0m\u001b[38;2;248;248;242;48;2;39;40;34m \u001b[0m\u001b[38;2;174;129;255;48;2;39;40;34m0.816496580927726\u001b[0m\u001b[38;2;248;248;242;48;2;39;40;34m]\u001b[0m\u001b[38;2;248;248;242;48;2;39;40;34m,\u001b[0m\u001b[38;2;248;248;242;48;2;39;40;34m \u001b[0m\u001b[38;2;174;129;255;48;2;39;40;34m2.581988897471611\u001b[0m\u001b[38;2;248;248;242;48;2;39;40;34m]\u001b[0m\u001b[38;2;248;248;242;48;2;39;40;34m,\u001b[0m\u001b[48;2;39;40;34m           \u001b[0m \u001b[2m│\u001b[0m\n",
              "\u001b[2m│\u001b[0m \u001b[38;2;248;248;242;48;2;39;40;34m  \u001b[0m\u001b[38;2;230;219;116;48;2;39;40;34m'\u001b[0m\u001b[38;2;230;219;116;48;2;39;40;34mmax\u001b[0m\u001b[38;2;230;219;116;48;2;39;40;34m'\u001b[0m\u001b[38;2;248;248;242;48;2;39;40;34m:\u001b[0m\u001b[38;2;248;248;242;48;2;39;40;34m \u001b[0m\u001b[38;2;248;248;242;48;2;39;40;34m[\u001b[0m\u001b[38;2;248;248;242;48;2;39;40;34m[\u001b[0m\u001b[38;2;174;129;255;48;2;39;40;34m6\u001b[0m\u001b[38;2;248;248;242;48;2;39;40;34m,\u001b[0m\u001b[38;2;248;248;242;48;2;39;40;34m \u001b[0m\u001b[38;2;174;129;255;48;2;39;40;34m7\u001b[0m\u001b[38;2;248;248;242;48;2;39;40;34m,\u001b[0m\u001b[38;2;248;248;242;48;2;39;40;34m \u001b[0m\u001b[38;2;174;129;255;48;2;39;40;34m8\u001b[0m\u001b[38;2;248;248;242;48;2;39;40;34m]\u001b[0m\u001b[38;2;248;248;242;48;2;39;40;34m,\u001b[0m\u001b[38;2;248;248;242;48;2;39;40;34m \u001b[0m\u001b[38;2;248;248;242;48;2;39;40;34m[\u001b[0m\u001b[38;2;174;129;255;48;2;39;40;34m2\u001b[0m\u001b[38;2;248;248;242;48;2;39;40;34m,\u001b[0m\u001b[38;2;248;248;242;48;2;39;40;34m \u001b[0m\u001b[38;2;174;129;255;48;2;39;40;34m5\u001b[0m\u001b[38;2;248;248;242;48;2;39;40;34m,\u001b[0m\u001b[38;2;248;248;242;48;2;39;40;34m \u001b[0m\u001b[38;2;174;129;255;48;2;39;40;34m8\u001b[0m\u001b[38;2;248;248;242;48;2;39;40;34m]\u001b[0m\u001b[38;2;248;248;242;48;2;39;40;34m,\u001b[0m\u001b[38;2;248;248;242;48;2;39;40;34m \u001b[0m\u001b[38;2;174;129;255;48;2;39;40;34m8\u001b[0m\u001b[38;2;248;248;242;48;2;39;40;34m]\u001b[0m\u001b[38;2;248;248;242;48;2;39;40;34m,\u001b[0m\u001b[48;2;39;40;34m                                                      \u001b[0m \u001b[2m│\u001b[0m\n",
              "\u001b[2m│\u001b[0m \u001b[38;2;248;248;242;48;2;39;40;34m  \u001b[0m\u001b[38;2;230;219;116;48;2;39;40;34m'\u001b[0m\u001b[38;2;230;219;116;48;2;39;40;34mmin\u001b[0m\u001b[38;2;230;219;116;48;2;39;40;34m'\u001b[0m\u001b[38;2;248;248;242;48;2;39;40;34m:\u001b[0m\u001b[38;2;248;248;242;48;2;39;40;34m \u001b[0m\u001b[38;2;248;248;242;48;2;39;40;34m[\u001b[0m\u001b[38;2;248;248;242;48;2;39;40;34m[\u001b[0m\u001b[38;2;174;129;255;48;2;39;40;34m0\u001b[0m\u001b[38;2;248;248;242;48;2;39;40;34m,\u001b[0m\u001b[38;2;248;248;242;48;2;39;40;34m \u001b[0m\u001b[38;2;174;129;255;48;2;39;40;34m1\u001b[0m\u001b[38;2;248;248;242;48;2;39;40;34m,\u001b[0m\u001b[38;2;248;248;242;48;2;39;40;34m \u001b[0m\u001b[38;2;174;129;255;48;2;39;40;34m2\u001b[0m\u001b[38;2;248;248;242;48;2;39;40;34m]\u001b[0m\u001b[38;2;248;248;242;48;2;39;40;34m,\u001b[0m\u001b[38;2;248;248;242;48;2;39;40;34m \u001b[0m\u001b[38;2;248;248;242;48;2;39;40;34m[\u001b[0m\u001b[38;2;174;129;255;48;2;39;40;34m0\u001b[0m\u001b[38;2;248;248;242;48;2;39;40;34m,\u001b[0m\u001b[38;2;248;248;242;48;2;39;40;34m \u001b[0m\u001b[38;2;174;129;255;48;2;39;40;34m3\u001b[0m\u001b[38;2;248;248;242;48;2;39;40;34m,\u001b[0m\u001b[38;2;248;248;242;48;2;39;40;34m \u001b[0m\u001b[38;2;174;129;255;48;2;39;40;34m6\u001b[0m\u001b[38;2;248;248;242;48;2;39;40;34m]\u001b[0m\u001b[38;2;248;248;242;48;2;39;40;34m,\u001b[0m\u001b[38;2;248;248;242;48;2;39;40;34m \u001b[0m\u001b[38;2;174;129;255;48;2;39;40;34m0\u001b[0m\u001b[38;2;248;248;242;48;2;39;40;34m]\u001b[0m\u001b[38;2;248;248;242;48;2;39;40;34m,\u001b[0m\u001b[48;2;39;40;34m                                                      \u001b[0m \u001b[2m│\u001b[0m\n",
              "\u001b[2m│\u001b[0m \u001b[38;2;248;248;242;48;2;39;40;34m  \u001b[0m\u001b[38;2;230;219;116;48;2;39;40;34m'\u001b[0m\u001b[38;2;230;219;116;48;2;39;40;34msum\u001b[0m\u001b[38;2;230;219;116;48;2;39;40;34m'\u001b[0m\u001b[38;2;248;248;242;48;2;39;40;34m:\u001b[0m\u001b[38;2;248;248;242;48;2;39;40;34m \u001b[0m\u001b[38;2;248;248;242;48;2;39;40;34m[\u001b[0m\u001b[38;2;248;248;242;48;2;39;40;34m[\u001b[0m\u001b[38;2;174;129;255;48;2;39;40;34m9\u001b[0m\u001b[38;2;248;248;242;48;2;39;40;34m,\u001b[0m\u001b[38;2;248;248;242;48;2;39;40;34m \u001b[0m\u001b[38;2;174;129;255;48;2;39;40;34m12\u001b[0m\u001b[38;2;248;248;242;48;2;39;40;34m,\u001b[0m\u001b[38;2;248;248;242;48;2;39;40;34m \u001b[0m\u001b[38;2;174;129;255;48;2;39;40;34m15\u001b[0m\u001b[38;2;248;248;242;48;2;39;40;34m]\u001b[0m\u001b[38;2;248;248;242;48;2;39;40;34m,\u001b[0m\u001b[38;2;248;248;242;48;2;39;40;34m \u001b[0m\u001b[38;2;248;248;242;48;2;39;40;34m[\u001b[0m\u001b[38;2;174;129;255;48;2;39;40;34m3\u001b[0m\u001b[38;2;248;248;242;48;2;39;40;34m,\u001b[0m\u001b[38;2;248;248;242;48;2;39;40;34m \u001b[0m\u001b[38;2;174;129;255;48;2;39;40;34m12\u001b[0m\u001b[38;2;248;248;242;48;2;39;40;34m,\u001b[0m\u001b[38;2;248;248;242;48;2;39;40;34m \u001b[0m\u001b[38;2;174;129;255;48;2;39;40;34m21\u001b[0m\u001b[38;2;248;248;242;48;2;39;40;34m]\u001b[0m\u001b[38;2;248;248;242;48;2;39;40;34m,\u001b[0m\u001b[38;2;248;248;242;48;2;39;40;34m \u001b[0m\u001b[38;2;174;129;255;48;2;39;40;34m36\u001b[0m\u001b[38;2;248;248;242;48;2;39;40;34m]\u001b[0m\u001b[48;2;39;40;34m                                                  \u001b[0m \u001b[2m│\u001b[0m\n",
              "\u001b[2m│\u001b[0m \u001b[38;2;248;248;242;48;2;39;40;34m}\u001b[0m\u001b[48;2;39;40;34m                                                                                        \u001b[0m \u001b[2m│\u001b[0m\n",
              "\u001b[2m└───────────────────────────────────────────────────────────────────────────────────────────┘\u001b[0m\n",
              "\n",
              "The unit tests for this project are in \u001b[97;40mtest_module.py\u001b[0m.                                       \n",
              "\n",
              "                                         \u001b[1mDevelopment\u001b[0m                                         \n",
              "\n",
              "For development, you can use \u001b[97;40mmain.py\u001b[0m to test your \u001b[97;40mcalculate()\u001b[0m function. Click the \"run\"      \n",
              "button and \u001b[97;40mmain.py\u001b[0m will run.                                                                 \n",
              "\n",
              "                                           \u001b[1mTesting\u001b[0m                                           \n",
              "\n",
              "We imported the tests from \u001b[97;40mtest_module.py\u001b[0m to \u001b[97;40mmain.py\u001b[0m for your convenience. The tests will run\n",
              "automatically whenever you hit the \"run\" button.                                             \n",
              "\n",
              "                                         \u001b[1mSubmitting\u001b[0m                                          \n",
              "\n",
              "Copy your project's URL and submit it to freeCodeCamp.                                       \n"
            ]
          },
          "metadata": {}
        }
      ]
    },
    {
      "cell_type": "markdown",
      "source": [
        "# Steps"
      ],
      "metadata": {
        "id": "hw8IXlonzN2R"
      }
    },
    {
      "cell_type": "markdown",
      "source": [
        "Here're the steps that I'm gonna go through:\n",
        "\n",
        "1. I'll create a variable named `matrix`, which holds 9 numbers in a 3x3 matrix. \n",
        "2. I'll calculate the values for summation on the matrix to see if everything works as expected. \n",
        "3. I'll wrap the calculating process in a general function named `get_results`."
      ],
      "metadata": {
        "id": "-eYrhcGdpgst"
      }
    },
    {
      "cell_type": "markdown",
      "source": [
        "## Create a matrix"
      ],
      "metadata": {
        "id": "-ZGf-aa_zW1D"
      }
    },
    {
      "cell_type": "markdown",
      "source": [
        "One of the easiest ways to create a matrix is to call the `np.array` function with a list of numbers, which is turned into a NumPy one-dimentional array. Then you just call the `reshape` method on it to make it two-dimentional. "
      ],
      "metadata": {
        "id": "yqNXz37Iox4z"
      }
    },
    {
      "cell_type": "code",
      "source": [
        "input = [num for num in range(9)]\n",
        "arr = np.array(input)\n",
        "matrix = arr.reshape(3, 3)"
      ],
      "metadata": {
        "id": "k4rVC0lF3x4N"
      },
      "execution_count": null,
      "outputs": []
    },
    {
      "cell_type": "code",
      "source": [
        "print(f\"arr:\\n{arr}\")\n",
        "print(f\"matrix:\\n{matrix}\")"
      ],
      "metadata": {
        "colab": {
          "base_uri": "https://localhost:8080/"
        },
        "id": "93QXeJff5lDb",
        "outputId": "aa007d45-e5e7-4d99-d90c-85defef53a94"
      },
      "execution_count": null,
      "outputs": [
        {
          "output_type": "stream",
          "name": "stdout",
          "text": [
            "arr:\n",
            "[0 1 2 3 4 5 6 7 8]\n",
            "matrix:\n",
            "[[0 1 2]\n",
            " [3 4 5]\n",
            " [6 7 8]]\n"
          ]
        }
      ]
    },
    {
      "cell_type": "markdown",
      "source": [
        "## Calculate the sum"
      ],
      "metadata": {
        "id": "vxJpg9RxzfPW"
      }
    },
    {
      "cell_type": "markdown",
      "source": [
        "To get the sum of all the numbers in `matrix`, just call the `sum` method on it. "
      ],
      "metadata": {
        "id": "nwfrFmRp6TQf"
      }
    },
    {
      "cell_type": "code",
      "source": [
        "flattened_sum = matrix.sum()\n",
        "flattened_sum"
      ],
      "metadata": {
        "colab": {
          "base_uri": "https://localhost:8080/"
        },
        "id": "KwKlF-vV4_j_",
        "outputId": "9397a3c2-a6a1-4568-8ba5-f0dd12187a46"
      },
      "execution_count": null,
      "outputs": [
        {
          "output_type": "execute_result",
          "data": {
            "text/plain": [
              "36"
            ]
          },
          "metadata": {},
          "execution_count": 22
        }
      ]
    },
    {
      "cell_type": "markdown",
      "source": [
        "That was easy, but what comes next can be confusing. We're supposed to do summation along two axes, so let's first figure out whether `axis1` contains results calcuated along columns or rows. It turns out that we'll get the sum of all the numbers along a column when we call the `sum` method on `matrix` with the `axis` argument specified as `0` and along a row when the `axis` value is `1`. "
      ],
      "metadata": {
        "id": "Pv2dDEXd6hnO"
      }
    },
    {
      "cell_type": "code",
      "source": [
        "axis1_sum = matrix.sum(axis=0)\n",
        "axis2_sum = matrix.sum(axis=1)\n",
        "print(f\"axis1_sum: \\n{axis1_sum}\")\n",
        "print(f\"axis2_sum: \\n{axis2_sum}\")"
      ],
      "metadata": {
        "colab": {
          "base_uri": "https://localhost:8080/"
        },
        "id": "t0gVjx3W6rgx",
        "outputId": "a1e624cb-89ab-4a63-f701-2a845c59db8e"
      },
      "execution_count": null,
      "outputs": [
        {
          "output_type": "stream",
          "name": "stdout",
          "text": [
            "axis1_sum: \n",
            "[ 9 12 15]\n",
            "axis2_sum: \n",
            "[ 3 12 21]\n"
          ]
        }
      ]
    },
    {
      "cell_type": "markdown",
      "source": [
        "The following graph illustrates the idea better than what I just said. \n",
        "\n",
        "![](https://i.stack.imgur.com/4pFuZ.png)"
      ],
      "metadata": {
        "id": "lHnmyJH1C14O"
      }
    },
    {
      "cell_type": "markdown",
      "source": [
        "Notice that `axis1_sum` is a NumPy array, but we're supposed to return it as a list. So we call the `tolist` method on `axis1_sum` to do the conversion. "
      ],
      "metadata": {
        "id": "P6EZLCexqU3r"
      }
    },
    {
      "cell_type": "code",
      "source": [
        "old_type = type(axis1_sum)\n",
        "axis1_sum = axis1_sum.tolist()\n",
        "new_type = type(axis1_sum)\n",
        "print(f\"Old type: {old_type}\")\n",
        "print(f\"New type: {new_type}\")"
      ],
      "metadata": {
        "colab": {
          "base_uri": "https://localhost:8080/"
        },
        "id": "Cl9b3TjyqUWr",
        "outputId": "650fc133-82dd-4bd3-c72d-99e98bc369da"
      },
      "execution_count": null,
      "outputs": [
        {
          "output_type": "stream",
          "name": "stdout",
          "text": [
            "Old type: <class 'numpy.ndarray'>\n",
            "New type: <class 'list'>\n"
          ]
        }
      ]
    },
    {
      "cell_type": "markdown",
      "source": [
        "## Wrap calculations in a function"
      ],
      "metadata": {
        "id": "W9ocCgHDzk-h"
      }
    },
    {
      "cell_type": "markdown",
      "source": [
        "Now that we've figured out how to get the values of `axis1`, `axis2`, and `flattened` for summation, we can just repeat the same process for the other 5 mathematical operations. So let's wrap the calculating process in a general function called  `get_results`. It takes two arguments, one being `op` for the name of the mathematical operation to be done, and the other `matrix`. Luckily 😀, the `numpy` API is quite consistent across the 6 operations, so for each mathematical operation we just need to change the method name accordingly.  \n"
      ],
      "metadata": {
        "id": "ar6PN1P3uXzW"
      }
    },
    {
      "cell_type": "code",
      "source": [
        "#collapse\n",
        "def get_results(op, matrix):\n",
        "    if op == \"sum\":\n",
        "        axis1 = matrix.sum(axis=0).tolist()\n",
        "        axis2 = matrix.sum(axis=1).tolist()\n",
        "        flattened = matrix.sum()\n",
        "    elif op == \"min\":\n",
        "        axis1 = matrix.min(axis=0).tolist()\n",
        "        axis2 = matrix.min(axis=1).tolist()\n",
        "        flattened = matrix.min()\n",
        "    elif op == \"max\":\n",
        "        axis1 = matrix.max(axis=0).tolist()\n",
        "        axis2 = matrix.max(axis=1).tolist()\n",
        "        flattened = matrix.max()\n",
        "    elif op == \"std\":\n",
        "        axis1 = matrix.std(axis=0).tolist()\n",
        "        axis2 = matrix.std(axis=1).tolist()\n",
        "        flattened = matrix.std()\n",
        "    elif op == \"var\":\n",
        "        axis1 = matrix.var(axis=0).tolist()\n",
        "        axis2 = matrix.var(axis=1).tolist()\n",
        "        flattened = matrix.var()\n",
        "    elif op == \"mean\":\n",
        "        axis1 = matrix.mean(axis=0).tolist()\n",
        "        axis2 = matrix.mean(axis=1).tolist()\n",
        "        flattened = matrix.mean()\n",
        "    return [axis1, axis2, flattened]"
      ],
      "metadata": {
        "id": "v0tgBajVD87S"
      },
      "execution_count": null,
      "outputs": []
    },
    {
      "cell_type": "markdown",
      "source": [
        "Now let's test the function with `sum` and `var`, for the sum and variance respectively. "
      ],
      "metadata": {
        "id": "NoJsXKkdbOZE"
      }
    },
    {
      "cell_type": "code",
      "source": [
        "get_results(\"sum\", matrix)"
      ],
      "metadata": {
        "colab": {
          "base_uri": "https://localhost:8080/"
        },
        "id": "7-jlZoKf54Cl",
        "outputId": "e99fe274-8c13-4dd1-da08-844486d4f249"
      },
      "execution_count": null,
      "outputs": [
        {
          "output_type": "execute_result",
          "data": {
            "text/plain": [
              "[[9, 12, 15], [3, 12, 21], 36]"
            ]
          },
          "metadata": {},
          "execution_count": 8
        }
      ]
    },
    {
      "cell_type": "code",
      "source": [
        "get_results(\"var\", matrix)"
      ],
      "metadata": {
        "colab": {
          "base_uri": "https://localhost:8080/"
        },
        "id": "EjP90na6uIGY",
        "outputId": "791b9e98-ce45-4447-ac18-e675b2bed9d7"
      },
      "execution_count": null,
      "outputs": [
        {
          "output_type": "execute_result",
          "data": {
            "text/plain": [
              "[[6.0, 6.0, 6.0],\n",
              " [0.6666666666666666, 0.6666666666666666, 0.6666666666666666],\n",
              " 6.666666666666667]"
            ]
          },
          "metadata": {},
          "execution_count": 10
        }
      ]
    },
    {
      "cell_type": "markdown",
      "source": [
        "The last thing that needs to be taken care of is error handling. We just need to raise `ValueError` with a specific message when the length of the input list is not 9."
      ],
      "metadata": {
        "id": "ILkepQZ9dUI2"
      }
    },
    {
      "cell_type": "code",
      "source": [
        "def calculate(mylist):\n",
        "    if len(mylist) != 9:\n",
        "        raise ValueError(\"List must contain nine numbers.\")\n",
        "    else:\n",
        "        pass"
      ],
      "metadata": {
        "id": "pO1ciR0ogee-"
      },
      "execution_count": null,
      "outputs": []
    },
    {
      "cell_type": "code",
      "source": [
        "mylist = [1, 2, 3]\n",
        "calculate(mylist)"
      ],
      "metadata": {
        "colab": {
          "base_uri": "https://localhost:8080/",
          "height": 322
        },
        "id": "lDUb658-dQE3",
        "outputId": "864901ce-8a4b-4dda-8466-f61f490f3eaa"
      },
      "execution_count": null,
      "outputs": [
        {
          "output_type": "error",
          "ename": "ValueError",
          "evalue": "ignored",
          "traceback": [
            "\u001b[0;31m---------------------------------------------------------------------------\u001b[0m",
            "\u001b[0;31mValueError\u001b[0m                                Traceback (most recent call last)",
            "\u001b[0;32m<ipython-input-3-6ee8fb3f03c3>\u001b[0m in \u001b[0;36m<module>\u001b[0;34m()\u001b[0m\n\u001b[1;32m      6\u001b[0m \u001b[0;34m\u001b[0m\u001b[0m\n\u001b[1;32m      7\u001b[0m \u001b[0mmylist\u001b[0m \u001b[0;34m=\u001b[0m \u001b[0;34m[\u001b[0m\u001b[0;36m1\u001b[0m\u001b[0;34m,\u001b[0m \u001b[0;36m2\u001b[0m\u001b[0;34m,\u001b[0m \u001b[0;36m3\u001b[0m\u001b[0;34m]\u001b[0m\u001b[0;34m\u001b[0m\u001b[0;34m\u001b[0m\u001b[0m\n\u001b[0;32m----> 8\u001b[0;31m \u001b[0mcalculate\u001b[0m\u001b[0;34m(\u001b[0m\u001b[0mmylist\u001b[0m\u001b[0;34m)\u001b[0m\u001b[0;34m\u001b[0m\u001b[0;34m\u001b[0m\u001b[0m\n\u001b[0m",
            "\u001b[0;32m<ipython-input-3-6ee8fb3f03c3>\u001b[0m in \u001b[0;36mcalculate\u001b[0;34m(mylist)\u001b[0m\n\u001b[1;32m      1\u001b[0m \u001b[0;32mdef\u001b[0m \u001b[0mcalculate\u001b[0m\u001b[0;34m(\u001b[0m\u001b[0mmylist\u001b[0m\u001b[0;34m)\u001b[0m\u001b[0;34m:\u001b[0m\u001b[0;34m\u001b[0m\u001b[0;34m\u001b[0m\u001b[0m\n\u001b[1;32m      2\u001b[0m     \u001b[0;32mif\u001b[0m \u001b[0mlen\u001b[0m\u001b[0;34m(\u001b[0m\u001b[0mmylist\u001b[0m\u001b[0;34m)\u001b[0m \u001b[0;34m!=\u001b[0m \u001b[0;36m9\u001b[0m\u001b[0;34m:\u001b[0m\u001b[0;34m\u001b[0m\u001b[0;34m\u001b[0m\u001b[0m\n\u001b[0;32m----> 3\u001b[0;31m         \u001b[0;32mraise\u001b[0m \u001b[0mValueError\u001b[0m\u001b[0;34m(\u001b[0m\u001b[0;34m\"List must contain nine numbers.\"\u001b[0m\u001b[0;34m)\u001b[0m\u001b[0;34m\u001b[0m\u001b[0;34m\u001b[0m\u001b[0m\n\u001b[0m\u001b[1;32m      4\u001b[0m     \u001b[0;32melse\u001b[0m\u001b[0;34m:\u001b[0m\u001b[0;34m\u001b[0m\u001b[0;34m\u001b[0m\u001b[0m\n\u001b[1;32m      5\u001b[0m         \u001b[0;32mpass\u001b[0m\u001b[0;34m\u001b[0m\u001b[0;34m\u001b[0m\u001b[0m\n",
            "\u001b[0;31mValueError\u001b[0m: List must contain nine numbers."
          ]
        }
      ]
    },
    {
      "cell_type": "markdown",
      "source": [
        "# Put it together"
      ],
      "metadata": {
        "id": "TXDrB8rOcoC4"
      }
    },
    {
      "cell_type": "markdown",
      "source": [
        "Finally, our final codes should be saved as `mean_var_std.py` and look like this:"
      ],
      "metadata": {
        "id": "h6OCIfHacqjW"
      }
    },
    {
      "cell_type": "code",
      "source": [
        "#collapse_show\n",
        "\n",
        "import numpy as np\n",
        "\n",
        "def get_results(op, matrix):\n",
        "    if op == \"sum\":\n",
        "        axis1 = matrix.sum(axis=0).tolist()\n",
        "        axis2 = matrix.sum(axis=1).tolist()\n",
        "        flattened = matrix.sum()\n",
        "    elif op == \"min\":\n",
        "        axis1 = matrix.min(axis=0).tolist()\n",
        "        axis2 = matrix.min(axis=1).tolist()\n",
        "        flattened = matrix.min()\n",
        "    elif op == \"max\":\n",
        "        axis1 = matrix.max(axis=0).tolist()\n",
        "        axis2 = matrix.max(axis=1).tolist()\n",
        "        flattened = matrix.max()\n",
        "    elif op == \"std\":\n",
        "        axis1 = matrix.std(axis=0).tolist()\n",
        "        axis2 = matrix.std(axis=1).tolist()\n",
        "        flattened = matrix.std()\n",
        "    elif op == \"var\":\n",
        "        axis1 = matrix.var(axis=0).tolist()\n",
        "        axis2 = matrix.var(axis=1).tolist()\n",
        "        flattened = matrix.var()\n",
        "    elif op == \"mean\":\n",
        "        axis1 = matrix.mean(axis=0).tolist()\n",
        "        axis2 = matrix.mean(axis=1).tolist()\n",
        "        flattened = matrix.mean()\n",
        "    return [axis1, axis2, flattened]\n",
        "\n",
        "def calculate(mylist):\n",
        "    if len(mylist) != 9:\n",
        "        raise ValueError(\"List must contain nine numbers.\")\n",
        "  \n",
        "    else:\n",
        "        matrix = np.array(mylist).reshape(3, 3)\n",
        "        calculations = {\n",
        "                        'mean': get_results('mean', matrix),\n",
        "                        'variance': get_results('var', matrix),\n",
        "                        'standard deviation': get_results('std', matrix),\n",
        "                        'max': get_results('max', matrix),\n",
        "                        'min': get_results('min', matrix),\n",
        "                        'sum': get_results('sum', matrix),\n",
        "                        }\n",
        "\n",
        "    return calculations"
      ],
      "metadata": {
        "id": "-8W5dMF8GdMI"
      },
      "execution_count": null,
      "outputs": []
    },
    {
      "cell_type": "markdown",
      "source": [
        "Let's test the `calculate` function to ensure it works just as expected. And it did 🙌!  "
      ],
      "metadata": {
        "id": "HEKYO916hEQl"
      }
    },
    {
      "cell_type": "code",
      "source": [
        "input = [0,1,2,3,4,5,6,7,8]\n",
        "calculate(input)"
      ],
      "metadata": {
        "colab": {
          "base_uri": "https://localhost:8080/"
        },
        "id": "Qt1v_0lL6wqd",
        "outputId": "dfddbea5-7b8a-42aa-bbd3-c28b5a440390"
      },
      "execution_count": null,
      "outputs": [
        {
          "output_type": "execute_result",
          "data": {
            "text/plain": [
              "{'max': [[6, 7, 8], [2, 5, 8], 8],\n",
              " 'mean': [[3.0, 4.0, 5.0], [1.0, 4.0, 7.0], 4.0],\n",
              " 'min': [[0, 1, 2], [0, 3, 6], 0],\n",
              " 'standard deviation': [[2.449489742783178,\n",
              "   2.449489742783178,\n",
              "   2.449489742783178],\n",
              "  [0.816496580927726, 0.816496580927726, 0.816496580927726],\n",
              "  2.581988897471611],\n",
              " 'sum': [[9, 12, 15], [3, 12, 21], 36],\n",
              " 'variance': [[6.0, 6.0, 6.0],\n",
              "  [0.6666666666666666, 0.6666666666666666, 0.6666666666666666],\n",
              "  6.666666666666667]}"
            ]
          },
          "metadata": {},
          "execution_count": 14
        }
      ]
    },
    {
      "cell_type": "markdown",
      "source": [
        "# Recap"
      ],
      "metadata": {
        "id": "e3v95uCshIk5"
      }
    },
    {
      "cell_type": "markdown",
      "source": [
        "After you finish the freeCodeCamp project `Mean-Variance-Standard Deviation Calculator`, you'll be able to do some basic math using the `numpy` library. This first project is really just a warm-up, and it gets more challenging as we move on to the other four, which I'll blog (definitely not *brag*) about soon 👼. "
      ],
      "metadata": {
        "id": "7FJcJHfngrKE"
      }
    }
  ]
}