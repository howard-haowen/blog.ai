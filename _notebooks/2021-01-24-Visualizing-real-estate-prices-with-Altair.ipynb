{
  "nbformat": 4,
  "nbformat_minor": 0,
  "metadata": {
    "colab": {
      "name": "Visualizing real estate prices with Altair.ipynb",
      "provenance": [],
      "collapsed_sections": [
        "tZ462O2tr-EX"
      ],
      "toc_visible": true,
      "authorship_tag": "ABX9TyNlty7uMbfF2QJsNPmBIg4w"
    },
    "kernelspec": {
      "name": "python3",
      "display_name": "Python 3"
    }
  },
  "cells": [
    {
      "cell_type": "markdown",
      "metadata": {
        "id": "3eKlWVo7FHad"
      },
      "source": [
        "# Visualizing real estate prices with Altair\n",
        "> In this post, I played around with the Altair library, which not only makes plotting fancy charts easy-peasy but also makes it possible to show interactive charts on fastpages-powered websites. With Altair, we'll visualize a dataset of real estate prices.     \n",
        "\n",
        "- toc: true\n",
        "- branch: master\n",
        "- badges: true\n",
        "- categories: [visualization, real-estate-prices, altair]\n",
        "- image: images/KH-house-prices.png"
      ]
    },
    {
      "cell_type": "markdown",
      "metadata": {
        "id": "KPaperCOiXVO"
      },
      "source": [
        "## Intro"
      ]
    },
    {
      "cell_type": "markdown",
      "metadata": {
        "id": "rPlDQ_2yMTQy"
      },
      "source": [
        "Several months into the journey of Python programming, I was already aware of visualization tools like `Matplotlib` `Seaborn`, and `Plotly`, which are commonly discussed on Medium. But I'd never heard of `Altair` until I came across `fastpages`. Since I plan to keep writing on this fastpages-powered blog, I did some experiments with `Altair`. For illustration purprose, I'll be using the dataset of real estate prices in Kaohsiung, TW, which I've cleaned and put together in my GitHub [repo](https://github.com/howard-haowen/kh-real-estate). For those of you who don't know **Kaohsiung, it's selected by [the New York Times](https://www.nytimes.com/interactive/2021/travel/places-to-visit-vacation.html) as one of the 52 places to love in 2021**. Maybe you'll consider buying an apartment in Kaohsiung after reading this post. Who knows?"
      ]
    },
    {
      "cell_type": "markdown",
      "metadata": {
        "id": "tZ462O2tr-EX"
      },
      "source": [
        "## Import dependencies"
      ]
    },
    {
      "cell_type": "markdown",
      "metadata": {
        "id": "Bxw9dPuuOQ7W"
      },
      "source": [
        "`Altair` is alrealdy pre-installed on Colab. So there's no need to pip-install it if you're doing this on Colab."
      ]
    },
    {
      "cell_type": "code",
      "metadata": {
        "id": "0YAyLdyeToV4"
      },
      "source": [
        "import pandas as pd\n",
        "import altair as alt \n",
        "from altair import datum"
      ],
      "execution_count": null,
      "outputs": []
    },
    {
      "cell_type": "markdown",
      "metadata": {
        "id": "Q36jrMOpsGWV"
      },
      "source": [
        "## Load the dataset"
      ]
    },
    {
      "cell_type": "markdown",
      "metadata": {
        "id": "srPAFCqctCXW"
      },
      "source": [
        "The first thing to do is to git-clone the dataset into your environment."
      ]
    },
    {
      "cell_type": "code",
      "metadata": {
        "colab": {
          "base_uri": "https://localhost:8080/"
        },
        "id": "TvTvF3s_BFNj",
        "outputId": "e0e13daf-42b6-472f-a064-0588f336bfe3"
      },
      "source": [
        "#collapse-output\n",
        "\n",
        "!git clone -l -s https://github.com/howard-haowen/kh-real-estate cloned-repo\n",
        "%cd cloned-repo\n",
        "!ls"
      ],
      "execution_count": null,
      "outputs": [
        {
          "output_type": "stream",
          "text": [
            "Cloning into 'cloned-repo'...\n",
            "warning: --local is ignored\n",
            "remote: Enumerating objects: 100, done.\u001b[K\n",
            "remote: Counting objects: 100% (100/100), done.\u001b[K\n",
            "remote: Compressing objects: 100% (100/100), done.\u001b[K\n",
            "remote: Total 100 (delta 46), reused 0 (delta 0), pack-reused 0\u001b[K\n",
            "Receiving objects: 100% (100/100), 3.30 MiB | 1.03 MiB/s, done.\n",
            "Resolving deltas: 100% (46/46), done.\n",
            "/content/cloned-repo\n",
            "catboost-model-feature-importance.png\t\t  catboost-model-residuals.png\n",
            "catboost-model-feature-importance-shap-value.png  compare-models.png\n",
            "catboost-model-learning-curve.png\t\t  kh-house-prices.csv\n",
            "catboost-model-outliers.png\t\t\t  kh-house-prices.pkl\n",
            "catboost-model.png\t\t\t\t  LICENSE\n",
            "catboost-model-prediction-errors.png\t\t  README.md\n"
          ],
          "name": "stdout"
        }
      ]
    },
    {
      "cell_type": "markdown",
      "metadata": {
        "id": "tA4HH-KTO2lF"
      },
      "source": [
        "Let's take a look at 5 random observations. "
      ]
    },
    {
      "cell_type": "code",
      "metadata": {
        "colab": {
          "base_uri": "https://localhost:8080/",
          "height": 526
        },
        "id": "9Y0RbAZZEu_J",
        "outputId": "4fe9f6a7-8be8-49b0-a3ca-b0e60a1aacf3"
      },
      "source": [
        "#collapse-show\n",
        "\n",
        "df = pd.read_pickle('kh-house-prices.pkl')\n",
        "df.sample(5)"
      ],
      "execution_count": null,
      "outputs": [
        {
          "output_type": "execute_result",
          "data": {
            "text/html": [
              "<div>\n",
              "<style scoped>\n",
              "    .dataframe tbody tr th:only-of-type {\n",
              "        vertical-align: middle;\n",
              "    }\n",
              "\n",
              "    .dataframe tbody tr th {\n",
              "        vertical-align: top;\n",
              "    }\n",
              "\n",
              "    .dataframe thead th {\n",
              "        text-align: right;\n",
              "    }\n",
              "</style>\n",
              "<table border=\"1\" class=\"dataframe\">\n",
              "  <thead>\n",
              "    <tr style=\"text-align: right;\">\n",
              "      <th></th>\n",
              "      <th>purpose</th>\n",
              "      <th>trading_target</th>\n",
              "      <th>land_area</th>\n",
              "      <th>property_type</th>\n",
              "      <th>living_room</th>\n",
              "      <th>bedroom</th>\n",
              "      <th>bathroom</th>\n",
              "      <th>partition</th>\n",
              "      <th>property_area</th>\n",
              "      <th>is_managed</th>\n",
              "      <th>total_floor</th>\n",
              "      <th>parking_area</th>\n",
              "      <th>parking_price</th>\n",
              "      <th>parking_type</th>\n",
              "      <th>land_use</th>\n",
              "      <th>district</th>\n",
              "      <th>trading_date</th>\n",
              "      <th>trading_year</th>\n",
              "      <th>built_date</th>\n",
              "      <th>built_year</th>\n",
              "      <th>price_per_sqm</th>\n",
              "    </tr>\n",
              "  </thead>\n",
              "  <tbody>\n",
              "    <tr>\n",
              "      <th>25204</th>\n",
              "      <td>住家用</td>\n",
              "      <td>房地(土地+建物)+車位</td>\n",
              "      <td>13.53</td>\n",
              "      <td>住宅大樓(11層含以上有電梯)</td>\n",
              "      <td>2</td>\n",
              "      <td>4</td>\n",
              "      <td>2</td>\n",
              "      <td>有</td>\n",
              "      <td>129.39</td>\n",
              "      <td>有</td>\n",
              "      <td>13</td>\n",
              "      <td>0.00</td>\n",
              "      <td>0</td>\n",
              "      <td>坡道平面</td>\n",
              "      <td>商</td>\n",
              "      <td>楠梓區</td>\n",
              "      <td>2017-01-20</td>\n",
              "      <td>2017</td>\n",
              "      <td>1995-01-26</td>\n",
              "      <td>1995</td>\n",
              "      <td>33233.0</td>\n",
              "    </tr>\n",
              "    <tr>\n",
              "      <th>19272</th>\n",
              "      <td>住家用</td>\n",
              "      <td>房地(土地+建物)+車位</td>\n",
              "      <td>18.24</td>\n",
              "      <td>住宅大樓(11層含以上有電梯)</td>\n",
              "      <td>0</td>\n",
              "      <td>0</td>\n",
              "      <td>0</td>\n",
              "      <td>無</td>\n",
              "      <td>360.51</td>\n",
              "      <td>有</td>\n",
              "      <td>36</td>\n",
              "      <td>61.10</td>\n",
              "      <td>0</td>\n",
              "      <td>坡道平面</td>\n",
              "      <td>商</td>\n",
              "      <td>鼓山區</td>\n",
              "      <td>2016-05-20</td>\n",
              "      <td>2016</td>\n",
              "      <td>2014-06-26</td>\n",
              "      <td>2014</td>\n",
              "      <td>62717.0</td>\n",
              "    </tr>\n",
              "    <tr>\n",
              "      <th>12575</th>\n",
              "      <td>住家用</td>\n",
              "      <td>房地(土地+建物)+車位</td>\n",
              "      <td>13.12</td>\n",
              "      <td>住宅大樓(11層含以上有電梯)</td>\n",
              "      <td>2</td>\n",
              "      <td>3</td>\n",
              "      <td>2</td>\n",
              "      <td>有</td>\n",
              "      <td>145.90</td>\n",
              "      <td>有</td>\n",
              "      <td>15</td>\n",
              "      <td>12.66</td>\n",
              "      <td>840000</td>\n",
              "      <td>坡道機械</td>\n",
              "      <td>住</td>\n",
              "      <td>鼓山區</td>\n",
              "      <td>2015-07-14</td>\n",
              "      <td>2015</td>\n",
              "      <td>2014-05-15</td>\n",
              "      <td>2014</td>\n",
              "      <td>73101.0</td>\n",
              "    </tr>\n",
              "    <tr>\n",
              "      <th>15299</th>\n",
              "      <td>住家用</td>\n",
              "      <td>房地(土地+建物)+車位</td>\n",
              "      <td>15.42</td>\n",
              "      <td>住宅大樓(11層含以上有電梯)</td>\n",
              "      <td>2</td>\n",
              "      <td>3</td>\n",
              "      <td>2</td>\n",
              "      <td>有</td>\n",
              "      <td>125.39</td>\n",
              "      <td>有</td>\n",
              "      <td>15</td>\n",
              "      <td>11.24</td>\n",
              "      <td>0</td>\n",
              "      <td>坡道機械</td>\n",
              "      <td>住</td>\n",
              "      <td>左營區</td>\n",
              "      <td>2015-11-08</td>\n",
              "      <td>2015</td>\n",
              "      <td>2007-01-12</td>\n",
              "      <td>2007</td>\n",
              "      <td>43066.0</td>\n",
              "    </tr>\n",
              "    <tr>\n",
              "      <th>31446</th>\n",
              "      <td>住家用</td>\n",
              "      <td>房地(土地+建物)+車位</td>\n",
              "      <td>13.91</td>\n",
              "      <td>住宅大樓(11層含以上有電梯)</td>\n",
              "      <td>2</td>\n",
              "      <td>3</td>\n",
              "      <td>2</td>\n",
              "      <td>有</td>\n",
              "      <td>177.61</td>\n",
              "      <td>有</td>\n",
              "      <td>13</td>\n",
              "      <td>0.00</td>\n",
              "      <td>0</td>\n",
              "      <td>坡道機械</td>\n",
              "      <td>商</td>\n",
              "      <td>鼓山區</td>\n",
              "      <td>2017-12-12</td>\n",
              "      <td>2017</td>\n",
              "      <td>1996-04-05</td>\n",
              "      <td>1996</td>\n",
              "      <td>44479.0</td>\n",
              "    </tr>\n",
              "  </tbody>\n",
              "</table>\n",
              "</div>"
            ],
            "text/plain": [
              "      purpose trading_target  land_area  ... built_date  built_year  price_per_sqm\n",
              "25204     住家用   房地(土地+建物)+車位      13.53  ... 1995-01-26        1995        33233.0\n",
              "19272     住家用   房地(土地+建物)+車位      18.24  ... 2014-06-26        2014        62717.0\n",
              "12575     住家用   房地(土地+建物)+車位      13.12  ... 2014-05-15        2014        73101.0\n",
              "15299     住家用   房地(土地+建物)+車位      15.42  ... 2007-01-12        2007        43066.0\n",
              "31446     住家用   房地(土地+建物)+車位      13.91  ... 1996-04-05        1996        44479.0\n",
              "\n",
              "[5 rows x 21 columns]"
            ]
          },
          "metadata": {
            "tags": []
          },
          "execution_count": 40
        }
      ]
    },
    {
      "cell_type": "markdown",
      "metadata": {
        "id": "O-TmL4ioPJiI"
      },
      "source": [
        "The dataset includes 45717 observations and 21 columns."
      ]
    },
    {
      "cell_type": "code",
      "metadata": {
        "colab": {
          "base_uri": "https://localhost:8080/"
        },
        "id": "ueN0LUInHWxV",
        "outputId": "e5cadcdd-f7a6-46b5-b6c4-8c2dd212f67d"
      },
      "source": [
        "df.shape"
      ],
      "execution_count": null,
      "outputs": [
        {
          "output_type": "execute_result",
          "data": {
            "text/plain": [
              "(45717, 21)"
            ]
          },
          "metadata": {
            "tags": []
          },
          "execution_count": 19
        }
      ]
    },
    {
      "cell_type": "markdown",
      "metadata": {
        "id": "OXuDGwUjPTmU"
      },
      "source": [
        "Most of the column names should be self-explanatory since I've translated them from the original Chinese to English."
      ]
    },
    {
      "cell_type": "code",
      "metadata": {
        "colab": {
          "base_uri": "https://localhost:8080/"
        },
        "id": "kZx0Q7fww1pZ",
        "outputId": "19aa4cfb-6b44-4f73-c8e3-10d244f7b7e4"
      },
      "source": [
        "columns = df.columns.tolist()\n",
        "columns"
      ],
      "execution_count": null,
      "outputs": [
        {
          "output_type": "execute_result",
          "data": {
            "text/plain": [
              "['purpose',\n",
              " 'trading_target',\n",
              " 'land_area',\n",
              " 'property_type',\n",
              " 'living_room',\n",
              " 'bedroom',\n",
              " 'bathroom',\n",
              " 'partition',\n",
              " 'property_area',\n",
              " 'is_managed',\n",
              " 'total_floor',\n",
              " 'parking_area',\n",
              " 'parking_price',\n",
              " 'parking_type',\n",
              " 'land_use',\n",
              " 'district',\n",
              " 'trading_date',\n",
              " 'trading_year',\n",
              " 'built_date',\n",
              " 'built_year',\n",
              " 'price_per_sqm']"
            ]
          },
          "metadata": {
            "tags": []
          },
          "execution_count": 42
        }
      ]
    },
    {
      "cell_type": "markdown",
      "metadata": {
        "id": "uPZskglZPqpN"
      },
      "source": [
        "Here're some basic stats."
      ]
    },
    {
      "cell_type": "code",
      "metadata": {
        "colab": {
          "base_uri": "https://localhost:8080/",
          "height": 533
        },
        "id": "mIU0ZKEBw_SQ",
        "outputId": "e1441d08-232c-4ec2-cb0b-a1f0070f9401"
      },
      "source": [
        "df.describe()"
      ],
      "execution_count": null,
      "outputs": [
        {
          "output_type": "execute_result",
          "data": {
            "text/html": [
              "<div>\n",
              "<style scoped>\n",
              "    .dataframe tbody tr th:only-of-type {\n",
              "        vertical-align: middle;\n",
              "    }\n",
              "\n",
              "    .dataframe tbody tr th {\n",
              "        vertical-align: top;\n",
              "    }\n",
              "\n",
              "    .dataframe thead th {\n",
              "        text-align: right;\n",
              "    }\n",
              "</style>\n",
              "<table border=\"1\" class=\"dataframe\">\n",
              "  <thead>\n",
              "    <tr style=\"text-align: right;\">\n",
              "      <th></th>\n",
              "      <th>land_area</th>\n",
              "      <th>living_room</th>\n",
              "      <th>bedroom</th>\n",
              "      <th>bathroom</th>\n",
              "      <th>property_area</th>\n",
              "      <th>total_floor</th>\n",
              "      <th>parking_area</th>\n",
              "      <th>parking_price</th>\n",
              "      <th>trading_year</th>\n",
              "      <th>built_year</th>\n",
              "      <th>price_per_sqm</th>\n",
              "    </tr>\n",
              "  </thead>\n",
              "  <tbody>\n",
              "    <tr>\n",
              "      <th>count</th>\n",
              "      <td>45717.000000</td>\n",
              "      <td>45717.000000</td>\n",
              "      <td>45717.000000</td>\n",
              "      <td>45717.000000</td>\n",
              "      <td>45717.000000</td>\n",
              "      <td>45717.000000</td>\n",
              "      <td>45717.000000</td>\n",
              "      <td>4.571700e+04</td>\n",
              "      <td>45717.000000</td>\n",
              "      <td>45717.000000</td>\n",
              "      <td>4.571700e+04</td>\n",
              "    </tr>\n",
              "    <tr>\n",
              "      <th>mean</th>\n",
              "      <td>24.949719</td>\n",
              "      <td>1.739987</td>\n",
              "      <td>2.921058</td>\n",
              "      <td>1.907540</td>\n",
              "      <td>145.261129</td>\n",
              "      <td>13.729947</td>\n",
              "      <td>6.606456</td>\n",
              "      <td>9.966087e+04</td>\n",
              "      <td>2016.760702</td>\n",
              "      <td>1999.837938</td>\n",
              "      <td>5.222278e+04</td>\n",
              "    </tr>\n",
              "    <tr>\n",
              "      <th>std</th>\n",
              "      <td>32.301563</td>\n",
              "      <td>0.583373</td>\n",
              "      <td>1.299294</td>\n",
              "      <td>1.084739</td>\n",
              "      <td>89.910644</td>\n",
              "      <td>7.810174</td>\n",
              "      <td>81.029070</td>\n",
              "      <td>5.323162e+05</td>\n",
              "      <td>1.699207</td>\n",
              "      <td>11.445783</td>\n",
              "      <td>2.236209e+04</td>\n",
              "    </tr>\n",
              "    <tr>\n",
              "      <th>min</th>\n",
              "      <td>0.010000</td>\n",
              "      <td>0.000000</td>\n",
              "      <td>0.000000</td>\n",
              "      <td>0.000000</td>\n",
              "      <td>0.020000</td>\n",
              "      <td>1.000000</td>\n",
              "      <td>0.000000</td>\n",
              "      <td>0.000000e+00</td>\n",
              "      <td>2012.000000</td>\n",
              "      <td>1913.000000</td>\n",
              "      <td>0.000000e+00</td>\n",
              "    </tr>\n",
              "    <tr>\n",
              "      <th>25%</th>\n",
              "      <td>10.450000</td>\n",
              "      <td>2.000000</td>\n",
              "      <td>2.000000</td>\n",
              "      <td>1.000000</td>\n",
              "      <td>89.080000</td>\n",
              "      <td>8.000000</td>\n",
              "      <td>0.000000</td>\n",
              "      <td>0.000000e+00</td>\n",
              "      <td>2015.000000</td>\n",
              "      <td>1994.000000</td>\n",
              "      <td>3.849700e+04</td>\n",
              "    </tr>\n",
              "    <tr>\n",
              "      <th>50%</th>\n",
              "      <td>16.630000</td>\n",
              "      <td>2.000000</td>\n",
              "      <td>3.000000</td>\n",
              "      <td>2.000000</td>\n",
              "      <td>128.440000</td>\n",
              "      <td>14.000000</td>\n",
              "      <td>0.000000</td>\n",
              "      <td>0.000000e+00</td>\n",
              "      <td>2017.000000</td>\n",
              "      <td>1999.000000</td>\n",
              "      <td>4.829400e+04</td>\n",
              "    </tr>\n",
              "    <tr>\n",
              "      <th>75%</th>\n",
              "      <td>26.200000</td>\n",
              "      <td>2.000000</td>\n",
              "      <td>3.000000</td>\n",
              "      <td>2.000000</td>\n",
              "      <td>171.200000</td>\n",
              "      <td>15.000000</td>\n",
              "      <td>0.000000</td>\n",
              "      <td>0.000000e+00</td>\n",
              "      <td>2018.000000</td>\n",
              "      <td>2009.000000</td>\n",
              "      <td>6.233000e+04</td>\n",
              "    </tr>\n",
              "    <tr>\n",
              "      <th>max</th>\n",
              "      <td>2140.100000</td>\n",
              "      <td>22.000000</td>\n",
              "      <td>52.000000</td>\n",
              "      <td>50.000000</td>\n",
              "      <td>4119.900000</td>\n",
              "      <td>85.000000</td>\n",
              "      <td>17098.000000</td>\n",
              "      <td>1.000000e+07</td>\n",
              "      <td>2020.000000</td>\n",
              "      <td>2020.000000</td>\n",
              "      <td>1.048343e+06</td>\n",
              "    </tr>\n",
              "  </tbody>\n",
              "</table>\n",
              "</div>"
            ],
            "text/plain": [
              "          land_area   living_room  ...    built_year  price_per_sqm\n",
              "count  45717.000000  45717.000000  ...  45717.000000   4.571700e+04\n",
              "mean      24.949719      1.739987  ...   1999.837938   5.222278e+04\n",
              "std       32.301563      0.583373  ...     11.445783   2.236209e+04\n",
              "min        0.010000      0.000000  ...   1913.000000   0.000000e+00\n",
              "25%       10.450000      2.000000  ...   1994.000000   3.849700e+04\n",
              "50%       16.630000      2.000000  ...   1999.000000   4.829400e+04\n",
              "75%       26.200000      2.000000  ...   2009.000000   6.233000e+04\n",
              "max     2140.100000     22.000000  ...   2020.000000   1.048343e+06\n",
              "\n",
              "[8 rows x 11 columns]"
            ]
          },
          "metadata": {
            "tags": []
          },
          "execution_count": 44
        }
      ]
    },
    {
      "cell_type": "markdown",
      "metadata": {
        "id": "x_KQk1x-QUB9"
      },
      "source": [
        "`MaxRowsError` is the first trouble I got! It turns out that **by default `Altair` only allows you to plot a dataset with a maximum of 5000 rows**. "
      ]
    },
    {
      "cell_type": "code",
      "metadata": {
        "colab": {
          "base_uri": "https://localhost:8080/",
          "height": 416
        },
        "id": "q3V_cUXUHJ2n",
        "outputId": "25056499-fcf9-41c0-efae-f9dc151bcc9d"
      },
      "source": [
        "#collapse-output\n",
        "\n",
        "alt.Chart(df).mark_point().encode(\n",
        "    x='trading_year',\n",
        "    y='price_per_sqm',\n",
        "    color='district',\n",
        ").interactive()"
      ],
      "execution_count": null,
      "outputs": [
        {
          "output_type": "error",
          "ename": "MaxRowsError",
          "evalue": "ignored",
          "traceback": [
            "\u001b[0;31m---------------------------------------------------------------------------\u001b[0m",
            "\u001b[0;31mMaxRowsError\u001b[0m                              Traceback (most recent call last)",
            "\u001b[0;32m/usr/local/lib/python3.6/dist-packages/altair/vegalite/v4/api.py\u001b[0m in \u001b[0;36mto_dict\u001b[0;34m(self, *args, **kwargs)\u001b[0m\n\u001b[1;32m    361\u001b[0m         \u001b[0mcopy\u001b[0m \u001b[0;34m=\u001b[0m \u001b[0mself\u001b[0m\u001b[0;34m.\u001b[0m\u001b[0mcopy\u001b[0m\u001b[0;34m(\u001b[0m\u001b[0mdeep\u001b[0m\u001b[0;34m=\u001b[0m\u001b[0;32mFalse\u001b[0m\u001b[0;34m)\u001b[0m\u001b[0;34m\u001b[0m\u001b[0;34m\u001b[0m\u001b[0m\n\u001b[1;32m    362\u001b[0m         \u001b[0moriginal_data\u001b[0m \u001b[0;34m=\u001b[0m \u001b[0mgetattr\u001b[0m\u001b[0;34m(\u001b[0m\u001b[0mcopy\u001b[0m\u001b[0;34m,\u001b[0m \u001b[0;34m\"data\"\u001b[0m\u001b[0;34m,\u001b[0m \u001b[0mUndefined\u001b[0m\u001b[0;34m)\u001b[0m\u001b[0;34m\u001b[0m\u001b[0;34m\u001b[0m\u001b[0m\n\u001b[0;32m--> 363\u001b[0;31m         \u001b[0mcopy\u001b[0m\u001b[0;34m.\u001b[0m\u001b[0mdata\u001b[0m \u001b[0;34m=\u001b[0m \u001b[0m_prepare_data\u001b[0m\u001b[0;34m(\u001b[0m\u001b[0moriginal_data\u001b[0m\u001b[0;34m,\u001b[0m \u001b[0mcontext\u001b[0m\u001b[0;34m)\u001b[0m\u001b[0;34m\u001b[0m\u001b[0;34m\u001b[0m\u001b[0m\n\u001b[0m\u001b[1;32m    364\u001b[0m \u001b[0;34m\u001b[0m\u001b[0m\n\u001b[1;32m    365\u001b[0m         \u001b[0;32mif\u001b[0m \u001b[0moriginal_data\u001b[0m \u001b[0;32mis\u001b[0m \u001b[0;32mnot\u001b[0m \u001b[0mUndefined\u001b[0m\u001b[0;34m:\u001b[0m\u001b[0;34m\u001b[0m\u001b[0;34m\u001b[0m\u001b[0m\n",
            "\u001b[0;32m/usr/local/lib/python3.6/dist-packages/altair/vegalite/v4/api.py\u001b[0m in \u001b[0;36m_prepare_data\u001b[0;34m(data, context)\u001b[0m\n\u001b[1;32m     82\u001b[0m     \u001b[0;31m# convert dataframes  or objects with __geo_interface__ to dict\u001b[0m\u001b[0;34m\u001b[0m\u001b[0;34m\u001b[0m\u001b[0;34m\u001b[0m\u001b[0m\n\u001b[1;32m     83\u001b[0m     \u001b[0;32mif\u001b[0m \u001b[0misinstance\u001b[0m\u001b[0;34m(\u001b[0m\u001b[0mdata\u001b[0m\u001b[0;34m,\u001b[0m \u001b[0mpd\u001b[0m\u001b[0;34m.\u001b[0m\u001b[0mDataFrame\u001b[0m\u001b[0;34m)\u001b[0m \u001b[0;32mor\u001b[0m \u001b[0mhasattr\u001b[0m\u001b[0;34m(\u001b[0m\u001b[0mdata\u001b[0m\u001b[0;34m,\u001b[0m \u001b[0;34m\"__geo_interface__\"\u001b[0m\u001b[0;34m)\u001b[0m\u001b[0;34m:\u001b[0m\u001b[0;34m\u001b[0m\u001b[0;34m\u001b[0m\u001b[0m\n\u001b[0;32m---> 84\u001b[0;31m         \u001b[0mdata\u001b[0m \u001b[0;34m=\u001b[0m \u001b[0m_pipe\u001b[0m\u001b[0;34m(\u001b[0m\u001b[0mdata\u001b[0m\u001b[0;34m,\u001b[0m \u001b[0mdata_transformers\u001b[0m\u001b[0;34m.\u001b[0m\u001b[0mget\u001b[0m\u001b[0;34m(\u001b[0m\u001b[0;34m)\u001b[0m\u001b[0;34m)\u001b[0m\u001b[0;34m\u001b[0m\u001b[0;34m\u001b[0m\u001b[0m\n\u001b[0m\u001b[1;32m     85\u001b[0m \u001b[0;34m\u001b[0m\u001b[0m\n\u001b[1;32m     86\u001b[0m     \u001b[0;31m# convert string input to a URLData\u001b[0m\u001b[0;34m\u001b[0m\u001b[0;34m\u001b[0m\u001b[0;34m\u001b[0m\u001b[0m\n",
            "\u001b[0;32m/usr/local/lib/python3.6/dist-packages/toolz/functoolz.py\u001b[0m in \u001b[0;36mpipe\u001b[0;34m(data, *funcs)\u001b[0m\n\u001b[1;32m    625\u001b[0m     \"\"\"\n\u001b[1;32m    626\u001b[0m     \u001b[0;32mfor\u001b[0m \u001b[0mfunc\u001b[0m \u001b[0;32min\u001b[0m \u001b[0mfuncs\u001b[0m\u001b[0;34m:\u001b[0m\u001b[0;34m\u001b[0m\u001b[0;34m\u001b[0m\u001b[0m\n\u001b[0;32m--> 627\u001b[0;31m         \u001b[0mdata\u001b[0m \u001b[0;34m=\u001b[0m \u001b[0mfunc\u001b[0m\u001b[0;34m(\u001b[0m\u001b[0mdata\u001b[0m\u001b[0;34m)\u001b[0m\u001b[0;34m\u001b[0m\u001b[0;34m\u001b[0m\u001b[0m\n\u001b[0m\u001b[1;32m    628\u001b[0m     \u001b[0;32mreturn\u001b[0m \u001b[0mdata\u001b[0m\u001b[0;34m\u001b[0m\u001b[0;34m\u001b[0m\u001b[0m\n\u001b[1;32m    629\u001b[0m \u001b[0;34m\u001b[0m\u001b[0m\n",
            "\u001b[0;32m/usr/local/lib/python3.6/dist-packages/toolz/functoolz.py\u001b[0m in \u001b[0;36m__call__\u001b[0;34m(self, *args, **kwargs)\u001b[0m\n\u001b[1;32m    301\u001b[0m     \u001b[0;32mdef\u001b[0m \u001b[0m__call__\u001b[0m\u001b[0;34m(\u001b[0m\u001b[0mself\u001b[0m\u001b[0;34m,\u001b[0m \u001b[0;34m*\u001b[0m\u001b[0margs\u001b[0m\u001b[0;34m,\u001b[0m \u001b[0;34m**\u001b[0m\u001b[0mkwargs\u001b[0m\u001b[0;34m)\u001b[0m\u001b[0;34m:\u001b[0m\u001b[0;34m\u001b[0m\u001b[0;34m\u001b[0m\u001b[0m\n\u001b[1;32m    302\u001b[0m         \u001b[0;32mtry\u001b[0m\u001b[0;34m:\u001b[0m\u001b[0;34m\u001b[0m\u001b[0;34m\u001b[0m\u001b[0m\n\u001b[0;32m--> 303\u001b[0;31m             \u001b[0;32mreturn\u001b[0m \u001b[0mself\u001b[0m\u001b[0;34m.\u001b[0m\u001b[0m_partial\u001b[0m\u001b[0;34m(\u001b[0m\u001b[0;34m*\u001b[0m\u001b[0margs\u001b[0m\u001b[0;34m,\u001b[0m \u001b[0;34m**\u001b[0m\u001b[0mkwargs\u001b[0m\u001b[0;34m)\u001b[0m\u001b[0;34m\u001b[0m\u001b[0;34m\u001b[0m\u001b[0m\n\u001b[0m\u001b[1;32m    304\u001b[0m         \u001b[0;32mexcept\u001b[0m \u001b[0mTypeError\u001b[0m \u001b[0;32mas\u001b[0m \u001b[0mexc\u001b[0m\u001b[0;34m:\u001b[0m\u001b[0;34m\u001b[0m\u001b[0;34m\u001b[0m\u001b[0m\n\u001b[1;32m    305\u001b[0m             \u001b[0;32mif\u001b[0m \u001b[0mself\u001b[0m\u001b[0;34m.\u001b[0m\u001b[0m_should_curry\u001b[0m\u001b[0;34m(\u001b[0m\u001b[0margs\u001b[0m\u001b[0;34m,\u001b[0m \u001b[0mkwargs\u001b[0m\u001b[0;34m,\u001b[0m \u001b[0mexc\u001b[0m\u001b[0;34m)\u001b[0m\u001b[0;34m:\u001b[0m\u001b[0;34m\u001b[0m\u001b[0;34m\u001b[0m\u001b[0m\n",
            "\u001b[0;32m/usr/local/lib/python3.6/dist-packages/altair/vegalite/data.py\u001b[0m in \u001b[0;36mdefault_data_transformer\u001b[0;34m(data, max_rows)\u001b[0m\n\u001b[1;32m     17\u001b[0m \u001b[0;34m@\u001b[0m\u001b[0mcurried\u001b[0m\u001b[0;34m.\u001b[0m\u001b[0mcurry\u001b[0m\u001b[0;34m\u001b[0m\u001b[0;34m\u001b[0m\u001b[0m\n\u001b[1;32m     18\u001b[0m \u001b[0;32mdef\u001b[0m \u001b[0mdefault_data_transformer\u001b[0m\u001b[0;34m(\u001b[0m\u001b[0mdata\u001b[0m\u001b[0;34m,\u001b[0m \u001b[0mmax_rows\u001b[0m\u001b[0;34m=\u001b[0m\u001b[0;36m5000\u001b[0m\u001b[0;34m)\u001b[0m\u001b[0;34m:\u001b[0m\u001b[0;34m\u001b[0m\u001b[0;34m\u001b[0m\u001b[0m\n\u001b[0;32m---> 19\u001b[0;31m     \u001b[0;32mreturn\u001b[0m \u001b[0mcurried\u001b[0m\u001b[0;34m.\u001b[0m\u001b[0mpipe\u001b[0m\u001b[0;34m(\u001b[0m\u001b[0mdata\u001b[0m\u001b[0;34m,\u001b[0m \u001b[0mlimit_rows\u001b[0m\u001b[0;34m(\u001b[0m\u001b[0mmax_rows\u001b[0m\u001b[0;34m=\u001b[0m\u001b[0mmax_rows\u001b[0m\u001b[0;34m)\u001b[0m\u001b[0;34m,\u001b[0m \u001b[0mto_values\u001b[0m\u001b[0;34m)\u001b[0m\u001b[0;34m\u001b[0m\u001b[0;34m\u001b[0m\u001b[0m\n\u001b[0m\u001b[1;32m     20\u001b[0m \u001b[0;34m\u001b[0m\u001b[0m\n\u001b[1;32m     21\u001b[0m \u001b[0;34m\u001b[0m\u001b[0m\n",
            "\u001b[0;32m/usr/local/lib/python3.6/dist-packages/toolz/functoolz.py\u001b[0m in \u001b[0;36mpipe\u001b[0;34m(data, *funcs)\u001b[0m\n\u001b[1;32m    625\u001b[0m     \"\"\"\n\u001b[1;32m    626\u001b[0m     \u001b[0;32mfor\u001b[0m \u001b[0mfunc\u001b[0m \u001b[0;32min\u001b[0m \u001b[0mfuncs\u001b[0m\u001b[0;34m:\u001b[0m\u001b[0;34m\u001b[0m\u001b[0;34m\u001b[0m\u001b[0m\n\u001b[0;32m--> 627\u001b[0;31m         \u001b[0mdata\u001b[0m \u001b[0;34m=\u001b[0m \u001b[0mfunc\u001b[0m\u001b[0;34m(\u001b[0m\u001b[0mdata\u001b[0m\u001b[0;34m)\u001b[0m\u001b[0;34m\u001b[0m\u001b[0;34m\u001b[0m\u001b[0m\n\u001b[0m\u001b[1;32m    628\u001b[0m     \u001b[0;32mreturn\u001b[0m \u001b[0mdata\u001b[0m\u001b[0;34m\u001b[0m\u001b[0;34m\u001b[0m\u001b[0m\n\u001b[1;32m    629\u001b[0m \u001b[0;34m\u001b[0m\u001b[0m\n",
            "\u001b[0;32m/usr/local/lib/python3.6/dist-packages/toolz/functoolz.py\u001b[0m in \u001b[0;36m__call__\u001b[0;34m(self, *args, **kwargs)\u001b[0m\n\u001b[1;32m    301\u001b[0m     \u001b[0;32mdef\u001b[0m \u001b[0m__call__\u001b[0m\u001b[0;34m(\u001b[0m\u001b[0mself\u001b[0m\u001b[0;34m,\u001b[0m \u001b[0;34m*\u001b[0m\u001b[0margs\u001b[0m\u001b[0;34m,\u001b[0m \u001b[0;34m**\u001b[0m\u001b[0mkwargs\u001b[0m\u001b[0;34m)\u001b[0m\u001b[0;34m:\u001b[0m\u001b[0;34m\u001b[0m\u001b[0;34m\u001b[0m\u001b[0m\n\u001b[1;32m    302\u001b[0m         \u001b[0;32mtry\u001b[0m\u001b[0;34m:\u001b[0m\u001b[0;34m\u001b[0m\u001b[0;34m\u001b[0m\u001b[0m\n\u001b[0;32m--> 303\u001b[0;31m             \u001b[0;32mreturn\u001b[0m \u001b[0mself\u001b[0m\u001b[0;34m.\u001b[0m\u001b[0m_partial\u001b[0m\u001b[0;34m(\u001b[0m\u001b[0;34m*\u001b[0m\u001b[0margs\u001b[0m\u001b[0;34m,\u001b[0m \u001b[0;34m**\u001b[0m\u001b[0mkwargs\u001b[0m\u001b[0;34m)\u001b[0m\u001b[0;34m\u001b[0m\u001b[0;34m\u001b[0m\u001b[0m\n\u001b[0m\u001b[1;32m    304\u001b[0m         \u001b[0;32mexcept\u001b[0m \u001b[0mTypeError\u001b[0m \u001b[0;32mas\u001b[0m \u001b[0mexc\u001b[0m\u001b[0;34m:\u001b[0m\u001b[0;34m\u001b[0m\u001b[0;34m\u001b[0m\u001b[0m\n\u001b[1;32m    305\u001b[0m             \u001b[0;32mif\u001b[0m \u001b[0mself\u001b[0m\u001b[0;34m.\u001b[0m\u001b[0m_should_curry\u001b[0m\u001b[0;34m(\u001b[0m\u001b[0margs\u001b[0m\u001b[0;34m,\u001b[0m \u001b[0mkwargs\u001b[0m\u001b[0;34m,\u001b[0m \u001b[0mexc\u001b[0m\u001b[0;34m)\u001b[0m\u001b[0;34m:\u001b[0m\u001b[0;34m\u001b[0m\u001b[0;34m\u001b[0m\u001b[0m\n",
            "\u001b[0;32m/usr/local/lib/python3.6/dist-packages/altair/utils/data.py\u001b[0m in \u001b[0;36mlimit_rows\u001b[0;34m(data, max_rows)\u001b[0m\n\u001b[1;32m     82\u001b[0m             \u001b[0;34m\"than the maximum allowed ({}). \"\u001b[0m\u001b[0;34m\u001b[0m\u001b[0;34m\u001b[0m\u001b[0m\n\u001b[1;32m     83\u001b[0m             \u001b[0;34m\"For information on how to plot larger datasets \"\u001b[0m\u001b[0;34m\u001b[0m\u001b[0;34m\u001b[0m\u001b[0m\n\u001b[0;32m---> 84\u001b[0;31m             \u001b[0;34m\"in Altair, see the documentation\"\u001b[0m\u001b[0;34m.\u001b[0m\u001b[0mformat\u001b[0m\u001b[0;34m(\u001b[0m\u001b[0mmax_rows\u001b[0m\u001b[0;34m)\u001b[0m\u001b[0;34m\u001b[0m\u001b[0;34m\u001b[0m\u001b[0m\n\u001b[0m\u001b[1;32m     85\u001b[0m         )\n\u001b[1;32m     86\u001b[0m     \u001b[0;32mreturn\u001b[0m \u001b[0mdata\u001b[0m\u001b[0;34m\u001b[0m\u001b[0;34m\u001b[0m\u001b[0m\n",
            "\u001b[0;31mMaxRowsError\u001b[0m: The number of rows in your dataset is greater than the maximum allowed (5000). For information on how to plot larger datasets in Altair, see the documentation"
          ]
        },
        {
          "output_type": "execute_result",
          "data": {
            "text/plain": [
              "alt.Chart(...)"
            ]
          },
          "metadata": {
            "tags": []
          },
          "execution_count": 12
        }
      ]
    },
    {
      "cell_type": "markdown",
      "metadata": {
        "id": "7Pmjb6XfQ6Bf"
      },
      "source": [
        "The limitation can be lifted by calling this function. "
      ]
    },
    {
      "cell_type": "code",
      "metadata": {
        "colab": {
          "base_uri": "https://localhost:8080/"
        },
        "id": "nY2Fl_RLH0AW",
        "outputId": "38d544e5-a2e1-4d83-9496-aa927de17095"
      },
      "source": [
        "alt.data_transformers.disable_max_rows()"
      ],
      "execution_count": null,
      "outputs": [
        {
          "output_type": "execute_result",
          "data": {
            "text/plain": [
              "DataTransformerRegistry.enable('default')"
            ]
          },
          "metadata": {
            "tags": []
          },
          "execution_count": 16
        }
      ]
    },
    {
      "cell_type": "markdown",
      "metadata": {
        "id": "7e5nCvXRRtOE"
      },
      "source": [
        "According to the official [documentation](https://altair-viz.github.io/user_guide/faq.html?highlight=maxrowserror), this is not a good solution. But I did it anyway because I didn't know better. I was then able to make a plot, but it only took seconds for my Colab notebook to crash. So the lesson learned is this:"
      ]
    },
    {
      "cell_type": "markdown",
      "metadata": {
        "id": "2mNmkyaqSkSk"
      },
      "source": [
        "> Warning: Never disable the restriction for max rows if you're dealing with a huge amount of data!"
      ]
    },
    {
      "cell_type": "markdown",
      "metadata": {
        "id": "n40Ik1R_S6mc"
      },
      "source": [
        "A better way to deal with this is to **pass data by URL**, which only supports `json` and `csv` files. So I converted my dataframe to `csv` and then uploaded it to my GitHub repo. Then all that's needed to start using `Altair` is the URL to that file."
      ]
    },
    {
      "cell_type": "code",
      "metadata": {
        "id": "VP_KuWQFPJbO"
      },
      "source": [
        "with open('kh-house-prices.csv', 'w', encoding='utf-8') as file:\n",
        "    df.to_csv(file, index=False)"
      ],
      "execution_count": null,
      "outputs": []
    },
    {
      "cell_type": "markdown",
      "metadata": {
        "id": "IK7hRgnfTw9k"
      },
      "source": [
        "> Tip: For `Altair` to load your dataset properly, make sure the dataset is viewable by entering the URL in your browser. If your dataset is stored on GitHub, that means the URL has to start with `https://raw.githubusercontent.com` rather than `https://github.com`."
      ]
    },
    {
      "cell_type": "markdown",
      "metadata": {
        "id": "2AilTtjvl7Sw"
      },
      "source": [
        "This URL is the data source from which we'll be making all the charts."
      ]
    },
    {
      "cell_type": "code",
      "metadata": {
        "id": "gFK1cPQgTDS1"
      },
      "source": [
        "url= \"https://raw.githubusercontent.com/howard-haowen/kh-real-estate/main/kh-house-prices.csv\""
      ],
      "execution_count": null,
      "outputs": []
    },
    {
      "cell_type": "markdown",
      "metadata": {
        "id": "HIrxhVXtiSaX"
      },
      "source": [
        "## Simple charts"
      ]
    },
    {
      "cell_type": "markdown",
      "metadata": {
        "id": "F7_0Qqa0kgHf"
      },
      "source": [
        "After we got the data loading and performance issue taken care of, let's break down the syntax of `Altair`. \n",
        "\n",
        "I'm a visual learner, so I personally think the easiest way to get started is to go to the [Example Gallery](https://altair-viz.github.io/gallery/index.html) and pick the kind of charts that you'd like to draw. Most of the time, all you need to do is copy-paste the codes and change the data source as well as column names. \n",
        "\n",
        "All fancy charts start with something simple.In the case of `Altair`, it's `alt.Chart()`, which takes either URL or a `pandas` DataFrame object (like `df` in our failed example above) as its argument. \n",
        "\n",
        "Then you decide what kinds of marks you'd like to draw on the chart by calling the `.mark_X()` function, where X could be `circle` if you want to represent an observation with a circle. Other types of marks used in this post include `point`, `line`, `bar`, and `area`.\n",
        "\n",
        "Finally, you need to call the `encode()` function in order to map the properties of your dataset onto the chart you're making. In this example below, the function takes three arguments:\n",
        "\n",
        "*   `x` for which column to be mapped to the x axis \n",
        "*   `y` for which column to be mapped to the y axis\n",
        "*   `color` for which column to be colored on the chart\n",
        "\n",
        "Once you pass `url` to `alt.Chart()` and the column names in your dataset to `encode()`, you'll get this chart. "
      ]
    },
    {
      "cell_type": "code",
      "metadata": {
        "colab": {
          "base_uri": "https://localhost:8080/",
          "height": 629
        },
        "id": "OmMdhwf2egbn",
        "outputId": "899aeb39-b8c1-42d8-f504-0ff313c46e07"
      },
      "source": [
        "#collapse-show\n",
        "\n",
        "alt.Chart(url).mark_circle().encode(\n",
        "    x='built_date:T',\n",
        "    y='price_per_sqm:Q',\n",
        "    color='district:N',)"
      ],
      "execution_count": null,
      "outputs": [
        {
          "output_type": "execute_result",
          "data": {
            "text/plain": [
              "alt.Chart(...)"
            ],
            "text/html": [
              "\n",
              "<div id=\"altair-viz-565d037cc42946fba802497661841dcc\"></div>\n",
              "<script type=\"text/javascript\">\n",
              "  (function(spec, embedOpt){\n",
              "    let outputDiv = document.currentScript.previousElementSibling;\n",
              "    if (outputDiv.id !== \"altair-viz-565d037cc42946fba802497661841dcc\") {\n",
              "      outputDiv = document.getElementById(\"altair-viz-565d037cc42946fba802497661841dcc\");\n",
              "    }\n",
              "    const paths = {\n",
              "      \"vega\": \"https://cdn.jsdelivr.net/npm//vega@5?noext\",\n",
              "      \"vega-lib\": \"https://cdn.jsdelivr.net/npm//vega-lib?noext\",\n",
              "      \"vega-lite\": \"https://cdn.jsdelivr.net/npm//vega-lite@4.8.1?noext\",\n",
              "      \"vega-embed\": \"https://cdn.jsdelivr.net/npm//vega-embed@6?noext\",\n",
              "    };\n",
              "\n",
              "    function loadScript(lib) {\n",
              "      return new Promise(function(resolve, reject) {\n",
              "        var s = document.createElement('script');\n",
              "        s.src = paths[lib];\n",
              "        s.async = true;\n",
              "        s.onload = () => resolve(paths[lib]);\n",
              "        s.onerror = () => reject(`Error loading script: ${paths[lib]}`);\n",
              "        document.getElementsByTagName(\"head\")[0].appendChild(s);\n",
              "      });\n",
              "    }\n",
              "\n",
              "    function showError(err) {\n",
              "      outputDiv.innerHTML = `<div class=\"error\" style=\"color:red;\">${err}</div>`;\n",
              "      throw err;\n",
              "    }\n",
              "\n",
              "    function displayChart(vegaEmbed) {\n",
              "      vegaEmbed(outputDiv, spec, embedOpt)\n",
              "        .catch(err => showError(`Javascript Error: ${err.message}<br>This usually means there's a typo in your chart specification. See the javascript console for the full traceback.`));\n",
              "    }\n",
              "\n",
              "    if(typeof define === \"function\" && define.amd) {\n",
              "      requirejs.config({paths});\n",
              "      require([\"vega-embed\"], displayChart, err => showError(`Error loading script: ${err.message}`));\n",
              "    } else if (typeof vegaEmbed === \"function\") {\n",
              "      displayChart(vegaEmbed);\n",
              "    } else {\n",
              "      loadScript(\"vega\")\n",
              "        .then(() => loadScript(\"vega-lite\"))\n",
              "        .then(() => loadScript(\"vega-embed\"))\n",
              "        .catch(showError)\n",
              "        .then(() => displayChart(vegaEmbed));\n",
              "    }\n",
              "  })({\"config\": {\"view\": {\"continuousWidth\": 400, \"continuousHeight\": 300}}, \"data\": {\"url\": \"https://raw.githubusercontent.com/howard-haowen/kh-real-estate/main/kh-house-prices.csv\"}, \"mark\": \"circle\", \"encoding\": {\"color\": {\"type\": \"nominal\", \"field\": \"district\"}, \"x\": {\"type\": \"temporal\", \"field\": \"built_date\"}, \"y\": {\"type\": \"quantitative\", \"field\": \"price_per_sqm\"}}, \"$schema\": \"https://vega.github.io/schema/vega-lite/v4.8.1.json\"}, {\"mode\": \"vega-lite\"});\n",
              "</script>"
            ]
          },
          "metadata": {
            "tags": []
          },
          "execution_count": 13
        }
      ]
    },
    {
      "cell_type": "markdown",
      "metadata": {
        "id": "CsP73evBdfbD"
      },
      "source": [
        "> Note: If your data source is a dataframe, then column names are sufficient. But if your data source is an URL as is the case here, **you have to specify your data types with `:X` right after the column names**, where X can be one of these:\n",
        "\n",
        "*   `Q` for quantitative data \n",
        "*   `O` for ordinal data\n",
        "*   `N` for nominal data\n",
        "*   `T` for temporal data\n",
        "*   `G` for geographic data"
      ]
    },
    {
      "cell_type": "markdown",
      "metadata": {
        "id": "pz6g-cPTc95Z"
      },
      "source": [
        "And one thing that I like about `Altair` is that there're lots of predefined aggregate functions that you can use on the fly. For instance, you can pass temporal data to the function `yearmonth()`, which aggreates data points in terms of year and month. Or you can pass quantitative data to `average()`, which calculates the mean for you. This way, you won't have to create additional columns using `pandas` and keep your raw data as minimal as possible."
      ]
    },
    {
      "cell_type": "code",
      "metadata": {
        "colab": {
          "base_uri": "https://localhost:8080/",
          "height": 629
        },
        "id": "smaUYpvHaIJN",
        "outputId": "461b2b5a-217e-4cd9-e1c2-89c0a20c05c9"
      },
      "source": [
        "#collapse-output\n",
        "\n",
        "alt.Chart(url).mark_circle().encode(\n",
        "    x='yearmonth(built_date):T',\n",
        "    y='average(price_per_sqm):Q',\n",
        "    color='district:N',)"
      ],
      "execution_count": null,
      "outputs": [
        {
          "output_type": "execute_result",
          "data": {
            "text/plain": [
              "alt.Chart(...)"
            ],
            "text/html": [
              "\n",
              "<div id=\"altair-viz-9b64202012c74c41b3a1a13d7bbf72e3\"></div>\n",
              "<script type=\"text/javascript\">\n",
              "  (function(spec, embedOpt){\n",
              "    let outputDiv = document.currentScript.previousElementSibling;\n",
              "    if (outputDiv.id !== \"altair-viz-9b64202012c74c41b3a1a13d7bbf72e3\") {\n",
              "      outputDiv = document.getElementById(\"altair-viz-9b64202012c74c41b3a1a13d7bbf72e3\");\n",
              "    }\n",
              "    const paths = {\n",
              "      \"vega\": \"https://cdn.jsdelivr.net/npm//vega@5?noext\",\n",
              "      \"vega-lib\": \"https://cdn.jsdelivr.net/npm//vega-lib?noext\",\n",
              "      \"vega-lite\": \"https://cdn.jsdelivr.net/npm//vega-lite@4.8.1?noext\",\n",
              "      \"vega-embed\": \"https://cdn.jsdelivr.net/npm//vega-embed@6?noext\",\n",
              "    };\n",
              "\n",
              "    function loadScript(lib) {\n",
              "      return new Promise(function(resolve, reject) {\n",
              "        var s = document.createElement('script');\n",
              "        s.src = paths[lib];\n",
              "        s.async = true;\n",
              "        s.onload = () => resolve(paths[lib]);\n",
              "        s.onerror = () => reject(`Error loading script: ${paths[lib]}`);\n",
              "        document.getElementsByTagName(\"head\")[0].appendChild(s);\n",
              "      });\n",
              "    }\n",
              "\n",
              "    function showError(err) {\n",
              "      outputDiv.innerHTML = `<div class=\"error\" style=\"color:red;\">${err}</div>`;\n",
              "      throw err;\n",
              "    }\n",
              "\n",
              "    function displayChart(vegaEmbed) {\n",
              "      vegaEmbed(outputDiv, spec, embedOpt)\n",
              "        .catch(err => showError(`Javascript Error: ${err.message}<br>This usually means there's a typo in your chart specification. See the javascript console for the full traceback.`));\n",
              "    }\n",
              "\n",
              "    if(typeof define === \"function\" && define.amd) {\n",
              "      requirejs.config({paths});\n",
              "      require([\"vega-embed\"], displayChart, err => showError(`Error loading script: ${err.message}`));\n",
              "    } else if (typeof vegaEmbed === \"function\") {\n",
              "      displayChart(vegaEmbed);\n",
              "    } else {\n",
              "      loadScript(\"vega\")\n",
              "        .then(() => loadScript(\"vega-lite\"))\n",
              "        .then(() => loadScript(\"vega-embed\"))\n",
              "        .catch(showError)\n",
              "        .then(() => displayChart(vegaEmbed));\n",
              "    }\n",
              "  })({\"config\": {\"view\": {\"continuousWidth\": 400, \"continuousHeight\": 300}}, \"data\": {\"url\": \"https://raw.githubusercontent.com/howard-haowen/kh-real-estate/main/kh-house-prices.csv\"}, \"mark\": \"circle\", \"encoding\": {\"color\": {\"type\": \"nominal\", \"field\": \"district\"}, \"x\": {\"type\": \"temporal\", \"field\": \"built_date\", \"timeUnit\": \"yearmonth\"}, \"y\": {\"type\": \"quantitative\", \"aggregate\": \"average\", \"field\": \"price_per_sqm\"}}, \"$schema\": \"https://vega.github.io/schema/vega-lite/v4.8.1.json\"}, {\"mode\": \"vega-lite\"});\n",
              "</script>"
            ]
          },
          "metadata": {
            "tags": []
          },
          "execution_count": 14
        }
      ]
    },
    {
      "cell_type": "markdown",
      "metadata": {
        "id": "w6makqwvhtvw"
      },
      "source": [
        "In `pandas`, we'd filter data using `df[FILTER]`. In `Altair`, this is done by `.transform_filter()`. In the chart above, we see that the majority of data points gather in the lower right corner. So one way to zoom in is to set a range for `built_year` on the x axis, which represents the year a property was built. Suppose we want `built_year` to fall within 1950 and 2020, we do `alt.FieldRangePredicate(field='built_year', range=[1950, 2020])`. "
      ]
    },
    {
      "cell_type": "code",
      "metadata": {
        "colab": {
          "base_uri": "https://localhost:8080/",
          "height": 629
        },
        "id": "YcT64fctbkUo",
        "outputId": "87c9e606-416b-4406-f5e8-2225c0631bf2"
      },
      "source": [
        "#collapse-output\n",
        "\n",
        "alt.Chart(url).mark_circle().encode(\n",
        "    x='yearmonth(built_date):T',\n",
        "    y='average(price_per_sqm):Q',\n",
        "    color='district:N',).transform_filter(\n",
        "        alt.FieldRangePredicate(field='built_year', range=[1950, 2020])\n",
        "    )"
      ],
      "execution_count": null,
      "outputs": [
        {
          "output_type": "execute_result",
          "data": {
            "text/plain": [
              "alt.Chart(...)"
            ],
            "text/html": [
              "\n",
              "<div id=\"altair-viz-c533bbe48da54d0e9d04bbce46d75bb8\"></div>\n",
              "<script type=\"text/javascript\">\n",
              "  (function(spec, embedOpt){\n",
              "    let outputDiv = document.currentScript.previousElementSibling;\n",
              "    if (outputDiv.id !== \"altair-viz-c533bbe48da54d0e9d04bbce46d75bb8\") {\n",
              "      outputDiv = document.getElementById(\"altair-viz-c533bbe48da54d0e9d04bbce46d75bb8\");\n",
              "    }\n",
              "    const paths = {\n",
              "      \"vega\": \"https://cdn.jsdelivr.net/npm//vega@5?noext\",\n",
              "      \"vega-lib\": \"https://cdn.jsdelivr.net/npm//vega-lib?noext\",\n",
              "      \"vega-lite\": \"https://cdn.jsdelivr.net/npm//vega-lite@4.8.1?noext\",\n",
              "      \"vega-embed\": \"https://cdn.jsdelivr.net/npm//vega-embed@6?noext\",\n",
              "    };\n",
              "\n",
              "    function loadScript(lib) {\n",
              "      return new Promise(function(resolve, reject) {\n",
              "        var s = document.createElement('script');\n",
              "        s.src = paths[lib];\n",
              "        s.async = true;\n",
              "        s.onload = () => resolve(paths[lib]);\n",
              "        s.onerror = () => reject(`Error loading script: ${paths[lib]}`);\n",
              "        document.getElementsByTagName(\"head\")[0].appendChild(s);\n",
              "      });\n",
              "    }\n",
              "\n",
              "    function showError(err) {\n",
              "      outputDiv.innerHTML = `<div class=\"error\" style=\"color:red;\">${err}</div>`;\n",
              "      throw err;\n",
              "    }\n",
              "\n",
              "    function displayChart(vegaEmbed) {\n",
              "      vegaEmbed(outputDiv, spec, embedOpt)\n",
              "        .catch(err => showError(`Javascript Error: ${err.message}<br>This usually means there's a typo in your chart specification. See the javascript console for the full traceback.`));\n",
              "    }\n",
              "\n",
              "    if(typeof define === \"function\" && define.amd) {\n",
              "      requirejs.config({paths});\n",
              "      require([\"vega-embed\"], displayChart, err => showError(`Error loading script: ${err.message}`));\n",
              "    } else if (typeof vegaEmbed === \"function\") {\n",
              "      displayChart(vegaEmbed);\n",
              "    } else {\n",
              "      loadScript(\"vega\")\n",
              "        .then(() => loadScript(\"vega-lite\"))\n",
              "        .then(() => loadScript(\"vega-embed\"))\n",
              "        .catch(showError)\n",
              "        .then(() => displayChart(vegaEmbed));\n",
              "    }\n",
              "  })({\"config\": {\"view\": {\"continuousWidth\": 400, \"continuousHeight\": 300}}, \"data\": {\"url\": \"https://raw.githubusercontent.com/howard-haowen/kh-real-estate/main/kh-house-prices.csv\"}, \"mark\": \"circle\", \"encoding\": {\"color\": {\"type\": \"nominal\", \"field\": \"district\"}, \"x\": {\"type\": \"temporal\", \"field\": \"built_date\", \"timeUnit\": \"yearmonth\"}, \"y\": {\"type\": \"quantitative\", \"aggregate\": \"average\", \"field\": \"price_per_sqm\"}}, \"transform\": [{\"filter\": {\"field\": \"built_year\", \"range\": [1950, 2020]}}], \"$schema\": \"https://vega.github.io/schema/vega-lite/v4.8.1.json\"}, {\"mode\": \"vega-lite\"});\n",
              "</script>"
            ]
          },
          "metadata": {
            "tags": []
          },
          "execution_count": 17
        }
      ]
    },
    {
      "cell_type": "markdown",
      "metadata": {
        "id": "GGKcQEqIkRpu"
      },
      "source": [
        "Similarly, if we want `price_per_sqm` on the y axis, which represents property prices per square meter (in NT$ of course!) to be in the range of 10k and 300k, then we do `alt.FieldRangePredicate(field='price_per_sqm', range=[10000, 300000])`. "
      ]
    },
    {
      "cell_type": "code",
      "metadata": {
        "colab": {
          "base_uri": "https://localhost:8080/",
          "height": 629
        },
        "id": "tVwO917Uegn0",
        "outputId": "f13c18ff-fef5-4a55-d873-0e27467ac331"
      },
      "source": [
        "#collapse-output\n",
        "\n",
        "alt.Chart(url).mark_circle().encode(\n",
        "    x='yearmonth(built_date):T',\n",
        "    y='average(price_per_sqm):Q',\n",
        "    color='district:N',).transform_filter(\n",
        "        alt.FieldRangePredicate(field='price_per_sqm', range=[10000, 300000])\n",
        "    )"
      ],
      "execution_count": null,
      "outputs": [
        {
          "output_type": "execute_result",
          "data": {
            "text/plain": [
              "alt.Chart(...)"
            ],
            "text/html": [
              "\n",
              "<div id=\"altair-viz-b2768781cf9541889a5d84550f7d2c16\"></div>\n",
              "<script type=\"text/javascript\">\n",
              "  (function(spec, embedOpt){\n",
              "    let outputDiv = document.currentScript.previousElementSibling;\n",
              "    if (outputDiv.id !== \"altair-viz-b2768781cf9541889a5d84550f7d2c16\") {\n",
              "      outputDiv = document.getElementById(\"altair-viz-b2768781cf9541889a5d84550f7d2c16\");\n",
              "    }\n",
              "    const paths = {\n",
              "      \"vega\": \"https://cdn.jsdelivr.net/npm//vega@5?noext\",\n",
              "      \"vega-lib\": \"https://cdn.jsdelivr.net/npm//vega-lib?noext\",\n",
              "      \"vega-lite\": \"https://cdn.jsdelivr.net/npm//vega-lite@4.8.1?noext\",\n",
              "      \"vega-embed\": \"https://cdn.jsdelivr.net/npm//vega-embed@6?noext\",\n",
              "    };\n",
              "\n",
              "    function loadScript(lib) {\n",
              "      return new Promise(function(resolve, reject) {\n",
              "        var s = document.createElement('script');\n",
              "        s.src = paths[lib];\n",
              "        s.async = true;\n",
              "        s.onload = () => resolve(paths[lib]);\n",
              "        s.onerror = () => reject(`Error loading script: ${paths[lib]}`);\n",
              "        document.getElementsByTagName(\"head\")[0].appendChild(s);\n",
              "      });\n",
              "    }\n",
              "\n",
              "    function showError(err) {\n",
              "      outputDiv.innerHTML = `<div class=\"error\" style=\"color:red;\">${err}</div>`;\n",
              "      throw err;\n",
              "    }\n",
              "\n",
              "    function displayChart(vegaEmbed) {\n",
              "      vegaEmbed(outputDiv, spec, embedOpt)\n",
              "        .catch(err => showError(`Javascript Error: ${err.message}<br>This usually means there's a typo in your chart specification. See the javascript console for the full traceback.`));\n",
              "    }\n",
              "\n",
              "    if(typeof define === \"function\" && define.amd) {\n",
              "      requirejs.config({paths});\n",
              "      require([\"vega-embed\"], displayChart, err => showError(`Error loading script: ${err.message}`));\n",
              "    } else if (typeof vegaEmbed === \"function\") {\n",
              "      displayChart(vegaEmbed);\n",
              "    } else {\n",
              "      loadScript(\"vega\")\n",
              "        .then(() => loadScript(\"vega-lite\"))\n",
              "        .then(() => loadScript(\"vega-embed\"))\n",
              "        .catch(showError)\n",
              "        .then(() => displayChart(vegaEmbed));\n",
              "    }\n",
              "  })({\"config\": {\"view\": {\"continuousWidth\": 400, \"continuousHeight\": 300}}, \"data\": {\"url\": \"https://raw.githubusercontent.com/howard-haowen/kh-real-estate/main/kh-house-prices.csv\"}, \"mark\": \"circle\", \"encoding\": {\"color\": {\"type\": \"nominal\", \"field\": \"district\"}, \"x\": {\"type\": \"temporal\", \"field\": \"built_date\", \"timeUnit\": \"yearmonth\"}, \"y\": {\"type\": \"quantitative\", \"aggregate\": \"average\", \"field\": \"price_per_sqm\"}}, \"transform\": [{\"filter\": {\"field\": \"price_per_sqm\", \"range\": [10000, 300000]}}], \"$schema\": \"https://vega.github.io/schema/vega-lite/v4.8.1.json\"}, {\"mode\": \"vega-lite\"});\n",
              "</script>"
            ]
          },
          "metadata": {
            "tags": []
          },
          "execution_count": 20
        }
      ]
    },
    {
      "cell_type": "markdown",
      "metadata": {
        "id": "X5b50uh6lC9R"
      },
      "source": [
        "But what if we want to filter data from multiple columns? I found that an easy way to do that is to use `datum.X`, where X is a column name. Then the syntax is just like what you'd see in `pandas`. Suppose we want `built_year` to be greater than 1950 and `price_per_sqm` less than 300k, then we do `(datum.built_year > 1950) & (datum.price_per_sqm < 300000)`. "
      ]
    },
    {
      "cell_type": "markdown",
      "metadata": {
        "id": "QfujkgKYmKjJ"
      },
      "source": [
        "> Important: It took me a while to figure what what kind of object `datum` is. It turns out that `Altair` is smart enough to take care of everything for you as long as you import `datum`. So be sure to do this: `from altair import datum`.\n",
        "\n"
      ]
    },
    {
      "cell_type": "code",
      "metadata": {
        "colab": {
          "base_uri": "https://localhost:8080/",
          "height": 629
        },
        "id": "J886k4wvi9UC",
        "outputId": "b20c0fba-f478-441e-ecde-c202fc85387e"
      },
      "source": [
        "#collapse-output\n",
        "\n",
        "alt.Chart(url).mark_circle().encode(\n",
        "    x='yearmonth(built_date):T',\n",
        "    y='average(price_per_sqm):Q',\n",
        "    color='district:N',).transform_filter(\n",
        "        (datum.built_year > 1950) & (datum.price_per_sqm < 300000)\n",
        "    )"
      ],
      "execution_count": null,
      "outputs": [
        {
          "output_type": "execute_result",
          "data": {
            "text/plain": [
              "alt.Chart(...)"
            ],
            "text/html": [
              "\n",
              "<div id=\"altair-viz-7b95755c26c846a89b3ec2c0de5ee42d\"></div>\n",
              "<script type=\"text/javascript\">\n",
              "  (function(spec, embedOpt){\n",
              "    let outputDiv = document.currentScript.previousElementSibling;\n",
              "    if (outputDiv.id !== \"altair-viz-7b95755c26c846a89b3ec2c0de5ee42d\") {\n",
              "      outputDiv = document.getElementById(\"altair-viz-7b95755c26c846a89b3ec2c0de5ee42d\");\n",
              "    }\n",
              "    const paths = {\n",
              "      \"vega\": \"https://cdn.jsdelivr.net/npm//vega@5?noext\",\n",
              "      \"vega-lib\": \"https://cdn.jsdelivr.net/npm//vega-lib?noext\",\n",
              "      \"vega-lite\": \"https://cdn.jsdelivr.net/npm//vega-lite@4.8.1?noext\",\n",
              "      \"vega-embed\": \"https://cdn.jsdelivr.net/npm//vega-embed@6?noext\",\n",
              "    };\n",
              "\n",
              "    function loadScript(lib) {\n",
              "      return new Promise(function(resolve, reject) {\n",
              "        var s = document.createElement('script');\n",
              "        s.src = paths[lib];\n",
              "        s.async = true;\n",
              "        s.onload = () => resolve(paths[lib]);\n",
              "        s.onerror = () => reject(`Error loading script: ${paths[lib]}`);\n",
              "        document.getElementsByTagName(\"head\")[0].appendChild(s);\n",
              "      });\n",
              "    }\n",
              "\n",
              "    function showError(err) {\n",
              "      outputDiv.innerHTML = `<div class=\"error\" style=\"color:red;\">${err}</div>`;\n",
              "      throw err;\n",
              "    }\n",
              "\n",
              "    function displayChart(vegaEmbed) {\n",
              "      vegaEmbed(outputDiv, spec, embedOpt)\n",
              "        .catch(err => showError(`Javascript Error: ${err.message}<br>This usually means there's a typo in your chart specification. See the javascript console for the full traceback.`));\n",
              "    }\n",
              "\n",
              "    if(typeof define === \"function\" && define.amd) {\n",
              "      requirejs.config({paths});\n",
              "      require([\"vega-embed\"], displayChart, err => showError(`Error loading script: ${err.message}`));\n",
              "    } else if (typeof vegaEmbed === \"function\") {\n",
              "      displayChart(vegaEmbed);\n",
              "    } else {\n",
              "      loadScript(\"vega\")\n",
              "        .then(() => loadScript(\"vega-lite\"))\n",
              "        .then(() => loadScript(\"vega-embed\"))\n",
              "        .catch(showError)\n",
              "        .then(() => displayChart(vegaEmbed));\n",
              "    }\n",
              "  })({\"config\": {\"view\": {\"continuousWidth\": 400, \"continuousHeight\": 300}}, \"data\": {\"url\": \"https://raw.githubusercontent.com/howard-haowen/kh-real-estate/main/kh-house-prices.csv\"}, \"mark\": \"circle\", \"encoding\": {\"color\": {\"type\": \"nominal\", \"field\": \"district\"}, \"x\": {\"type\": \"temporal\", \"field\": \"built_date\", \"timeUnit\": \"yearmonth\"}, \"y\": {\"type\": \"quantitative\", \"aggregate\": \"average\", \"field\": \"price_per_sqm\"}}, \"transform\": [{\"filter\": \"((datum.built_year > 1950) && (datum.price_per_sqm < 300000))\"}], \"$schema\": \"https://vega.github.io/schema/vega-lite/v4.8.1.json\"}, {\"mode\": \"vega-lite\"});\n",
              "</script>"
            ]
          },
          "metadata": {
            "tags": []
          },
          "execution_count": 26
        }
      ]
    },
    {
      "cell_type": "markdown",
      "metadata": {
        "id": "itlTa0tknnzd"
      },
      "source": [
        "Finally, if you want to give viewers of your chart the liberty to zoom in and out, you can make an interactive chart simply by adding `.interactive()` to the end of your syntax. To see the effect, click on any grid of the following chart and then scroll your mouse or move two of your fingers up and down on your Magic Trackpad."
      ]
    },
    {
      "cell_type": "markdown",
      "metadata": {
        "id": "cSPVCuNowgY4"
      },
      "source": [
        "> Warning: Try not to make too many interactive charts if your dataset is huge because they can cause serious performance issues. That's why I only made three interactive charts in this post. "
      ]
    },
    {
      "cell_type": "code",
      "metadata": {
        "colab": {
          "base_uri": "https://localhost:8080/",
          "height": 529
        },
        "id": "_n1kxxMUqc2v",
        "outputId": "1266b40c-540f-45f7-a6a6-d8be654b0980"
      },
      "source": [
        "#collapse-show\n",
        "\n",
        "alt.Chart(url).mark_circle().encode(\n",
        "    x='yearmonth(built_date):T',\n",
        "    y='average(price_per_sqm):Q',\n",
        "    color='district:N',).transform_filter(\n",
        "        (datum.built_year > 1950) & (datum.price_per_sqm < 300000)\n",
        "    ).interactive()"
      ],
      "execution_count": null,
      "outputs": [
        {
          "output_type": "execute_result",
          "data": {
            "text/plain": [
              "alt.Chart(...)"
            ],
            "text/html": [
              "\n",
              "<div id=\"altair-viz-6d2ce36a773f4e11bfbf0fb6fd658688\"></div>\n",
              "<script type=\"text/javascript\">\n",
              "  (function(spec, embedOpt){\n",
              "    let outputDiv = document.currentScript.previousElementSibling;\n",
              "    if (outputDiv.id !== \"altair-viz-6d2ce36a773f4e11bfbf0fb6fd658688\") {\n",
              "      outputDiv = document.getElementById(\"altair-viz-6d2ce36a773f4e11bfbf0fb6fd658688\");\n",
              "    }\n",
              "    const paths = {\n",
              "      \"vega\": \"https://cdn.jsdelivr.net/npm//vega@5?noext\",\n",
              "      \"vega-lib\": \"https://cdn.jsdelivr.net/npm//vega-lib?noext\",\n",
              "      \"vega-lite\": \"https://cdn.jsdelivr.net/npm//vega-lite@4.8.1?noext\",\n",
              "      \"vega-embed\": \"https://cdn.jsdelivr.net/npm//vega-embed@6?noext\",\n",
              "    };\n",
              "\n",
              "    function loadScript(lib) {\n",
              "      return new Promise(function(resolve, reject) {\n",
              "        var s = document.createElement('script');\n",
              "        s.src = paths[lib];\n",
              "        s.async = true;\n",
              "        s.onload = () => resolve(paths[lib]);\n",
              "        s.onerror = () => reject(`Error loading script: ${paths[lib]}`);\n",
              "        document.getElementsByTagName(\"head\")[0].appendChild(s);\n",
              "      });\n",
              "    }\n",
              "\n",
              "    function showError(err) {\n",
              "      outputDiv.innerHTML = `<div class=\"error\" style=\"color:red;\">${err}</div>`;\n",
              "      throw err;\n",
              "    }\n",
              "\n",
              "    function displayChart(vegaEmbed) {\n",
              "      vegaEmbed(outputDiv, spec, embedOpt)\n",
              "        .catch(err => showError(`Javascript Error: ${err.message}<br>This usually means there's a typo in your chart specification. See the javascript console for the full traceback.`));\n",
              "    }\n",
              "\n",
              "    if(typeof define === \"function\" && define.amd) {\n",
              "      requirejs.config({paths});\n",
              "      require([\"vega-embed\"], displayChart, err => showError(`Error loading script: ${err.message}`));\n",
              "    } else if (typeof vegaEmbed === \"function\") {\n",
              "      displayChart(vegaEmbed);\n",
              "    } else {\n",
              "      loadScript(\"vega\")\n",
              "        .then(() => loadScript(\"vega-lite\"))\n",
              "        .then(() => loadScript(\"vega-embed\"))\n",
              "        .catch(showError)\n",
              "        .then(() => displayChart(vegaEmbed));\n",
              "    }\n",
              "  })({\"config\": {\"view\": {\"continuousWidth\": 400, \"continuousHeight\": 300}}, \"data\": {\"url\": \"https://raw.githubusercontent.com/howard-haowen/kh-real-estate/main/kh-house-prices.csv\"}, \"mark\": \"circle\", \"encoding\": {\"color\": {\"type\": \"nominal\", \"field\": \"district\"}, \"x\": {\"type\": \"temporal\", \"field\": \"built_date\", \"timeUnit\": \"yearmonth\"}, \"y\": {\"type\": \"quantitative\", \"aggregate\": \"average\", \"field\": \"price_per_sqm\"}}, \"selection\": {\"selector010\": {\"type\": \"interval\", \"bind\": \"scales\", \"encodings\": [\"x\", \"y\"]}}, \"transform\": [{\"filter\": \"((datum.built_year > 1950) && (datum.price_per_sqm < 300000))\"}], \"$schema\": \"https://vega.github.io/schema/vega-lite/v4.8.1.json\"}, {\"mode\": \"vega-lite\"});\n",
              "</script>"
            ]
          },
          "metadata": {
            "tags": []
          },
          "execution_count": 36
        }
      ]
    },
    {
      "cell_type": "markdown",
      "metadata": {
        "id": "mGuCNS22oydL"
      },
      "source": [
        "I think that's enough for the basics and for you to keep the ball rolling. Coming up are some of the numerous fancy charts that you can make with `Altair`. "
      ]
    },
    {
      "cell_type": "markdown",
      "metadata": {
        "id": "xbIKfdw5t19X"
      },
      "source": [
        "## Complex charts"
      ]
    },
    {
      "cell_type": "markdown",
      "metadata": {
        "id": "9bgauwwEuVuG"
      },
      "source": [
        "Suppose we want to create a scatter plot where viewers can focus on data points from a particular district of their choice, the  `.add_selection()` function can be quite handy. Let's first check out the unique districts in the datasets. (Btw, there're more districts in Kaohsiung. These are simply more densely populated areas.)"
      ]
    },
    {
      "cell_type": "code",
      "metadata": {
        "colab": {
          "base_uri": "https://localhost:8080/"
        },
        "id": "C8AxS_wFx_3Z",
        "outputId": "bc478f15-132f-4394-d746-acbe46a2c3ed"
      },
      "source": [
        "districts = df.district.unique().tolist()\n",
        "districts"
      ],
      "execution_count": null,
      "outputs": [
        {
          "output_type": "execute_result",
          "data": {
            "text/plain": [
              "['鼓山區', '前金區', '前鎮區', '三民區', '楠梓區', '左營區', '鳳山區', '新興區', '苓雅區']"
            ]
          },
          "metadata": {
            "tags": []
          },
          "execution_count": 47
        }
      ]
    },
    {
      "cell_type": "markdown",
      "metadata": {
        "id": "6AnpabP1z_hy"
      },
      "source": [
        "We first create a variable `selection`, which we'll pass to `.add_selection()` later. The `selection` itself is a built-in function called `alt.selection_single()`, which takes the following arguments:\n",
        "\n",
        "*   `name` for the name you want to display in the selection area\n",
        "*   `fields` for a list of column names that views can choose from\n",
        "*   `init` for a dictionary specifying the default value for each selectable column \n",
        "*   `bind` for a dictionary specifying the way a column is to be selected (in this case, `alt.binding_select()` for a drop down box) and its possible values (indicated by the argument `options`)\n",
        "\n",
        "Additionally, if we want to display information about a data point upon mouseover, we can pass a list of column names to the argument `tooltip` of the `.encode()` function.   \n",
        "\n",
        "Importantly, **for the interaction to work, we have to add `.add_selection(selection)` right before the `.encode()` function**. "
      ]
    },
    {
      "cell_type": "code",
      "metadata": {
        "colab": {
          "base_uri": "https://localhost:8080/",
          "height": 390
        },
        "id": "okXlX_drHmxB",
        "outputId": "7eca31a4-d7ae-411e-f87c-f6974f97608d"
      },
      "source": [
        "#collapse-show\n",
        "\n",
        "selection = alt.selection_single(\n",
        "    name='Select',\n",
        "    fields=['district', ],\n",
        "    init={'district': '左營區', },\n",
        "    bind={'district': alt.binding_select(options=districts), }\n",
        ")\n",
        "\n",
        "alt.Chart(url).mark_circle().add_selection(selection).encode(\n",
        "    x='yearmonth(built_date):T',\n",
        "    y='price_per_sqm:Q',\n",
        "    color=alt.condition(selection, 'district:N', alt.value('lightgray')),\n",
        "    tooltip=['property_type:N','property_area:Q','parking_area:Q', \n",
        "             'built_date:T','tradinng_date:T','price_per_sqm:Q'],\n",
        "    ).transform_filter(\n",
        "        (datum.built_year > 1950) & (datum.price_per_sqm < 200000)\n",
        "        ).interactive()"
      ],
      "execution_count": null,
      "outputs": [
        {
          "output_type": "execute_result",
          "data": {
            "text/plain": [
              "alt.Chart(...)"
            ],
            "text/html": [
              "\n",
              "<div id=\"altair-viz-d6d499f124044e168057d13a4b423fca\"></div>\n",
              "<script type=\"text/javascript\">\n",
              "  (function(spec, embedOpt){\n",
              "    let outputDiv = document.currentScript.previousElementSibling;\n",
              "    if (outputDiv.id !== \"altair-viz-d6d499f124044e168057d13a4b423fca\") {\n",
              "      outputDiv = document.getElementById(\"altair-viz-d6d499f124044e168057d13a4b423fca\");\n",
              "    }\n",
              "    const paths = {\n",
              "      \"vega\": \"https://cdn.jsdelivr.net/npm//vega@5?noext\",\n",
              "      \"vega-lib\": \"https://cdn.jsdelivr.net/npm//vega-lib?noext\",\n",
              "      \"vega-lite\": \"https://cdn.jsdelivr.net/npm//vega-lite@4.8.1?noext\",\n",
              "      \"vega-embed\": \"https://cdn.jsdelivr.net/npm//vega-embed@6?noext\",\n",
              "    };\n",
              "\n",
              "    function loadScript(lib) {\n",
              "      return new Promise(function(resolve, reject) {\n",
              "        var s = document.createElement('script');\n",
              "        s.src = paths[lib];\n",
              "        s.async = true;\n",
              "        s.onload = () => resolve(paths[lib]);\n",
              "        s.onerror = () => reject(`Error loading script: ${paths[lib]}`);\n",
              "        document.getElementsByTagName(\"head\")[0].appendChild(s);\n",
              "      });\n",
              "    }\n",
              "\n",
              "    function showError(err) {\n",
              "      outputDiv.innerHTML = `<div class=\"error\" style=\"color:red;\">${err}</div>`;\n",
              "      throw err;\n",
              "    }\n",
              "\n",
              "    function displayChart(vegaEmbed) {\n",
              "      vegaEmbed(outputDiv, spec, embedOpt)\n",
              "        .catch(err => showError(`Javascript Error: ${err.message}<br>This usually means there's a typo in your chart specification. See the javascript console for the full traceback.`));\n",
              "    }\n",
              "\n",
              "    if(typeof define === \"function\" && define.amd) {\n",
              "      requirejs.config({paths});\n",
              "      require([\"vega-embed\"], displayChart, err => showError(`Error loading script: ${err.message}`));\n",
              "    } else if (typeof vegaEmbed === \"function\") {\n",
              "      displayChart(vegaEmbed);\n",
              "    } else {\n",
              "      loadScript(\"vega\")\n",
              "        .then(() => loadScript(\"vega-lite\"))\n",
              "        .then(() => loadScript(\"vega-embed\"))\n",
              "        .catch(showError)\n",
              "        .then(() => displayChart(vegaEmbed));\n",
              "    }\n",
              "  })({\"config\": {\"view\": {\"continuousWidth\": 400, \"continuousHeight\": 300}}, \"data\": {\"url\": \"https://raw.githubusercontent.com/howard-haowen/kh-real-estate/main/kh-house-prices.csv\"}, \"mark\": \"circle\", \"encoding\": {\"color\": {\"condition\": {\"type\": \"nominal\", \"field\": \"district\", \"selection\": \"Select\"}, \"value\": \"lightgray\"}, \"tooltip\": [{\"type\": \"nominal\", \"field\": \"property_type\"}, {\"type\": \"quantitative\", \"field\": \"property_area\"}, {\"type\": \"quantitative\", \"field\": \"parking_area\"}, {\"type\": \"temporal\", \"field\": \"built_date\"}, {\"type\": \"temporal\", \"field\": \"tradinng_date\"}, {\"type\": \"quantitative\", \"field\": \"price_per_sqm\"}], \"x\": {\"type\": \"temporal\", \"field\": \"built_date\", \"timeUnit\": \"yearmonth\"}, \"y\": {\"type\": \"quantitative\", \"field\": \"price_per_sqm\"}}, \"selection\": {\"Select\": {\"type\": \"single\", \"fields\": [\"district\"], \"init\": {\"district\": \"\\u5de6\\u71df\\u5340\"}, \"bind\": {\"district\": {\"input\": \"select\", \"options\": [\"\\u9f13\\u5c71\\u5340\", \"\\u524d\\u91d1\\u5340\", \"\\u524d\\u93ae\\u5340\", \"\\u4e09\\u6c11\\u5340\", \"\\u6960\\u6893\\u5340\", \"\\u5de6\\u71df\\u5340\", \"\\u9cf3\\u5c71\\u5340\", \"\\u65b0\\u8208\\u5340\", \"\\u82d3\\u96c5\\u5340\"]}}}, \"selector018\": {\"type\": \"interval\", \"bind\": \"scales\", \"encodings\": [\"x\", \"y\"]}}, \"transform\": [{\"filter\": \"((datum.built_year > 1950) && (datum.price_per_sqm < 200000))\"}], \"$schema\": \"https://vega.github.io/schema/vega-lite/v4.8.1.json\"}, {\"mode\": \"vega-lite\"});\n",
              "</script>"
            ]
          },
          "metadata": {
            "tags": []
          },
          "execution_count": 72
        }
      ]
    },
    {
      "cell_type": "markdown",
      "metadata": {
        "id": "wU1tCfu7OHXa"
      },
      "source": [
        "We can also make two charts and then concatenat them vertically by calling the function `alt.vconcat()`, which takes chart objects and `data` as its arguments. \n",
        "\n"
      ]
    },
    {
      "cell_type": "code",
      "metadata": {
        "colab": {
          "base_uri": "https://localhost:8080/",
          "height": 753
        },
        "id": "5JlLAptRgYMy",
        "outputId": "a2d99352-3ef5-45a5-cd1e-8331db61543a"
      },
      "source": [
        "#collapse-show\n",
        "\n",
        "selection = alt.selection_multi(fields=['district'])\n",
        "\n",
        "top = alt.Chart().mark_line().encode(\n",
        "    x='yearmonth(built_date):T',\n",
        "    y='mean(price_per_sqm):Q',\n",
        "    color='district:N'\n",
        ").properties(\n",
        "    width=600, height=200\n",
        ").transform_filter(\n",
        "    selection\n",
        ")\n",
        "\n",
        "bottom = alt.Chart().mark_bar().encode(\n",
        "    x='yearmonth(trading_date):T',\n",
        "    y='mean(price_per_sqm):Q',\n",
        "    color=alt.condition(selection, alt.value('steelblue'), alt.value('lightgray'))\n",
        ").properties(\n",
        "    width=600, height=100\n",
        ").add_selection(\n",
        "    selection\n",
        ")\n",
        "\n",
        "alt.vconcat(\n",
        "    top, bottom,\n",
        "    data=url\n",
        ")"
      ],
      "execution_count": null,
      "outputs": [
        {
          "output_type": "execute_result",
          "data": {
            "text/plain": [
              "alt.VConcatChart(...)"
            ],
            "text/html": [
              "\n",
              "<div id=\"altair-viz-957214e65f364acbae8676096ad161f8\"></div>\n",
              "<script type=\"text/javascript\">\n",
              "  (function(spec, embedOpt){\n",
              "    let outputDiv = document.currentScript.previousElementSibling;\n",
              "    if (outputDiv.id !== \"altair-viz-957214e65f364acbae8676096ad161f8\") {\n",
              "      outputDiv = document.getElementById(\"altair-viz-957214e65f364acbae8676096ad161f8\");\n",
              "    }\n",
              "    const paths = {\n",
              "      \"vega\": \"https://cdn.jsdelivr.net/npm//vega@5?noext\",\n",
              "      \"vega-lib\": \"https://cdn.jsdelivr.net/npm//vega-lib?noext\",\n",
              "      \"vega-lite\": \"https://cdn.jsdelivr.net/npm//vega-lite@4.8.1?noext\",\n",
              "      \"vega-embed\": \"https://cdn.jsdelivr.net/npm//vega-embed@6?noext\",\n",
              "    };\n",
              "\n",
              "    function loadScript(lib) {\n",
              "      return new Promise(function(resolve, reject) {\n",
              "        var s = document.createElement('script');\n",
              "        s.src = paths[lib];\n",
              "        s.async = true;\n",
              "        s.onload = () => resolve(paths[lib]);\n",
              "        s.onerror = () => reject(`Error loading script: ${paths[lib]}`);\n",
              "        document.getElementsByTagName(\"head\")[0].appendChild(s);\n",
              "      });\n",
              "    }\n",
              "\n",
              "    function showError(err) {\n",
              "      outputDiv.innerHTML = `<div class=\"error\" style=\"color:red;\">${err}</div>`;\n",
              "      throw err;\n",
              "    }\n",
              "\n",
              "    function displayChart(vegaEmbed) {\n",
              "      vegaEmbed(outputDiv, spec, embedOpt)\n",
              "        .catch(err => showError(`Javascript Error: ${err.message}<br>This usually means there's a typo in your chart specification. See the javascript console for the full traceback.`));\n",
              "    }\n",
              "\n",
              "    if(typeof define === \"function\" && define.amd) {\n",
              "      requirejs.config({paths});\n",
              "      require([\"vega-embed\"], displayChart, err => showError(`Error loading script: ${err.message}`));\n",
              "    } else if (typeof vegaEmbed === \"function\") {\n",
              "      displayChart(vegaEmbed);\n",
              "    } else {\n",
              "      loadScript(\"vega\")\n",
              "        .then(() => loadScript(\"vega-lite\"))\n",
              "        .then(() => loadScript(\"vega-embed\"))\n",
              "        .catch(showError)\n",
              "        .then(() => displayChart(vegaEmbed));\n",
              "    }\n",
              "  })({\"config\": {\"view\": {\"continuousWidth\": 400, \"continuousHeight\": 300}}, \"vconcat\": [{\"mark\": \"line\", \"encoding\": {\"color\": {\"type\": \"nominal\", \"field\": \"district\"}, \"x\": {\"type\": \"temporal\", \"field\": \"built_date\", \"timeUnit\": \"yearmonth\"}, \"y\": {\"type\": \"quantitative\", \"aggregate\": \"mean\", \"field\": \"price_per_sqm\"}}, \"height\": 200, \"transform\": [{\"filter\": {\"selection\": \"selector004\"}}], \"width\": 600}, {\"mark\": \"bar\", \"encoding\": {\"color\": {\"condition\": {\"value\": \"steelblue\", \"selection\": \"selector004\"}, \"value\": \"lightgray\"}, \"x\": {\"type\": \"temporal\", \"field\": \"trading_date\", \"timeUnit\": \"yearmonth\"}, \"y\": {\"type\": \"quantitative\", \"aggregate\": \"mean\", \"field\": \"price_per_sqm\"}}, \"height\": 100, \"selection\": {\"selector004\": {\"type\": \"multi\", \"fields\": [\"district\"]}}, \"width\": 600}], \"data\": {\"url\": \"https://raw.githubusercontent.com/howard-haowen/kh-real-estate/main/kh-house-prices.csv\"}, \"$schema\": \"https://vega.github.io/schema/vega-lite/v4.8.1.json\"}, {\"mode\": \"vega-lite\"});\n",
              "</script>"
            ]
          },
          "metadata": {
            "tags": []
          },
          "execution_count": 23
        }
      ]
    },
    {
      "cell_type": "markdown",
      "metadata": {
        "id": "R-wwt40bQ9t8"
      },
      "source": [
        "We can make one chart respond to another chart based on selection on the second one. This can be useful when we want to have both a global and detailed view of the same chart. The key function we need is `alt.Scale()`. Watch the top chart change as you select different areas of the bottom chart. "
      ]
    },
    {
      "cell_type": "code",
      "metadata": {
        "colab": {
          "base_uri": "https://localhost:8080/",
          "height": 893
        },
        "id": "scB6Qog2Yt25",
        "outputId": "1121f757-0364-47d9-cceb-09bdd27c4f84"
      },
      "source": [
        "#collapse-show\n",
        "\n",
        "brush = alt.selection(type='interval', encodings=['x'])\n",
        "\n",
        "base = alt.Chart(url).mark_area().encode(\n",
        "    x = 'yearmonth(built_date):T',\n",
        "    y = 'price_per_sqm:Q'\n",
        ").properties(\n",
        "    width=600,\n",
        "    height=200\n",
        ")\n",
        "\n",
        "upper = base.encode(\n",
        "    alt.X('yearmonth(built_date):T', scale=alt.Scale(domain=brush))\n",
        ")\n",
        "\n",
        "lower = base.properties(\n",
        "    height=60\n",
        ").add_selection(brush)\n",
        "\n",
        "upper & lower"
      ],
      "execution_count": null,
      "outputs": [
        {
          "output_type": "execute_result",
          "data": {
            "text/plain": [
              "alt.VConcatChart(...)"
            ],
            "text/html": [
              "\n",
              "<div id=\"altair-viz-816ed6f3db824f0db7565b0d992d88a5\"></div>\n",
              "<script type=\"text/javascript\">\n",
              "  (function(spec, embedOpt){\n",
              "    let outputDiv = document.currentScript.previousElementSibling;\n",
              "    if (outputDiv.id !== \"altair-viz-816ed6f3db824f0db7565b0d992d88a5\") {\n",
              "      outputDiv = document.getElementById(\"altair-viz-816ed6f3db824f0db7565b0d992d88a5\");\n",
              "    }\n",
              "    const paths = {\n",
              "      \"vega\": \"https://cdn.jsdelivr.net/npm//vega@5?noext\",\n",
              "      \"vega-lib\": \"https://cdn.jsdelivr.net/npm//vega-lib?noext\",\n",
              "      \"vega-lite\": \"https://cdn.jsdelivr.net/npm//vega-lite@4.8.1?noext\",\n",
              "      \"vega-embed\": \"https://cdn.jsdelivr.net/npm//vega-embed@6?noext\",\n",
              "    };\n",
              "\n",
              "    function loadScript(lib) {\n",
              "      return new Promise(function(resolve, reject) {\n",
              "        var s = document.createElement('script');\n",
              "        s.src = paths[lib];\n",
              "        s.async = true;\n",
              "        s.onload = () => resolve(paths[lib]);\n",
              "        s.onerror = () => reject(`Error loading script: ${paths[lib]}`);\n",
              "        document.getElementsByTagName(\"head\")[0].appendChild(s);\n",
              "      });\n",
              "    }\n",
              "\n",
              "    function showError(err) {\n",
              "      outputDiv.innerHTML = `<div class=\"error\" style=\"color:red;\">${err}</div>`;\n",
              "      throw err;\n",
              "    }\n",
              "\n",
              "    function displayChart(vegaEmbed) {\n",
              "      vegaEmbed(outputDiv, spec, embedOpt)\n",
              "        .catch(err => showError(`Javascript Error: ${err.message}<br>This usually means there's a typo in your chart specification. See the javascript console for the full traceback.`));\n",
              "    }\n",
              "\n",
              "    if(typeof define === \"function\" && define.amd) {\n",
              "      requirejs.config({paths});\n",
              "      require([\"vega-embed\"], displayChart, err => showError(`Error loading script: ${err.message}`));\n",
              "    } else if (typeof vegaEmbed === \"function\") {\n",
              "      displayChart(vegaEmbed);\n",
              "    } else {\n",
              "      loadScript(\"vega\")\n",
              "        .then(() => loadScript(\"vega-lite\"))\n",
              "        .then(() => loadScript(\"vega-embed\"))\n",
              "        .catch(showError)\n",
              "        .then(() => displayChart(vegaEmbed));\n",
              "    }\n",
              "  })({\"config\": {\"view\": {\"continuousWidth\": 400, \"continuousHeight\": 300}}, \"vconcat\": [{\"mark\": \"area\", \"encoding\": {\"x\": {\"type\": \"temporal\", \"field\": \"built_date\", \"scale\": {\"domain\": {\"selection\": \"selector003\"}}, \"timeUnit\": \"yearmonth\"}, \"y\": {\"type\": \"quantitative\", \"field\": \"price_per_sqm\"}}, \"height\": 200, \"width\": 600}, {\"mark\": \"area\", \"encoding\": {\"x\": {\"type\": \"temporal\", \"field\": \"built_date\", \"timeUnit\": \"yearmonth\"}, \"y\": {\"type\": \"quantitative\", \"field\": \"price_per_sqm\"}}, \"height\": 60, \"selection\": {\"selector003\": {\"type\": \"interval\", \"encodings\": [\"x\"]}}, \"width\": 600}], \"data\": {\"url\": \"https://raw.githubusercontent.com/howard-haowen/kh-real-estate/main/kh-house-prices.csv\"}, \"$schema\": \"https://vega.github.io/schema/vega-lite/v4.8.1.json\"}, {\"mode\": \"vega-lite\"});\n",
              "</script>"
            ]
          },
          "metadata": {
            "tags": []
          },
          "execution_count": 10
        }
      ]
    },
    {
      "cell_type": "markdown",
      "metadata": {
        "id": "whuWlJjDZZHc"
      },
      "source": [
        "Finally, you can also pick three random variables from your dataset and make a 3 times 3 grid of charts, with each varing in the x and y axis combination. To do that, we'll need to specify repetition in two places: once in the argument of the x and y axis (i.e. `alt.repeat()` within `alt.X` and `alt.Y`) and the other time in the outmost layer of the syntax (i.e. `.repeat()` at the very end)."
      ]
    },
    {
      "cell_type": "code",
      "metadata": {
        "colab": {
          "base_uri": "https://localhost:8080/",
          "height": 943
        },
        "id": "7ijWTZAtoMEN",
        "outputId": "837e7f1c-f42c-4fd7-e390-efeed334af0f"
      },
      "source": [
        "#collapse-show\n",
        "\n",
        "alt.Chart(url).mark_circle().encode(\n",
        "    alt.X(alt.repeat(\"column\"), type='quantitative'),\n",
        "    alt.Y(alt.repeat(\"row\"), type='quantitative'),\n",
        "    color='district:N'\n",
        ").properties(\n",
        "    width=150,\n",
        "    height=150\n",
        ").repeat(\n",
        "    row=['property_area', 'price_per_sqm', 'built_year'],\n",
        "    column=['built_year', 'price_per_sqm', 'property_area']\n",
        ")"
      ],
      "execution_count": null,
      "outputs": [
        {
          "output_type": "execute_result",
          "data": {
            "text/plain": [
              "alt.RepeatChart(...)"
            ],
            "text/html": [
              "\n",
              "<div id=\"altair-viz-326373cf482547bbb20eed2c452ef44f\"></div>\n",
              "<script type=\"text/javascript\">\n",
              "  (function(spec, embedOpt){\n",
              "    let outputDiv = document.currentScript.previousElementSibling;\n",
              "    if (outputDiv.id !== \"altair-viz-326373cf482547bbb20eed2c452ef44f\") {\n",
              "      outputDiv = document.getElementById(\"altair-viz-326373cf482547bbb20eed2c452ef44f\");\n",
              "    }\n",
              "    const paths = {\n",
              "      \"vega\": \"https://cdn.jsdelivr.net/npm//vega@5?noext\",\n",
              "      \"vega-lib\": \"https://cdn.jsdelivr.net/npm//vega-lib?noext\",\n",
              "      \"vega-lite\": \"https://cdn.jsdelivr.net/npm//vega-lite@4.8.1?noext\",\n",
              "      \"vega-embed\": \"https://cdn.jsdelivr.net/npm//vega-embed@6?noext\",\n",
              "    };\n",
              "\n",
              "    function loadScript(lib) {\n",
              "      return new Promise(function(resolve, reject) {\n",
              "        var s = document.createElement('script');\n",
              "        s.src = paths[lib];\n",
              "        s.async = true;\n",
              "        s.onload = () => resolve(paths[lib]);\n",
              "        s.onerror = () => reject(`Error loading script: ${paths[lib]}`);\n",
              "        document.getElementsByTagName(\"head\")[0].appendChild(s);\n",
              "      });\n",
              "    }\n",
              "\n",
              "    function showError(err) {\n",
              "      outputDiv.innerHTML = `<div class=\"error\" style=\"color:red;\">${err}</div>`;\n",
              "      throw err;\n",
              "    }\n",
              "\n",
              "    function displayChart(vegaEmbed) {\n",
              "      vegaEmbed(outputDiv, spec, embedOpt)\n",
              "        .catch(err => showError(`Javascript Error: ${err.message}<br>This usually means there's a typo in your chart specification. See the javascript console for the full traceback.`));\n",
              "    }\n",
              "\n",
              "    if(typeof define === \"function\" && define.amd) {\n",
              "      requirejs.config({paths});\n",
              "      require([\"vega-embed\"], displayChart, err => showError(`Error loading script: ${err.message}`));\n",
              "    } else if (typeof vegaEmbed === \"function\") {\n",
              "      displayChart(vegaEmbed);\n",
              "    } else {\n",
              "      loadScript(\"vega\")\n",
              "        .then(() => loadScript(\"vega-lite\"))\n",
              "        .then(() => loadScript(\"vega-embed\"))\n",
              "        .catch(showError)\n",
              "        .then(() => displayChart(vegaEmbed));\n",
              "    }\n",
              "  })({\"config\": {\"view\": {\"continuousWidth\": 400, \"continuousHeight\": 300}}, \"repeat\": {\"column\": [\"built_year\", \"price_per_sqm\", \"property_area\"], \"row\": [\"property_area\", \"price_per_sqm\", \"built_year\"]}, \"spec\": {\"data\": {\"url\": \"https://raw.githubusercontent.com/howard-haowen/kh-real-estate/main/kh-house-prices.csv\"}, \"mark\": \"circle\", \"encoding\": {\"color\": {\"type\": \"nominal\", \"field\": \"district\"}, \"x\": {\"type\": \"quantitative\", \"field\": {\"repeat\": \"column\"}}, \"y\": {\"type\": \"quantitative\", \"field\": {\"repeat\": \"row\"}}}, \"height\": 150, \"width\": 150}, \"$schema\": \"https://vega.github.io/schema/vega-lite/v4.8.1.json\"}, {\"mode\": \"vega-lite\"});\n",
              "</script>"
            ]
          },
          "metadata": {
            "tags": []
          },
          "execution_count": 5
        }
      ]
    },
    {
      "cell_type": "markdown",
      "metadata": {
        "id": "hG42M_9_LUP1"
      },
      "source": [
        "## Recap"
      ]
    },
    {
      "cell_type": "markdown",
      "metadata": {
        "id": "13FdkmHmfQx7"
      },
      "source": [
        "`Altair` is a Python library worth looking into if you want to show interactive charts on your websites and give your visitors some freedom to play with the outcome. This post only shows what I've tried. If you wish to dig deeper into this library, [uwdata/visualization-curriculum](https://github.com/uwdata/visualization-curriculum) seems like a great resource, aside from the [official documentation](https://altair-viz.github.io). Now that you know the average price of real estate in Kaohsiung, TW, would you consider moving down here? 👨‍💻"
      ]
    }
  ]
}