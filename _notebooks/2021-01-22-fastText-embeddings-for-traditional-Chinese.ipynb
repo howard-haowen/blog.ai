{
  "nbformat": 4,
  "nbformat_minor": 0,
  "metadata": {
    "colab": {
      "name": "2021-01-22-fastText-embeddings-for-traditional-Chinese.ipynb",
      "provenance": [],
      "collapsed_sections": []
    },
    "kernelspec": {
      "name": "python3",
      "display_name": "Python 3"
    }
  },
  "cells": [
    {
      "cell_type": "markdown",
      "metadata": {
        "id": "d8kjeVdQFDoA"
      },
      "source": [
        "# fastText embeddings for traditional Chinese\n",
        "> fastText models are useful for finding similar words in a corpus. This post compares two small fastText models trained on data in traditional Chinese.  \n",
        "\n",
        "- toc: true\n",
        "- branch: master\n",
        "- badges: true\n",
        "- categories: [fasttext, embeddings, similar-words, Chinese]\n",
        "- image: images/similar-words.png"
      ]
    },
    {
      "cell_type": "markdown",
      "metadata": {
        "id": "LGJHjMFPJN8s"
      },
      "source": [
        "# Intro"
      ]
    },
    {
      "cell_type": "markdown",
      "metadata": {
        "id": "_2uzUkKLErW6"
      },
      "source": [
        "This video explains to you what `fastText` is all about as if you were five years old. If the video doesn't load, click on this [link](https://www.youtube.com/watch?v=og183Y9yHFs). \n",
        "\n",
        "> youtube: https://www.youtube.com/watch?v=og183Y9yHFs"
      ]
    },
    {
      "cell_type": "markdown",
      "metadata": {
        "id": "QnmTVvvADpx-"
      },
      "source": [
        "# fastText cbow 300 dimensions from Facebook "
      ]
    },
    {
      "cell_type": "markdown",
      "metadata": {
        "id": "Gs093Y3pKh1J"
      },
      "source": [
        "Here're the simple steps for loading the Chinese model released by Facebook, abbreviated here as `ft`.\n",
        "\n"
      ]
    },
    {
      "cell_type": "code",
      "metadata": {
        "id": "ZWXrST3t4gej",
        "colab": {
          "base_uri": "https://localhost:8080/"
        },
        "outputId": "e9d18705-d60e-4e2a-fbea-58a774039ab7"
      },
      "source": [
        "#collapse-output\r\n",
        "!pip install fasttext\r\n",
        "import fasttext"
      ],
      "execution_count": null,
      "outputs": [
        {
          "output_type": "stream",
          "text": [
            "Collecting fasttext\n",
            "\u001b[?25l  Downloading https://files.pythonhosted.org/packages/f8/85/e2b368ab6d3528827b147fdb814f8189acc981a4bc2f99ab894650e05c40/fasttext-0.9.2.tar.gz (68kB)\n",
            "\r\u001b[K     |████▊                           | 10kB 9.3MB/s eta 0:00:01\r\u001b[K     |█████████▌                      | 20kB 14.2MB/s eta 0:00:01\r\u001b[K     |██████████████▎                 | 30kB 18.4MB/s eta 0:00:01\r\u001b[K     |███████████████████             | 40kB 21.1MB/s eta 0:00:01\r\u001b[K     |███████████████████████▉        | 51kB 15.5MB/s eta 0:00:01\r\u001b[K     |████████████████████████████▋   | 61kB 11.6MB/s eta 0:00:01\r\u001b[K     |████████████████████████████████| 71kB 4.4MB/s \n",
            "\u001b[?25hRequirement already satisfied: pybind11>=2.2 in /usr/local/lib/python3.6/dist-packages (from fasttext) (2.6.1)\n",
            "Requirement already satisfied: setuptools>=0.7.0 in /usr/local/lib/python3.6/dist-packages (from fasttext) (51.1.1)\n",
            "Requirement already satisfied: numpy in /usr/local/lib/python3.6/dist-packages (from fasttext) (1.19.5)\n",
            "Building wheels for collected packages: fasttext\n",
            "  Building wheel for fasttext (setup.py) ... \u001b[?25l\u001b[?25hdone\n",
            "  Created wheel for fasttext: filename=fasttext-0.9.2-cp36-cp36m-linux_x86_64.whl size=3039122 sha256=5aa81e1045293ebc74315d2013c28cd0018ec96b8868502d535b71438f1faa0c\n",
            "  Stored in directory: /root/.cache/pip/wheels/98/ba/7f/b154944a1cf5a8cee91c154b75231136cc3a3321ab0e30f592\n",
            "Successfully built fasttext\n",
            "Installing collected packages: fasttext\n",
            "Successfully installed fasttext-0.9.2\n"
          ],
          "name": "stdout"
        }
      ]
    },
    {
      "cell_type": "code",
      "metadata": {
        "id": "2hZ9b03E6_-4",
        "colab": {
          "base_uri": "https://localhost:8080/",
          "height": 313
        },
        "outputId": "15d15d9b-f8ca-4028-c45e-5991b688220f"
      },
      "source": [
        "#collapse-output\r\n",
        "import fasttext.util\r\n",
        "fasttext.util.download_model('zh', if_exists='ignore')  # zh = Chinese"
      ],
      "execution_count": null,
      "outputs": [
        {
          "output_type": "stream",
          "text": [
            "Downloading https://dl.fbaipublicfiles.com/fasttext/vectors-crawl/cc.zh.300.bin.gz\n",
            "\n"
          ],
          "name": "stdout"
        },
        {
          "output_type": "execute_result",
          "data": {
            "application/vnd.google.colaboratory.intrinsic+json": {
              "type": "string"
            },
            "text/plain": [
              "'cc.zh.300.bin'"
            ]
          },
          "metadata": {
            "tags": []
          },
          "execution_count": 2
        }
      ]
    },
    {
      "cell_type": "code",
      "metadata": {
        "colab": {
          "base_uri": "https://localhost:8080/"
        },
        "id": "qw_2PbiXrwla",
        "outputId": "e6f09e14-cc92-46cc-f08a-341b06effbf1"
      },
      "source": [
        "#collapse-output\r\n",
        "ft = fasttext.load_model('cc.zh.300.bin')"
      ],
      "execution_count": null,
      "outputs": [
        {
          "output_type": "stream",
          "text": [
            "Warning : `load_model` does not return WordVectorModel or SupervisedModel any more, but a `FastText` object which is very similar.\n"
          ],
          "name": "stderr"
        }
      ]
    },
    {
      "cell_type": "markdown",
      "metadata": {
        "id": "j9q45k5kQQhx"
      },
      "source": [
        "The `ft` model covers a whopping great number of words, 2000000 to be exact, because it's trained on a HUGE corpus. "
      ]
    },
    {
      "cell_type": "code",
      "metadata": {
        "colab": {
          "base_uri": "https://localhost:8080/"
        },
        "id": "kfvnmmOePSiL",
        "outputId": "ef9df0c5-09aa-49e1-cc14-70a99c19b8e3"
      },
      "source": [
        "len(ft.words)"
      ],
      "execution_count": null,
      "outputs": [
        {
          "output_type": "execute_result",
          "data": {
            "text/plain": [
              "2000000"
            ]
          },
          "metadata": {
            "tags": []
          },
          "execution_count": 5
        }
      ]
    },
    {
      "cell_type": "markdown",
      "metadata": {
        "id": "tRCU3K-sRI-K"
      },
      "source": [
        "Let's check out the top 10 words most similar to \"疫情\" (meaning \"pandemic situation\") according to the `ft` model. The numbers indicate the degree of similarity. The larger the number, the greater the similarity."
      ]
    },
    {
      "cell_type": "code",
      "metadata": {
        "colab": {
          "base_uri": "https://localhost:8080/"
        },
        "id": "zs6Ih7JGQ1k7",
        "outputId": "64b76fe2-9e90-4f11-a1b8-116407bb02eb"
      },
      "source": [
        "#collapse-output\n",
        "ft.get_nearest_neighbors(\"疫情\")"
      ],
      "execution_count": null,
      "outputs": [
        {
          "output_type": "execute_result",
          "data": {
            "text/plain": [
              "[(0.7571706771850586, '禽流感'),\n",
              " (0.6940484046936035, '甲流'),\n",
              " (0.6807129383087158, '流感'),\n",
              " (0.6670429706573486, '疫病'),\n",
              " (0.6640030741691589, '防疫'),\n",
              " (0.6531218886375427, '萨斯病'),\n",
              " (0.6506668329238892, 'H1N1'),\n",
              " (0.6495682001113892, '疫症'),\n",
              " (0.6432098150253296, 'ＳＡＲＳ'),\n",
              " (0.642063319683075, '疫区')]"
            ]
          },
          "metadata": {
            "tags": []
          },
          "execution_count": 6
        }
      ]
    },
    {
      "cell_type": "markdown",
      "metadata": {
        "id": "ffdgOifhRNyq"
      },
      "source": [
        "The results are pretty good. But the downside is that the `ft` model is huge in size. After being unzipped, the model file is about 6.74G. "
      ]
    },
    {
      "cell_type": "markdown",
      "metadata": {
        "id": "_teoCSMHDvG7"
      },
      "source": [
        "# fastText cbow 300 dimensions from [ToastyNews](https://github.com/toastynews/hong-kong-fastText) in Cantonese\r\n"
      ]
    },
    {
      "cell_type": "markdown",
      "metadata": {
        "id": "kuUjuf_aLAXo"
      },
      "source": [
        "[This article](https://medium.com/@kyubi_fox/traditional-chinese-word-embeddings-from-hong-kong-data-db10404194a0) is what inpired me to write this post. The author trained a `fastText` model on articles written in Cantonese, which uses traditional characters. Here're the simple steps for loading his model, abbreviated here as `hk`."
      ]
    },
    {
      "cell_type": "markdown",
      "metadata": {
        "id": "ESDfvFg1TRgX"
      },
      "source": [
        "Since his model is stored on GDrive, I find it more convenient to use the `gdown` library to download the model. "
      ]
    },
    {
      "cell_type": "code",
      "metadata": {
        "id": "EXtX-MEzhcYw"
      },
      "source": [
        "import gdown"
      ],
      "execution_count": null,
      "outputs": []
    },
    {
      "cell_type": "code",
      "metadata": {
        "colab": {
          "base_uri": "https://localhost:8080/",
          "height": 102
        },
        "id": "fnfID1rhhf6v",
        "outputId": "93105b76-5696-4fa9-8771-2e7a8ae92c7c"
      },
      "source": [
        "#collapse-output\r\n",
        "url = 'https://drive.google.com/u/0/uc?export=download&confirm=4g-b&id=1kmZ8NKYDngKtA_-1f3ZdmbLV0CDBy1xA'\r\n",
        "output = 'toasty_news.bin.gz'\r\n",
        "gdown.download(url, output, quiet=False)"
      ],
      "execution_count": null,
      "outputs": [
        {
          "output_type": "stream",
          "text": [
            "Downloading...\n",
            "From: https://drive.google.com/u/0/uc?export=download&confirm=4g-b&id=1kmZ8NKYDngKtA_-1f3ZdmbLV0CDBy1xA\n",
            "To: /content/toasty_news.bin.gz\n",
            "2.77GB [00:26, 106MB/s] \n"
          ],
          "name": "stderr"
        },
        {
          "output_type": "execute_result",
          "data": {
            "application/vnd.google.colaboratory.intrinsic+json": {
              "type": "string"
            },
            "text/plain": [
              "'toasty_news.bin.gz'"
            ]
          },
          "metadata": {
            "tags": []
          },
          "execution_count": 14
        }
      ]
    },
    {
      "cell_type": "markdown",
      "metadata": {
        "id": "GwMGFPbtT0gX"
      },
      "source": [
        "The file needs to be first unzipped to be loaded as a `fastText` model. An easy way to do that is the command `!gunzip` plus a file name."
      ]
    },
    {
      "cell_type": "code",
      "metadata": {
        "id": "25foGlBOkL1K"
      },
      "source": [
        "!gunzip toasty_news.bin.gz"
      ],
      "execution_count": null,
      "outputs": []
    },
    {
      "cell_type": "code",
      "metadata": {
        "colab": {
          "base_uri": "https://localhost:8080/"
        },
        "id": "9gqeZe0rjNjJ",
        "outputId": "251768e0-0ee1-48a0-d0ef-e4da181b23d6"
      },
      "source": [
        "hk = fasttext.load_model('/content/toasty_news.bin')\r\n",
        "hk.get_dimension()"
      ],
      "execution_count": null,
      "outputs": [
        {
          "output_type": "stream",
          "text": [
            "Warning : `load_model` does not return WordVectorModel or SupervisedModel any more, but a `FastText` object which is very similar.\n"
          ],
          "name": "stderr"
        },
        {
          "output_type": "execute_result",
          "data": {
            "text/plain": [
              "300"
            ]
          },
          "metadata": {
            "tags": []
          },
          "execution_count": 4
        }
      ]
    },
    {
      "cell_type": "markdown",
      "metadata": {
        "id": "n0-7_lKSPj0J"
      },
      "source": [
        "The `hk` model covers 222906 words in total. "
      ]
    },
    {
      "cell_type": "code",
      "metadata": {
        "colab": {
          "base_uri": "https://localhost:8080/"
        },
        "id": "sS_imSug17FW",
        "outputId": "1c2a22be-a080-4bd8-9196-a7faa7edf7c8"
      },
      "source": [
        "len(hk.words)"
      ],
      "execution_count": null,
      "outputs": [
        {
          "output_type": "execute_result",
          "data": {
            "text/plain": [
              "222906"
            ]
          },
          "metadata": {
            "tags": []
          },
          "execution_count": 31
        }
      ]
    },
    {
      "cell_type": "markdown",
      "metadata": {
        "id": "fyvBblYbg5IC"
      },
      "source": [
        "# fastText cbow 100 dimensions from Taiwan news in traditional Chinese\r\n"
      ]
    },
    {
      "cell_type": "markdown",
      "metadata": {
        "id": "2VrB65p0Mln5"
      },
      "source": [
        "I trained a `fastText` model on 5816 articles of Taiwan news in traditional Chinese, most of them related to health and diseases. "
      ]
    },
    {
      "cell_type": "code",
      "metadata": {
        "colab": {
          "base_uri": "https://localhost:8080/"
        },
        "id": "p82GhW3wl11K",
        "outputId": "0adbe5cb-07ca-4744-d8e3-f5552faec40c"
      },
      "source": [
        "#collapse-output\r\n",
        "\r\n",
        "tw = fasttext.load_model(path) # \"path\" is where my model is stored. \r\n",
        "tw.get_dimension()"
      ],
      "execution_count": null,
      "outputs": [
        {
          "output_type": "stream",
          "text": [
            "Warning : `load_model` does not return WordVectorModel or SupervisedModel any more, but a `FastText` object which is very similar.\n"
          ],
          "name": "stderr"
        },
        {
          "output_type": "execute_result",
          "data": {
            "text/plain": [
              "100"
            ]
          },
          "metadata": {
            "tags": []
          },
          "execution_count": 7
        }
      ]
    },
    {
      "cell_type": "markdown",
      "metadata": {
        "id": "GpEeHaYxPwWV"
      },
      "source": [
        "The `tw` model covers only 11089 words in total because it's trained on a much smaller corpus than the `hk` model."
      ]
    },
    {
      "cell_type": "code",
      "metadata": {
        "colab": {
          "base_uri": "https://localhost:8080/"
        },
        "id": "-ZVmK50w13V9",
        "outputId": "094e7628-14fb-40ad-b43e-caecd9d9b595"
      },
      "source": [
        "len(tw.words)"
      ],
      "execution_count": null,
      "outputs": [
        {
          "output_type": "execute_result",
          "data": {
            "text/plain": [
              "11089"
            ]
          },
          "metadata": {
            "tags": []
          },
          "execution_count": 30
        }
      ]
    },
    {
      "cell_type": "markdown",
      "metadata": {
        "id": "9plKTL-0m0-a"
      },
      "source": [
        "# Comparison"
      ]
    },
    {
      "cell_type": "markdown",
      "metadata": {
        "id": "7w7_qqOHNy0I"
      },
      "source": [
        "My original plan was to compare all the three models and see what similar words they come up with given the same keyword. But the `ft` model is huge so I can't load all of them into RAM. The RAM limit on Colab is about 12G. So we'll just compare the `tw` and `hk` model. "
      ]
    },
    {
      "cell_type": "markdown",
      "metadata": {
        "id": "Ak6sc9rSOaiF"
      },
      "source": [
        "Since we're not concerned with the degree of similarity, let's write a simple function to show just similar words. "
      ]
    },
    {
      "cell_type": "code",
      "metadata": {
        "id": "n6eaL42bnirT"
      },
      "source": [
        "def similar_words(keyword, model):\r\n",
        "  top_10 = model.get_nearest_neighbors(keyword)\r\n",
        "  top_10 = [w[1] for w in top_10]\r\n",
        "  return top_10"
      ],
      "execution_count": null,
      "outputs": []
    },
    {
      "cell_type": "markdown",
      "metadata": {
        "id": "7SaQe33iUYOZ"
      },
      "source": [
        "Then, calling the function `similar_word()`, with a keyword and a `fastText` model as the required arguments, shows the top ten words most similar to the keyword.  "
      ]
    },
    {
      "cell_type": "code",
      "metadata": {
        "colab": {
          "base_uri": "https://localhost:8080/"
        },
        "id": "EfwjRaOsuIsY",
        "outputId": "eeddc401-b071-4280-dccd-50d94ef3526a"
      },
      "source": [
        "#collapse-output\r\n",
        "similar_words(\"疫情\", hk)"
      ],
      "execution_count": null,
      "outputs": [
        {
          "output_type": "execute_result",
          "data": {
            "text/plain": [
              "['疫症', '病疫情', '武漢肺炎', '疫潮', '疫', '新冠肺炎', '疫調', '疫市', '新型冠狀病毒', '疫病']"
            ]
          },
          "metadata": {
            "tags": []
          },
          "execution_count": 46
        }
      ]
    },
    {
      "cell_type": "markdown",
      "metadata": {
        "id": "ll1nAMulWkYW"
      },
      "source": [
        "Now let's write a function to show the results of the two models side by side in a dataframe. "
      ]
    },
    {
      "cell_type": "code",
      "metadata": {
        "id": "4LuJOsBcokmB"
      },
      "source": [
        "import pandas as pd\r\n",
        "\r\n",
        "models = {'hk': hk, 'tw': tw}\r\n",
        "def compare_models(keyword, **models):\r\n",
        "  hk_results = similar_words(keyword, models['hk'])\r\n",
        "  tw_results = similar_words(keyword, models['tw'])\r\n",
        "  data = {'HKNews_'+keyword: hk_results, 'TWNews_'+keyword: tw_results}\r\n",
        "  df = pd.DataFrame(data)\r\n",
        "  return df"
      ],
      "execution_count": null,
      "outputs": []
    },
    {
      "cell_type": "markdown",
      "metadata": {
        "id": "c3t7RnJrXG4M"
      },
      "source": [
        "Let's test it out with the keyword \"疫情\"."
      ]
    },
    {
      "cell_type": "code",
      "metadata": {
        "colab": {
          "base_uri": "https://localhost:8080/",
          "height": 343
        },
        "id": "6_W7jJT7qV2k",
        "outputId": "19b68e6d-9a81-4e59-e1f9-d76628519c66"
      },
      "source": [
        "#collapse-output\r\n",
        "test = compare_models(\"疫情\", **models)\r\n",
        "test"
      ],
      "execution_count": null,
      "outputs": [
        {
          "output_type": "execute_result",
          "data": {
            "text/html": [
              "<div>\n",
              "<style scoped>\n",
              "    .dataframe tbody tr th:only-of-type {\n",
              "        vertical-align: middle;\n",
              "    }\n",
              "\n",
              "    .dataframe tbody tr th {\n",
              "        vertical-align: top;\n",
              "    }\n",
              "\n",
              "    .dataframe thead th {\n",
              "        text-align: right;\n",
              "    }\n",
              "</style>\n",
              "<table border=\"1\" class=\"dataframe\">\n",
              "  <thead>\n",
              "    <tr style=\"text-align: right;\">\n",
              "      <th></th>\n",
              "      <th>HKNews_疫情</th>\n",
              "      <th>TWNews_疫情</th>\n",
              "    </tr>\n",
              "  </thead>\n",
              "  <tbody>\n",
              "    <tr>\n",
              "      <th>0</th>\n",
              "      <td>疫症</td>\n",
              "      <td>疫情國</td>\n",
              "    </tr>\n",
              "    <tr>\n",
              "      <th>1</th>\n",
              "      <td>病疫情</td>\n",
              "      <td>因應</td>\n",
              "    </tr>\n",
              "    <tr>\n",
              "      <th>2</th>\n",
              "      <td>武漢肺炎</td>\n",
              "      <td>防堵</td>\n",
              "    </tr>\n",
              "    <tr>\n",
              "      <th>3</th>\n",
              "      <td>疫潮</td>\n",
              "      <td>切記</td>\n",
              "    </tr>\n",
              "    <tr>\n",
              "      <th>4</th>\n",
              "      <td>疫</td>\n",
              "      <td>擴散</td>\n",
              "    </tr>\n",
              "    <tr>\n",
              "      <th>5</th>\n",
              "      <td>新冠肺炎</td>\n",
              "      <td>屬地</td>\n",
              "    </tr>\n",
              "    <tr>\n",
              "      <th>6</th>\n",
              "      <td>疫調</td>\n",
              "      <td>疫情處</td>\n",
              "    </tr>\n",
              "    <tr>\n",
              "      <th>7</th>\n",
              "      <td>疫市</td>\n",
              "      <td>升溫</td>\n",
              "    </tr>\n",
              "    <tr>\n",
              "      <th>8</th>\n",
              "      <td>新型冠狀病毒</td>\n",
              "      <td>警訊</td>\n",
              "    </tr>\n",
              "    <tr>\n",
              "      <th>9</th>\n",
              "      <td>疫病</td>\n",
              "      <td>嚴峻</td>\n",
              "    </tr>\n",
              "  </tbody>\n",
              "</table>\n",
              "</div>"
            ],
            "text/plain": [
              "  HKNews_疫情 TWNews_疫情\n",
              "0        疫症       疫情國\n",
              "1       病疫情        因應\n",
              "2      武漢肺炎        防堵\n",
              "3        疫潮        切記\n",
              "4         疫        擴散\n",
              "5      新冠肺炎        屬地\n",
              "6        疫調       疫情處\n",
              "7        疫市        升溫\n",
              "8    新型冠狀病毒        警訊\n",
              "9        疫病        嚴峻"
            ]
          },
          "metadata": {
            "tags": []
          },
          "execution_count": 20
        }
      ]
    },
    {
      "cell_type": "markdown",
      "metadata": {
        "id": "F0skhysyXtR8"
      },
      "source": [
        "It's interesting that similar words of \"總統\" (meaning \"the president\") include \"蔡總統\" (meaning \"President Tsai\", referring to Taiwan's incumbent president) according to the `hk` model but not the `tw` model. I'd expect the opposite. "
      ]
    },
    {
      "cell_type": "code",
      "metadata": {
        "colab": {
          "base_uri": "https://localhost:8080/",
          "height": 343
        },
        "id": "Rbvxxbsn50UR",
        "outputId": "e0a9aec1-0997-492f-f118-b60a1668b80b"
      },
      "source": [
        "#collapse-output\r\n",
        "test = compare_models(\"總統\", **models)\r\n",
        "test"
      ],
      "execution_count": null,
      "outputs": [
        {
          "output_type": "execute_result",
          "data": {
            "text/html": [
              "<div>\n",
              "<style scoped>\n",
              "    .dataframe tbody tr th:only-of-type {\n",
              "        vertical-align: middle;\n",
              "    }\n",
              "\n",
              "    .dataframe tbody tr th {\n",
              "        vertical-align: top;\n",
              "    }\n",
              "\n",
              "    .dataframe thead th {\n",
              "        text-align: right;\n",
              "    }\n",
              "</style>\n",
              "<table border=\"1\" class=\"dataframe\">\n",
              "  <thead>\n",
              "    <tr style=\"text-align: right;\">\n",
              "      <th></th>\n",
              "      <th>HKNews_總統</th>\n",
              "      <th>TWNews_總統</th>\n",
              "    </tr>\n",
              "  </thead>\n",
              "  <tbody>\n",
              "    <tr>\n",
              "      <th>0</th>\n",
              "      <td>代總統</td>\n",
              "      <td>主持</td>\n",
              "    </tr>\n",
              "    <tr>\n",
              "      <th>1</th>\n",
              "      <td>美國總統</td>\n",
              "      <td>總統府</td>\n",
              "    </tr>\n",
              "    <tr>\n",
              "      <th>2</th>\n",
              "      <td>前總統</td>\n",
              "      <td>部長</td>\n",
              "    </tr>\n",
              "    <tr>\n",
              "      <th>3</th>\n",
              "      <td>民選總統</td>\n",
              "      <td>親臨</td>\n",
              "    </tr>\n",
              "    <tr>\n",
              "      <th>4</th>\n",
              "      <td>李總統</td>\n",
              "      <td>局長</td>\n",
              "    </tr>\n",
              "    <tr>\n",
              "      <th>5</th>\n",
              "      <td>副總統</td>\n",
              "      <td>蘇益仁</td>\n",
              "    </tr>\n",
              "    <tr>\n",
              "      <th>6</th>\n",
              "      <td>下任總統</td>\n",
              "      <td>幹事長</td>\n",
              "    </tr>\n",
              "    <tr>\n",
              "      <th>7</th>\n",
              "      <td>總理</td>\n",
              "      <td>副院長</td>\n",
              "    </tr>\n",
              "    <tr>\n",
              "      <th>8</th>\n",
              "      <td>首相</td>\n",
              "      <td>李明亮</td>\n",
              "    </tr>\n",
              "    <tr>\n",
              "      <th>9</th>\n",
              "      <td>蔡總統</td>\n",
              "      <td>座談會</td>\n",
              "    </tr>\n",
              "  </tbody>\n",
              "</table>\n",
              "</div>"
            ],
            "text/plain": [
              "  HKNews_總統 TWNews_總統\n",
              "0       代總統        主持\n",
              "1      美國總統       總統府\n",
              "2       前總統        部長\n",
              "3      民選總統        親臨\n",
              "4       李總統        局長\n",
              "5       副總統       蘇益仁\n",
              "6      下任總統       幹事長\n",
              "7        總理       副院長\n",
              "8        首相       李明亮\n",
              "9       蔡總統       座談會"
            ]
          },
          "metadata": {
            "tags": []
          },
          "execution_count": 48
        }
      ]
    },
    {
      "cell_type": "markdown",
      "metadata": {
        "id": "6ec7F9yxZSCI"
      },
      "source": [
        "Again, it is the `hk` model, not the `tw` model, that knows \"蔡英文\" (meaning \"Tsai Ing-wen\") is most similar to \"蔡總統\" (meaning \"President Tsai\"). The two linguistic terms have the same reference. "
      ]
    },
    {
      "cell_type": "code",
      "metadata": {
        "colab": {
          "base_uri": "https://localhost:8080/",
          "height": 343
        },
        "id": "LihhkgPC59bf",
        "outputId": "cdf3e8a0-7b83-4b3e-af6a-c6e3c528e5ef"
      },
      "source": [
        "test = compare_models(\"蔡總統\", **models)\r\n",
        "test"
      ],
      "execution_count": null,
      "outputs": [
        {
          "output_type": "execute_result",
          "data": {
            "text/html": [
              "<div>\n",
              "<style scoped>\n",
              "    .dataframe tbody tr th:only-of-type {\n",
              "        vertical-align: middle;\n",
              "    }\n",
              "\n",
              "    .dataframe tbody tr th {\n",
              "        vertical-align: top;\n",
              "    }\n",
              "\n",
              "    .dataframe thead th {\n",
              "        text-align: right;\n",
              "    }\n",
              "</style>\n",
              "<table border=\"1\" class=\"dataframe\">\n",
              "  <thead>\n",
              "    <tr style=\"text-align: right;\">\n",
              "      <th></th>\n",
              "      <th>HKNews_蔡總統</th>\n",
              "      <th>TWNews_蔡總統</th>\n",
              "    </tr>\n",
              "  </thead>\n",
              "  <tbody>\n",
              "    <tr>\n",
              "      <th>0</th>\n",
              "      <td>蔡英文</td>\n",
              "      <td>總統</td>\n",
              "    </tr>\n",
              "    <tr>\n",
              "      <th>1</th>\n",
              "      <td>賴清德</td>\n",
              "      <td>主持</td>\n",
              "    </tr>\n",
              "    <tr>\n",
              "      <th>2</th>\n",
              "      <td>馬英九</td>\n",
              "      <td>部長</td>\n",
              "    </tr>\n",
              "    <tr>\n",
              "      <th>3</th>\n",
              "      <td>李總統</td>\n",
              "      <td>親臨</td>\n",
              "    </tr>\n",
              "    <tr>\n",
              "      <th>4</th>\n",
              "      <td>林全</td>\n",
              "      <td>局長</td>\n",
              "    </tr>\n",
              "    <tr>\n",
              "      <th>5</th>\n",
              "      <td>民進黨</td>\n",
              "      <td>陳建仁</td>\n",
              "    </tr>\n",
              "    <tr>\n",
              "      <th>6</th>\n",
              "      <td>柯文哲</td>\n",
              "      <td>座談會</td>\n",
              "    </tr>\n",
              "    <tr>\n",
              "      <th>7</th>\n",
              "      <td>總統</td>\n",
              "      <td>吳</td>\n",
              "    </tr>\n",
              "    <tr>\n",
              "      <th>8</th>\n",
              "      <td>川普</td>\n",
              "      <td>副院長</td>\n",
              "    </tr>\n",
              "    <tr>\n",
              "      <th>9</th>\n",
              "      <td>總統府</td>\n",
              "      <td>總統府</td>\n",
              "    </tr>\n",
              "  </tbody>\n",
              "</table>\n",
              "</div>"
            ],
            "text/plain": [
              "  HKNews_蔡總統 TWNews_蔡總統\n",
              "0        蔡英文         總統\n",
              "1        賴清德         主持\n",
              "2        馬英九         部長\n",
              "3        李總統         親臨\n",
              "4         林全         局長\n",
              "5        民進黨        陳建仁\n",
              "6        柯文哲        座談會\n",
              "7         總統          吳\n",
              "8         川普        副院長\n",
              "9        總統府        總統府"
            ]
          },
          "metadata": {
            "tags": []
          },
          "execution_count": 50
        }
      ]
    },
    {
      "cell_type": "markdown",
      "metadata": {
        "id": "tHqpUcwRaOzJ"
      },
      "source": [
        "Finally, let's write a function to quickly compare a list of keywords."
      ]
    },
    {
      "cell_type": "code",
      "metadata": {
        "id": "E7r_wZjTxhnf"
      },
      "source": [
        "def concat_dfs(keyword_list):\r\n",
        "  dfs = []\r\n",
        "  for word in keyword_list:\r\n",
        "    df = compare_models(word, **models)\r\n",
        "    dfs.append(df)\r\n",
        "  results = pd.concat(dfs, axis=1)\r\n",
        "  return results"
      ],
      "execution_count": null,
      "outputs": []
    },
    {
      "cell_type": "code",
      "metadata": {
        "colab": {
          "base_uri": "https://localhost:8080/",
          "height": 360
        },
        "id": "ICuWS3qPzNl4",
        "outputId": "278236c4-41ff-4954-e764-cf1416f5fca7"
      },
      "source": [
        "#collapse-output\n",
        "keywords = \"疫情 疫苗 病毒 肺炎 檢疫 流感 台灣\"\n",
        "key_list = keywords.split()\n",
        "concat_dfs(key_list)"
      ],
      "execution_count": null,
      "outputs": [
        {
          "output_type": "execute_result",
          "data": {
            "text/html": [
              "<div>\n",
              "<style scoped>\n",
              "    .dataframe tbody tr th:only-of-type {\n",
              "        vertical-align: middle;\n",
              "    }\n",
              "\n",
              "    .dataframe tbody tr th {\n",
              "        vertical-align: top;\n",
              "    }\n",
              "\n",
              "    .dataframe thead th {\n",
              "        text-align: right;\n",
              "    }\n",
              "</style>\n",
              "<table border=\"1\" class=\"dataframe\">\n",
              "  <thead>\n",
              "    <tr style=\"text-align: right;\">\n",
              "      <th></th>\n",
              "      <th>HKNews_疫情</th>\n",
              "      <th>TWNews_疫情</th>\n",
              "      <th>HKNews_疫苗</th>\n",
              "      <th>TWNews_疫苗</th>\n",
              "      <th>HKNews_病毒</th>\n",
              "      <th>TWNews_病毒</th>\n",
              "      <th>HKNews_肺炎</th>\n",
              "      <th>TWNews_肺炎</th>\n",
              "      <th>HKNews_檢疫</th>\n",
              "      <th>TWNews_檢疫</th>\n",
              "      <th>HKNews_流感</th>\n",
              "      <th>TWNews_流感</th>\n",
              "      <th>HKNews_台灣</th>\n",
              "      <th>TWNews_台灣</th>\n",
              "    </tr>\n",
              "  </thead>\n",
              "  <tbody>\n",
              "    <tr>\n",
              "      <th>0</th>\n",
              "      <td>疫症</td>\n",
              "      <td>疫情國</td>\n",
              "      <td>流感疫苗</td>\n",
              "      <td>接種</td>\n",
              "      <td>輪狀病毒</td>\n",
              "      <td>病毒型</td>\n",
              "      <td>武漢肺炎</td>\n",
              "      <td>豬鏈球菌</td>\n",
              "      <td>檢疫所</td>\n",
              "      <td>檢疫官</td>\n",
              "      <td>流感病毒</td>\n",
              "      <td>新流感</td>\n",
              "      <td>臺灣</td>\n",
              "      <td>臺灣</td>\n",
              "    </tr>\n",
              "    <tr>\n",
              "      <th>1</th>\n",
              "      <td>病疫情</td>\n",
              "      <td>因應</td>\n",
              "      <td>免疫針</td>\n",
              "      <td>接種地</td>\n",
              "      <td>含病毒</td>\n",
              "      <td>腺病毒</td>\n",
              "      <td>武肺</td>\n",
              "      <td>鏈球菌</td>\n",
              "      <td>檢疫中心</td>\n",
              "      <td>檢疫站</td>\n",
              "      <td>流行性感冒</td>\n",
              "      <td>防流感</td>\n",
              "      <td>台灣國</td>\n",
              "      <td>根除</td>\n",
              "    </tr>\n",
              "    <tr>\n",
              "      <th>2</th>\n",
              "      <td>武漢肺炎</td>\n",
              "      <td>防堵</td>\n",
              "      <td>抗體</td>\n",
              "      <td>接種為</td>\n",
              "      <td>冠狀病毒</td>\n",
              "      <td>病毒株</td>\n",
              "      <td>新冠肺炎</td>\n",
              "      <td>疾患</td>\n",
              "      <td>檢疫局</td>\n",
              "      <td>檢疫局</td>\n",
              "      <td>禽流感</td>\n",
              "      <td>打流感</td>\n",
              "      <td>台灣政府</td>\n",
              "      <td>歷史</td>\n",
              "    </tr>\n",
              "    <tr>\n",
              "      <th>3</th>\n",
              "      <td>疫潮</td>\n",
              "      <td>切記</td>\n",
              "      <td>藥物</td>\n",
              "      <td>接種點</td>\n",
              "      <td>新病毒</td>\n",
              "      <td>病毒學</td>\n",
              "      <td>病疫</td>\n",
              "      <td>雙球菌</td>\n",
              "      <td>檢疫站</td>\n",
              "      <td>航機</td>\n",
              "      <td>流行病</td>\n",
              "      <td>對流感</td>\n",
              "      <td>中國大陸</td>\n",
              "      <td>一直</td>\n",
              "    </tr>\n",
              "    <tr>\n",
              "      <th>4</th>\n",
              "      <td>疫</td>\n",
              "      <td>擴散</td>\n",
              "      <td>卡介苗</td>\n",
              "      <td>接種卡</td>\n",
              "      <td>腺病毒</td>\n",
              "      <td>型別</td>\n",
              "      <td>病疫情</td>\n",
              "      <td>心包膜炎</td>\n",
              "      <td>隔離</td>\n",
              "      <td>機場</td>\n",
              "      <td>疫症</td>\n",
              "      <td>豬流感</td>\n",
              "      <td>中國</td>\n",
              "      <td>亞太</td>\n",
              "    </tr>\n",
              "    <tr>\n",
              "      <th>5</th>\n",
              "      <td>新冠肺炎</td>\n",
              "      <td>屬地</td>\n",
              "      <td>抗生素</td>\n",
              "      <td>疫苗量</td>\n",
              "      <td>殺病毒</td>\n",
              "      <td>流行株</td>\n",
              "      <td>疫症</td>\n",
              "      <td>特殊</td>\n",
              "      <td>自我隔離</td>\n",
              "      <td>入境</td>\n",
              "      <td>病疫情</td>\n",
              "      <td>抗流感</td>\n",
              "      <td>台灣人</td>\n",
              "      <td>諸多</td>\n",
              "    </tr>\n",
              "    <tr>\n",
              "      <th>6</th>\n",
              "      <td>疫調</td>\n",
              "      <td>疫情處</td>\n",
              "      <td>輪狀病毒</td>\n",
              "      <td>卡介苗</td>\n",
              "      <td>麻疹病毒</td>\n",
              "      <td>株型別</td>\n",
              "      <td>非典型肺炎</td>\n",
              "      <td>侵襲性</td>\n",
              "      <td>隔離者</td>\n",
              "      <td>調查表</td>\n",
              "      <td>麻疹</td>\n",
              "      <td>流感疫</td>\n",
              "      <td>中國台灣</td>\n",
              "      <td>世紀</td>\n",
              "    </tr>\n",
              "    <tr>\n",
              "      <th>7</th>\n",
              "      <td>疫市</td>\n",
              "      <td>升溫</td>\n",
              "      <td>接種</td>\n",
              "      <td>價</td>\n",
              "      <td>防病毒</td>\n",
              "      <td>腸</td>\n",
              "      <td>疫情</td>\n",
              "      <td>冠狀動脈</td>\n",
              "      <td>病毒檢測</td>\n",
              "      <td>港口</td>\n",
              "      <td>流行性腮腺炎</td>\n",
              "      <td>季節性</td>\n",
              "      <td>台灣獨立</td>\n",
              "      <td>跨國性</td>\n",
              "    </tr>\n",
              "    <tr>\n",
              "      <th>8</th>\n",
              "      <td>新型冠狀病毒</td>\n",
              "      <td>警訊</td>\n",
              "      <td>預防接種</td>\n",
              "      <td>多合一</td>\n",
              "      <td>冠状病毒</td>\n",
              "      <td>重組</td>\n",
              "      <td>廢炎</td>\n",
              "      <td>症候群</td>\n",
              "      <td>健康申報</td>\n",
              "      <td>登機</td>\n",
              "      <td>流感疫苗</td>\n",
              "      <td>流感病</td>\n",
              "      <td>台灣社</td>\n",
              "      <td>面臨</td>\n",
              "    </tr>\n",
              "    <tr>\n",
              "      <th>9</th>\n",
              "      <td>疫病</td>\n",
              "      <td>嚴峻</td>\n",
              "      <td>麻疹</td>\n",
              "      <td>廠牌</td>\n",
              "      <td>病原體</td>\n",
              "      <td>毒株</td>\n",
              "      <td>疫病</td>\n",
              "      <td>冠狀病毒</td>\n",
              "      <td>檢測</td>\n",
              "      <td>聲明卡</td>\n",
              "      <td>登革熱</td>\n",
              "      <td>新型</td>\n",
              "      <td>中華民國</td>\n",
              "      <td>之中</td>\n",
              "    </tr>\n",
              "  </tbody>\n",
              "</table>\n",
              "</div>"
            ],
            "text/plain": [
              "  HKNews_疫情 TWNews_疫情 HKNews_疫苗  ... TWNews_流感 HKNews_台灣 TWNews_台灣\n",
              "0        疫症       疫情國      流感疫苗  ...       新流感        臺灣        臺灣\n",
              "1       病疫情        因應       免疫針  ...       防流感       台灣國        根除\n",
              "2      武漢肺炎        防堵        抗體  ...       打流感      台灣政府        歷史\n",
              "3        疫潮        切記        藥物  ...       對流感      中國大陸        一直\n",
              "4         疫        擴散       卡介苗  ...       豬流感        中國        亞太\n",
              "5      新冠肺炎        屬地       抗生素  ...       抗流感       台灣人        諸多\n",
              "6        疫調       疫情處      輪狀病毒  ...       流感疫      中國台灣        世紀\n",
              "7        疫市        升溫        接種  ...       季節性      台灣獨立       跨國性\n",
              "8    新型冠狀病毒        警訊      預防接種  ...       流感病       台灣社        面臨\n",
              "9        疫病        嚴峻        麻疹  ...        新型      中華民國        之中\n",
              "\n",
              "[10 rows x 14 columns]"
            ]
          },
          "metadata": {
            "tags": []
          },
          "execution_count": 27
        }
      ]
    },
    {
      "cell_type": "code",
      "metadata": {
        "colab": {
          "base_uri": "https://localhost:8080/",
          "height": 343
        },
        "id": "KCoSqpxe1ftj",
        "outputId": "42c9a94f-a844-416d-e08d-5be620f4da8e"
      },
      "source": [
        "#collapse-output\r\n",
        "keywords = \"頭痛 發燒 流鼻水 \"\r\n",
        "key_list = keywords.split()\r\n",
        "concat_dfs(key_list)"
      ],
      "execution_count": null,
      "outputs": [
        {
          "output_type": "execute_result",
          "data": {
            "text/html": [
              "<div>\n",
              "<style scoped>\n",
              "    .dataframe tbody tr th:only-of-type {\n",
              "        vertical-align: middle;\n",
              "    }\n",
              "\n",
              "    .dataframe tbody tr th {\n",
              "        vertical-align: top;\n",
              "    }\n",
              "\n",
              "    .dataframe thead th {\n",
              "        text-align: right;\n",
              "    }\n",
              "</style>\n",
              "<table border=\"1\" class=\"dataframe\">\n",
              "  <thead>\n",
              "    <tr style=\"text-align: right;\">\n",
              "      <th></th>\n",
              "      <th>HKNews_頭痛</th>\n",
              "      <th>TWNews_頭痛</th>\n",
              "      <th>HKNews_發燒</th>\n",
              "      <th>TWNews_發燒</th>\n",
              "      <th>HKNews_流鼻水</th>\n",
              "      <th>TWNews_流鼻水</th>\n",
              "    </tr>\n",
              "  </thead>\n",
              "  <tbody>\n",
              "    <tr>\n",
              "      <th>0</th>\n",
              "      <td>偏頭痛</td>\n",
              "      <td>肌肉痛</td>\n",
              "      <td>咳嗽</td>\n",
              "      <td>出現</td>\n",
              "      <td>鼻水</td>\n",
              "      <td>鼻水</td>\n",
              "    </tr>\n",
              "    <tr>\n",
              "      <th>1</th>\n",
              "      <td>頭疼</td>\n",
              "      <td>骨頭痛</td>\n",
              "      <td>病徵</td>\n",
              "      <td>症狀</td>\n",
              "      <td>流鼻涕</td>\n",
              "      <td>流</td>\n",
              "    </tr>\n",
              "    <tr>\n",
              "      <th>2</th>\n",
              "      <td>胃痛</td>\n",
              "      <td>噁心</td>\n",
              "      <td>發高燒</td>\n",
              "      <td>喉嚨痛</td>\n",
              "      <td>咳嗽</td>\n",
              "      <td>鼻塞</td>\n",
              "    </tr>\n",
              "    <tr>\n",
              "      <th>3</th>\n",
              "      <td>痠痛</td>\n",
              "      <td>骨頭</td>\n",
              "      <td>發病</td>\n",
              "      <td>嗅覺</td>\n",
              "      <td>喉嚨痛</td>\n",
              "      <td>喉嚨</td>\n",
              "    </tr>\n",
              "    <tr>\n",
              "      <th>4</th>\n",
              "      <td>酸痛</td>\n",
              "      <td>肌肉</td>\n",
              "      <td>喉嚨痛</td>\n",
              "      <td>味覺</td>\n",
              "      <td>出疹</td>\n",
              "      <td>喉嚨癢</td>\n",
              "    </tr>\n",
              "    <tr>\n",
              "      <th>5</th>\n",
              "      <td>絞痛</td>\n",
              "      <td>後眼</td>\n",
              "      <td>流鼻水</td>\n",
              "      <td>鼻水</td>\n",
              "      <td>發燒</td>\n",
              "      <td>喉嚨痛</td>\n",
              "    </tr>\n",
              "    <tr>\n",
              "      <th>6</th>\n",
              "      <td>腫痛</td>\n",
              "      <td>畏寒</td>\n",
              "      <td>症狀</td>\n",
              "      <td>咳嗽</td>\n",
              "      <td>皮疹</td>\n",
              "      <td>嗅覺</td>\n",
              "    </tr>\n",
              "    <tr>\n",
              "      <th>7</th>\n",
              "      <td>頭暈</td>\n",
              "      <td>倦怠</td>\n",
              "      <td>徵狀</td>\n",
              "      <td>喉嚨</td>\n",
              "      <td>流鼻血</td>\n",
              "      <td>味覺</td>\n",
              "    </tr>\n",
              "    <tr>\n",
              "      <th>8</th>\n",
              "      <td>心絞痛</td>\n",
              "      <td>窩痛</td>\n",
              "      <td>出疹</td>\n",
              "      <td>疲倦</td>\n",
              "      <td>肚瀉</td>\n",
              "      <td>紅疹</td>\n",
              "    </tr>\n",
              "    <tr>\n",
              "      <th>9</th>\n",
              "      <td>腰背痛</td>\n",
              "      <td>結膜</td>\n",
              "      <td>呼吸困難</td>\n",
              "      <td>流</td>\n",
              "      <td>咳血</td>\n",
              "      <td>倦怠</td>\n",
              "    </tr>\n",
              "  </tbody>\n",
              "</table>\n",
              "</div>"
            ],
            "text/plain": [
              "  HKNews_頭痛 TWNews_頭痛 HKNews_發燒 TWNews_發燒 HKNews_流鼻水 TWNews_流鼻水\n",
              "0       偏頭痛       肌肉痛        咳嗽        出現         鼻水         鼻水\n",
              "1        頭疼       骨頭痛        病徵        症狀        流鼻涕          流\n",
              "2        胃痛        噁心       發高燒       喉嚨痛         咳嗽         鼻塞\n",
              "3        痠痛        骨頭        發病        嗅覺        喉嚨痛         喉嚨\n",
              "4        酸痛        肌肉       喉嚨痛        味覺         出疹        喉嚨癢\n",
              "5        絞痛        後眼       流鼻水        鼻水         發燒        喉嚨痛\n",
              "6        腫痛        畏寒        症狀        咳嗽         皮疹         嗅覺\n",
              "7        頭暈        倦怠        徵狀        喉嚨        流鼻血         味覺\n",
              "8       心絞痛        窩痛        出疹        疲倦         肚瀉         紅疹\n",
              "9       腰背痛        結膜      呼吸困難         流         咳血         倦怠"
            ]
          },
          "metadata": {
            "tags": []
          },
          "execution_count": 29
        }
      ]
    },
    {
      "cell_type": "markdown",
      "metadata": {
        "id": "lbF60TVrVViX"
      },
      "source": [
        "# Recap"
      ]
    },
    {
      "cell_type": "markdown",
      "metadata": {
        "id": "e0cjNf_oVLzy"
      },
      "source": [
        "You can easily find out words most similar to a keyword that you're interested in just by loading a `fastText` model. And for it to work pretty well, you don't even need to have a huge corpus at hand. Even if you don't know how to train a model from scratch, you can still make good use of `fastText` by loading pretrained models, like those released by Facebook. In total, [157 languages](https://fasttext.cc/docs/en/crawl-vectors.html) are covered, including even Malay and Malayalam (Btw, check out this [Malayalam grammar](https://www.semanticscholar.org/paper/Malayalam-%3A-a-Grammatical-Sketch-and-a-Text-Jiang/ca79adbc32e4cadcb07887dc7534583c760c8161) that I wrote and is now archived on Semantic Scholar)!\n",
        "\n",
        "> Note: This is my first post written in Jupyter notebook. After I uploaded the `.ipynb` file to GitHub, the post didn't show up automatically and I got a `CI failing` warning in my repo. Listed in the tip section below is what I did to fix the problem, though I'm not sure which of them was the key.\n",
        "\n",
        "> Tip: 1. requested an automatic update by following the instructions in the [troubleshooting guide](https://github.com/fastai/fastpages/blob/master/_fastpages_docs/TROUBLESHOOTING.md) 2. deleted the backtick symbol in the summary section of the front matter 3. uploaded the `.ipynb` file straight from Colab to GitHub instead of doing this manually\n"
      ]
    }
  ]
}
